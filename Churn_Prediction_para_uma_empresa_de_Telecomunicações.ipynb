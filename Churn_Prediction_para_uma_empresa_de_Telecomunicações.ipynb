{
  "nbformat": 4,
  "nbformat_minor": 0,
  "metadata": {
    "colab": {
      "name": "Churn Prediction para uma empresa de Telecomunicações.ipynb",
      "provenance": [],
      "collapsed_sections": [],
      "toc_visible": true,
      "include_colab_link": true
    },
    "kernelspec": {
      "name": "python3",
      "display_name": "Python 3"
    }
  },
  "cells": [
    {
      "cell_type": "markdown",
      "metadata": {
        "id": "view-in-github",
        "colab_type": "text"
      },
      "source": [
        "<a href=\"https://colab.research.google.com/github/johnsigma/meuPortfolio/blob/master/Churn_Prediction_para_uma_empresa_de_Telecomunica%C3%A7%C3%B5es.ipynb\" target=\"_parent\"><img src=\"https://colab.research.google.com/assets/colab-badge.svg\" alt=\"Open In Colab\"/></a>"
      ]
    },
    {
      "cell_type": "markdown",
      "metadata": {
        "id": "IR56trFcPcC1",
        "colab_type": "text"
      },
      "source": [
        "Este é o meu quinto projeto do curso Data Science na Prática do professor Carlos Melo. Este projeto tem como objetivo a construção de um modelo de *Machine Learning* para deteção de possíveis **Churn's** de clientes de uma empresa de telecomunicações.\n",
        "\n",
        "Ela é de extrema importância para a administração e sua análise ao longo do tempo pode mostrar que existe algum problema que deve ser atacado.\n",
        "\n",
        "*Churn* também pode ser usado para identificar potenciais cancelamentos, com um tempo de antecedência, e promover ações direcionadas para tentar reter tais clientes. Essa métrica deve receber atenção pelo fato de que o Custo de Aquisição de Cliente (CAC) é normalmente mais alto que o custo para mantê-los. Ou seja, um alto valor para o *churn rate* é o que não desejamos.\n",
        "\n",
        "![alt text](https://github.com/johnsigma/meuPortfolio/blob/master/imagens/cancelled.jpg?raw=true)\n",
        "\n",
        "<a href='https://www.freepik.com/free-photos-vectors/people'>People vector created by freepik - www.freepik.com</a>"
      ]
    },
    {
      "cell_type": "markdown",
      "metadata": {
        "id": "PF9ygaz95_0C",
        "colab_type": "text"
      },
      "source": [
        "### Mas o que é *Churn Prediction*?\n",
        "\n",
        "O *Churn* é uma métrica que representa o quanto sua empresa perdeu de receitas ou cliente. Você pode ler mais sobre Churn e Churn Rate [aqui](https://resultadosdigitais.com.br/blog/o-que-e-churn/).\n",
        "\n",
        "O *Churn Prediction* é a previsão de abandono de um determinado serviço por um cliente. Você também pode [clicar aqui](https://tiinside.com.br/20/09/2015/churn-prediction-como-ele-pode-alavancar-seu-negocio/) para ler mais sobre este termo.\n",
        "\n",
        "A taxa de Churn (ou *Churn Rate*) é muito importante para as empresas pois através dela uma empresa tem noção de quantos clientes ela está perdendo e a partir disto criar soluções e ações para abaixar esta taxa. Junto a isso surgiu a necessidade de agir antes mesmo dos cliente cancelarem, pois o custo de manutenção de um cliente é mais baixo do que o custo de aquisiçõa de um novo cliente.\n",
        "\n",
        "Mas como as empresas podem direcionar melhor estas ações para não perder clientes? Daí surgiu a necessidade de criar ferramentas para prever se determinado cliente pode vir a cancelar os serviçoes da empresa. Isto é feito levando em conta diversos fatores dos clientes.\n",
        "\n",
        "Uma das técnicas para prever o cancelamento de seriços por clientes é utilizar algoritmos de *Machine Learning*. E é exatamente o objetivo deste projeto, a partir de uma base de dados de uma empresa de telecomunicações, que contém uma coluna (`Churn`) que diz se um cliente cancelou ou não os serviços desta empresa, aplicamos técnicas de aprendizado de máquina para tentar prever se algum outro cliente pode vir a cancelar ou não seus serviços, e se o algoritmo apontar que o cliente é um possível \"cancelador\", então a empresa pode direcionar ações para tentar manter este cliente."
      ]
    },
    {
      "cell_type": "markdown",
      "metadata": {
        "id": "0HVmpIxQWT4Y",
        "colab_type": "text"
      },
      "source": [
        "## Aquisição dos Dados\n",
        "\n",
        "Os dados que vamos utilizar neste projeto foram disponibilizados originalmente na [plataforma de ensino da IBM Developer](https://developer.ibm.com/technologies/data-science/patterns/predict-customer-churn-using-watson-studio-and-jupyter-notebooks/#). O *dataset* completo pode ser encontrado [neste link](https://raw.githubusercontent.com/carlosfab/dsnp2/master/datasets/WA_Fn-UseC_-Telco-Customer-Churn.csv).\n",
        "\n",
        "Não há, no entanto, um dicionário de variáveis explicando cada uma das colunas. Mas através de seus nomes dá pra deduzir o que elas significam."
      ]
    },
    {
      "cell_type": "code",
      "metadata": {
        "id": "oQ4bNy7udtEE",
        "colab_type": "code",
        "colab": {
          "base_uri": "https://localhost:8080/",
          "height": 309
        },
        "outputId": "e15708a5-90a7-47b8-d5ac-cbb29023ba21"
      },
      "source": [
        "# importar os pacotes necessários\n",
        "import pandas as pd\n",
        "import numpy as np\n",
        "import matplotlib.pyplot as plt\n",
        "import seaborn as sns\n",
        "sns.set_style()\n",
        "\n",
        "# importar os dados\n",
        "DATA_PATH = \"https://raw.githubusercontent.com/carlosfab/dsnp2/master/datasets/WA_Fn-UseC_-Telco-Customer-Churn.csv\"\n",
        "df = pd.read_csv(DATA_PATH)\n",
        "\n",
        "# ver as 5 primeiras entradas\n",
        "df.head()"
      ],
      "execution_count": 45,
      "outputs": [
        {
          "output_type": "execute_result",
          "data": {
            "text/html": [
              "<div>\n",
              "<style scoped>\n",
              "    .dataframe tbody tr th:only-of-type {\n",
              "        vertical-align: middle;\n",
              "    }\n",
              "\n",
              "    .dataframe tbody tr th {\n",
              "        vertical-align: top;\n",
              "    }\n",
              "\n",
              "    .dataframe thead th {\n",
              "        text-align: right;\n",
              "    }\n",
              "</style>\n",
              "<table border=\"1\" class=\"dataframe\">\n",
              "  <thead>\n",
              "    <tr style=\"text-align: right;\">\n",
              "      <th></th>\n",
              "      <th>customerID</th>\n",
              "      <th>gender</th>\n",
              "      <th>SeniorCitizen</th>\n",
              "      <th>Partner</th>\n",
              "      <th>Dependents</th>\n",
              "      <th>tenure</th>\n",
              "      <th>PhoneService</th>\n",
              "      <th>MultipleLines</th>\n",
              "      <th>InternetService</th>\n",
              "      <th>OnlineSecurity</th>\n",
              "      <th>OnlineBackup</th>\n",
              "      <th>DeviceProtection</th>\n",
              "      <th>TechSupport</th>\n",
              "      <th>StreamingTV</th>\n",
              "      <th>StreamingMovies</th>\n",
              "      <th>Contract</th>\n",
              "      <th>PaperlessBilling</th>\n",
              "      <th>PaymentMethod</th>\n",
              "      <th>MonthlyCharges</th>\n",
              "      <th>TotalCharges</th>\n",
              "      <th>Churn</th>\n",
              "    </tr>\n",
              "  </thead>\n",
              "  <tbody>\n",
              "    <tr>\n",
              "      <th>0</th>\n",
              "      <td>7590-VHVEG</td>\n",
              "      <td>Female</td>\n",
              "      <td>0</td>\n",
              "      <td>Yes</td>\n",
              "      <td>No</td>\n",
              "      <td>1</td>\n",
              "      <td>No</td>\n",
              "      <td>No phone service</td>\n",
              "      <td>DSL</td>\n",
              "      <td>No</td>\n",
              "      <td>Yes</td>\n",
              "      <td>No</td>\n",
              "      <td>No</td>\n",
              "      <td>No</td>\n",
              "      <td>No</td>\n",
              "      <td>Month-to-month</td>\n",
              "      <td>Yes</td>\n",
              "      <td>Electronic check</td>\n",
              "      <td>29.85</td>\n",
              "      <td>29.85</td>\n",
              "      <td>No</td>\n",
              "    </tr>\n",
              "    <tr>\n",
              "      <th>1</th>\n",
              "      <td>5575-GNVDE</td>\n",
              "      <td>Male</td>\n",
              "      <td>0</td>\n",
              "      <td>No</td>\n",
              "      <td>No</td>\n",
              "      <td>34</td>\n",
              "      <td>Yes</td>\n",
              "      <td>No</td>\n",
              "      <td>DSL</td>\n",
              "      <td>Yes</td>\n",
              "      <td>No</td>\n",
              "      <td>Yes</td>\n",
              "      <td>No</td>\n",
              "      <td>No</td>\n",
              "      <td>No</td>\n",
              "      <td>One year</td>\n",
              "      <td>No</td>\n",
              "      <td>Mailed check</td>\n",
              "      <td>56.95</td>\n",
              "      <td>1889.5</td>\n",
              "      <td>No</td>\n",
              "    </tr>\n",
              "    <tr>\n",
              "      <th>2</th>\n",
              "      <td>3668-QPYBK</td>\n",
              "      <td>Male</td>\n",
              "      <td>0</td>\n",
              "      <td>No</td>\n",
              "      <td>No</td>\n",
              "      <td>2</td>\n",
              "      <td>Yes</td>\n",
              "      <td>No</td>\n",
              "      <td>DSL</td>\n",
              "      <td>Yes</td>\n",
              "      <td>Yes</td>\n",
              "      <td>No</td>\n",
              "      <td>No</td>\n",
              "      <td>No</td>\n",
              "      <td>No</td>\n",
              "      <td>Month-to-month</td>\n",
              "      <td>Yes</td>\n",
              "      <td>Mailed check</td>\n",
              "      <td>53.85</td>\n",
              "      <td>108.15</td>\n",
              "      <td>Yes</td>\n",
              "    </tr>\n",
              "    <tr>\n",
              "      <th>3</th>\n",
              "      <td>7795-CFOCW</td>\n",
              "      <td>Male</td>\n",
              "      <td>0</td>\n",
              "      <td>No</td>\n",
              "      <td>No</td>\n",
              "      <td>45</td>\n",
              "      <td>No</td>\n",
              "      <td>No phone service</td>\n",
              "      <td>DSL</td>\n",
              "      <td>Yes</td>\n",
              "      <td>No</td>\n",
              "      <td>Yes</td>\n",
              "      <td>Yes</td>\n",
              "      <td>No</td>\n",
              "      <td>No</td>\n",
              "      <td>One year</td>\n",
              "      <td>No</td>\n",
              "      <td>Bank transfer (automatic)</td>\n",
              "      <td>42.30</td>\n",
              "      <td>1840.75</td>\n",
              "      <td>No</td>\n",
              "    </tr>\n",
              "    <tr>\n",
              "      <th>4</th>\n",
              "      <td>9237-HQITU</td>\n",
              "      <td>Female</td>\n",
              "      <td>0</td>\n",
              "      <td>No</td>\n",
              "      <td>No</td>\n",
              "      <td>2</td>\n",
              "      <td>Yes</td>\n",
              "      <td>No</td>\n",
              "      <td>Fiber optic</td>\n",
              "      <td>No</td>\n",
              "      <td>No</td>\n",
              "      <td>No</td>\n",
              "      <td>No</td>\n",
              "      <td>No</td>\n",
              "      <td>No</td>\n",
              "      <td>Month-to-month</td>\n",
              "      <td>Yes</td>\n",
              "      <td>Electronic check</td>\n",
              "      <td>70.70</td>\n",
              "      <td>151.65</td>\n",
              "      <td>Yes</td>\n",
              "    </tr>\n",
              "  </tbody>\n",
              "</table>\n",
              "</div>"
            ],
            "text/plain": [
              "   customerID  gender  SeniorCitizen  ... MonthlyCharges TotalCharges  Churn\n",
              "0  7590-VHVEG  Female              0  ...          29.85        29.85     No\n",
              "1  5575-GNVDE    Male              0  ...          56.95       1889.5     No\n",
              "2  3668-QPYBK    Male              0  ...          53.85       108.15    Yes\n",
              "3  7795-CFOCW    Male              0  ...          42.30      1840.75     No\n",
              "4  9237-HQITU  Female              0  ...          70.70       151.65    Yes\n",
              "\n",
              "[5 rows x 21 columns]"
            ]
          },
          "metadata": {
            "tags": []
          },
          "execution_count": 45
        }
      ]
    },
    {
      "cell_type": "markdown",
      "metadata": {
        "id": "Uzq6hdi9od2N",
        "colab_type": "text"
      },
      "source": [
        "## Análise exploratória dos dados\n",
        "\n",
        "É nessa fase que exploramos nosso *dataset*. Vamos:\n",
        " * estudar cada variável (coluna) e suas características\n",
        " * verificar a quantidade de valores ausentes e os valores *outliers*\n",
        " * identificar a variável alvo\n",
        " * ver o balanceamento das classes\n",
        "\n",
        "Isso é importante para conhecermos melhor nosso conjunto de dados e sua qualidade."
      ]
    },
    {
      "cell_type": "markdown",
      "metadata": {
        "id": "CKlAgvU0-pkj",
        "colab_type": "text"
      },
      "source": [
        "### Relatório do *dataset*\n",
        "\n",
        "A seguir vou imprimir um pequeno relatório levantado encima do nosso *dataset*. Ele contém o tamanho do nosso *dataset*, nome e tipo das colunas, os valores ausentes e os valores únicos que uma coluna contém (isso é importante para sabermos se algumas variáveis são categóricas ou não)."
      ]
    },
    {
      "cell_type": "code",
      "metadata": {
        "id": "x9V_BcBApwA1",
        "colab_type": "code",
        "colab": {
          "base_uri": "https://localhost:8080/",
          "height": 1000
        },
        "outputId": "d063b0de-7c95-4b32-b922-d6890e88c588"
      },
      "source": [
        "print(f'Total de entradas do dataset: {df.shape[0]}')\n",
        "print(f'Total de colunas do dataset: {df.shape[1]}')\n",
        "print(f'\\nNomes da coluna / Tipo da coluna\\n\\n{df.dtypes}')\n",
        "print(f'\\n\\nTotal de dados ausentes: {df.isnull().sum().values.sum()}')\n",
        "print(f'\\nDados ausentes por coluna:\\n{(df.isnull().sum()/df.shape[0])}')\n",
        "print(f'\\nValores únicos por coluna:\\n{df.nunique()}')"
      ],
      "execution_count": 46,
      "outputs": [
        {
          "output_type": "stream",
          "text": [
            "Total de entradas do dataset: 7043\n",
            "Total de colunas do dataset: 21\n",
            "\n",
            "Nomes da coluna / Tipo da coluna\n",
            "\n",
            "customerID           object\n",
            "gender               object\n",
            "SeniorCitizen         int64\n",
            "Partner              object\n",
            "Dependents           object\n",
            "tenure                int64\n",
            "PhoneService         object\n",
            "MultipleLines        object\n",
            "InternetService      object\n",
            "OnlineSecurity       object\n",
            "OnlineBackup         object\n",
            "DeviceProtection     object\n",
            "TechSupport          object\n",
            "StreamingTV          object\n",
            "StreamingMovies      object\n",
            "Contract             object\n",
            "PaperlessBilling     object\n",
            "PaymentMethod        object\n",
            "MonthlyCharges      float64\n",
            "TotalCharges         object\n",
            "Churn                object\n",
            "dtype: object\n",
            "\n",
            "\n",
            "Total de dados ausentes: 0\n",
            "\n",
            "Dados ausentes por coluna:\n",
            "customerID          0.0\n",
            "gender              0.0\n",
            "SeniorCitizen       0.0\n",
            "Partner             0.0\n",
            "Dependents          0.0\n",
            "tenure              0.0\n",
            "PhoneService        0.0\n",
            "MultipleLines       0.0\n",
            "InternetService     0.0\n",
            "OnlineSecurity      0.0\n",
            "OnlineBackup        0.0\n",
            "DeviceProtection    0.0\n",
            "TechSupport         0.0\n",
            "StreamingTV         0.0\n",
            "StreamingMovies     0.0\n",
            "Contract            0.0\n",
            "PaperlessBilling    0.0\n",
            "PaymentMethod       0.0\n",
            "MonthlyCharges      0.0\n",
            "TotalCharges        0.0\n",
            "Churn               0.0\n",
            "dtype: float64\n",
            "\n",
            "Valores únicos por coluna:\n",
            "customerID          7043\n",
            "gender                 2\n",
            "SeniorCitizen          2\n",
            "Partner                2\n",
            "Dependents             2\n",
            "tenure                73\n",
            "PhoneService           2\n",
            "MultipleLines          3\n",
            "InternetService        3\n",
            "OnlineSecurity         3\n",
            "OnlineBackup           3\n",
            "DeviceProtection       3\n",
            "TechSupport            3\n",
            "StreamingTV            3\n",
            "StreamingMovies        3\n",
            "Contract               3\n",
            "PaperlessBilling       2\n",
            "PaymentMethod          4\n",
            "MonthlyCharges      1585\n",
            "TotalCharges        6531\n",
            "Churn                  2\n",
            "dtype: int64\n"
          ],
          "name": "stdout"
        }
      ]
    },
    {
      "cell_type": "markdown",
      "metadata": {
        "id": "hRLpeLzqus0V",
        "colab_type": "text"
      },
      "source": [
        "Através dessa pequena análise dos dados percebemos algumas coisas bem interessantes sobre nosso *dataset*. Percebemos que:\n",
        " * aparentemente, não temos dados ausentes para tratar\n",
        " * a variável `TotalCharges` representa um número decimal que deveria ser `float` mas que na verdade é uma `String`, e devemos fazer a conversão\n",
        " * muitas das nossas variáveis tem valores únicos pequenos (2,3 ou 4) e que isso significa que são variáveis categóricas e que devem ser codificadas para valores numéricos\n",
        " * a variável alvo está na coluna `Churn`"
      ]
    },
    {
      "cell_type": "markdown",
      "metadata": {
        "id": "VtmsnlfLwhtU",
        "colab_type": "text"
      },
      "source": [
        "Vamos tentar agora converter a coluna `TotalCharges` de `String` para `float`:"
      ]
    },
    {
      "cell_type": "code",
      "metadata": {
        "id": "6wDAs-1aw4uJ",
        "colab_type": "code",
        "colab": {}
      },
      "source": [
        "# df['TotalCharges'].astype('float64')"
      ],
      "execution_count": null,
      "outputs": []
    },
    {
      "cell_type": "markdown",
      "metadata": {
        "id": "dgT9kjxuxWah",
        "colab_type": "text"
      },
      "source": [
        "Se tentarmos executar o código acima ele irá retornar um erro. O que aconteceu foi que, para o nosso conjunto de dados, os supostos dados ausentes foram representados por alguma String que não representa um número decimal. Então quando tentamos converter essa string em float, o interpretador retorna um erro.\n",
        "\n",
        "Para corrigir isso e convertermos os valores da coluna para `float`, devemos criar uma função que detecta esses valores ausentes e substituí-os por algum outro valor ou então excluir as entradas que contém esses valores ausentes. \n",
        "\n",
        "Como nosso objetivo é contruir um modelo de *Machine Learning* para prever o `Churn` de novas entradas e sabendo que quanto mais entradas nosso modelo tiver mais confiável ele será, então não vamos excluir as entradas com valores ausentes e sim substituir esses valores pela mediana dos valores preenchidos."
      ]
    },
    {
      "cell_type": "code",
      "metadata": {
        "id": "ZVjLEKNRz__L",
        "colab_type": "code",
        "colab": {
          "base_uri": "https://localhost:8080/",
          "height": 51
        },
        "outputId": "abf4b27d-c282-4233-c329-981128e99650"
      },
      "source": [
        "# primeiro devemos criar nossa função que tenta converter uma string em um float\n",
        "# se não for possível converter, então substitui a string por um valor ausente NaN\n",
        "def converter(string):\n",
        "  try:\n",
        "    return float(string)\n",
        "  except ValueError:\n",
        "    return np.nan\n",
        "\n",
        "# agora podemos converter os valores aplicando a função que criamos\n",
        "df['TotalCharges'] = df['TotalCharges'].apply(converter)\n",
        "\n",
        "# vamos conferir o tipo de \"TotalCharges\" agora\n",
        "print(f\"Tipo de dados de 'TotalCharges': {df['TotalCharges'].dtype}\")\n",
        "\n",
        "# vamos verificar os valores ausentes agora que sabemos que eles são do tipo NaN\n",
        "print(f\"Total de dados ausentes de 'TotalCharges' (antes): {df['TotalCharges'].isnull().sum()}\")\n",
        "\n",
        "# agora que convertemos os valores existentes para float e os valores ausentes\n",
        "# para NaN, podemos substituir os valores ausentes pela mediana dos valores da coluna\n",
        "mediana = df['TotalCharges'].median()\n",
        "\n",
        "df['TotalCharges'].fillna(mediana, inplace=True)"
      ],
      "execution_count": 47,
      "outputs": [
        {
          "output_type": "stream",
          "text": [
            "Tipo de dados de 'TotalCharges': float64\n",
            "Total de dados ausentes de 'TotalCharges' (antes): 11\n"
          ],
          "name": "stdout"
        }
      ]
    },
    {
      "cell_type": "markdown",
      "metadata": {
        "id": "AXivYeVo_KPt",
        "colab_type": "text"
      },
      "source": [
        "Outra coisa que percebemos na nossa análise é que a coluna `customerID` não acrescenta em nada no nosso *dataset* se nosso objetivo é construir um modelo de *Machine Learning*, então por isso podemos removê-la do nosso *dataframe*."
      ]
    },
    {
      "cell_type": "code",
      "metadata": {
        "id": "Eh215YLI_eJC",
        "colab_type": "code",
        "colab": {
          "base_uri": "https://localhost:8080/",
          "height": 117
        },
        "outputId": "73ba5506-bf96-4958-85a2-1e18c2018e4b"
      },
      "source": [
        "# removendo a coluna customerID do dataset\n",
        "df.drop('customerID', axis=1, inplace=True)\n",
        "\n",
        "# verificando se a coluna foi realmente excluída\n",
        "df.head(1)"
      ],
      "execution_count": 48,
      "outputs": [
        {
          "output_type": "execute_result",
          "data": {
            "text/html": [
              "<div>\n",
              "<style scoped>\n",
              "    .dataframe tbody tr th:only-of-type {\n",
              "        vertical-align: middle;\n",
              "    }\n",
              "\n",
              "    .dataframe tbody tr th {\n",
              "        vertical-align: top;\n",
              "    }\n",
              "\n",
              "    .dataframe thead th {\n",
              "        text-align: right;\n",
              "    }\n",
              "</style>\n",
              "<table border=\"1\" class=\"dataframe\">\n",
              "  <thead>\n",
              "    <tr style=\"text-align: right;\">\n",
              "      <th></th>\n",
              "      <th>gender</th>\n",
              "      <th>SeniorCitizen</th>\n",
              "      <th>Partner</th>\n",
              "      <th>Dependents</th>\n",
              "      <th>tenure</th>\n",
              "      <th>PhoneService</th>\n",
              "      <th>MultipleLines</th>\n",
              "      <th>InternetService</th>\n",
              "      <th>OnlineSecurity</th>\n",
              "      <th>OnlineBackup</th>\n",
              "      <th>DeviceProtection</th>\n",
              "      <th>TechSupport</th>\n",
              "      <th>StreamingTV</th>\n",
              "      <th>StreamingMovies</th>\n",
              "      <th>Contract</th>\n",
              "      <th>PaperlessBilling</th>\n",
              "      <th>PaymentMethod</th>\n",
              "      <th>MonthlyCharges</th>\n",
              "      <th>TotalCharges</th>\n",
              "      <th>Churn</th>\n",
              "    </tr>\n",
              "  </thead>\n",
              "  <tbody>\n",
              "    <tr>\n",
              "      <th>0</th>\n",
              "      <td>Female</td>\n",
              "      <td>0</td>\n",
              "      <td>Yes</td>\n",
              "      <td>No</td>\n",
              "      <td>1</td>\n",
              "      <td>No</td>\n",
              "      <td>No phone service</td>\n",
              "      <td>DSL</td>\n",
              "      <td>No</td>\n",
              "      <td>Yes</td>\n",
              "      <td>No</td>\n",
              "      <td>No</td>\n",
              "      <td>No</td>\n",
              "      <td>No</td>\n",
              "      <td>Month-to-month</td>\n",
              "      <td>Yes</td>\n",
              "      <td>Electronic check</td>\n",
              "      <td>29.85</td>\n",
              "      <td>29.85</td>\n",
              "      <td>No</td>\n",
              "    </tr>\n",
              "  </tbody>\n",
              "</table>\n",
              "</div>"
            ],
            "text/plain": [
              "   gender  SeniorCitizen Partner  ... MonthlyCharges  TotalCharges Churn\n",
              "0  Female              0     Yes  ...          29.85         29.85    No\n",
              "\n",
              "[1 rows x 20 columns]"
            ]
          },
          "metadata": {
            "tags": []
          },
          "execution_count": 48
        }
      ]
    },
    {
      "cell_type": "markdown",
      "metadata": {
        "id": "s_2HHndz278e",
        "colab_type": "text"
      },
      "source": [
        "### Resumo estatístico das variáveis numéricas\n",
        "\n",
        "Vamos agora utilizar o método `describe` para nos dar um resumo estatístico sobre nossos dados numéricos. Importante ressaltar que a coluna `SeniorCitizen` corresponde a uma variável categórica binária (que assume apenas dois valores, 0 ou 1), ela nos diz se a pessoa que corresponde a entrada é idosa ou não, caso o valor for 1 a pessoa é idosa e se for 0 não idosa."
      ]
    },
    {
      "cell_type": "code",
      "metadata": {
        "id": "3g3DUyxu3QH2",
        "colab_type": "code",
        "colab": {
          "base_uri": "https://localhost:8080/",
          "height": 297
        },
        "outputId": "295ccda9-d538-447e-af7d-fe80ade2c8fb"
      },
      "source": [
        "df.describe()"
      ],
      "execution_count": 49,
      "outputs": [
        {
          "output_type": "execute_result",
          "data": {
            "text/html": [
              "<div>\n",
              "<style scoped>\n",
              "    .dataframe tbody tr th:only-of-type {\n",
              "        vertical-align: middle;\n",
              "    }\n",
              "\n",
              "    .dataframe tbody tr th {\n",
              "        vertical-align: top;\n",
              "    }\n",
              "\n",
              "    .dataframe thead th {\n",
              "        text-align: right;\n",
              "    }\n",
              "</style>\n",
              "<table border=\"1\" class=\"dataframe\">\n",
              "  <thead>\n",
              "    <tr style=\"text-align: right;\">\n",
              "      <th></th>\n",
              "      <th>SeniorCitizen</th>\n",
              "      <th>tenure</th>\n",
              "      <th>MonthlyCharges</th>\n",
              "      <th>TotalCharges</th>\n",
              "    </tr>\n",
              "  </thead>\n",
              "  <tbody>\n",
              "    <tr>\n",
              "      <th>count</th>\n",
              "      <td>7043.000000</td>\n",
              "      <td>7043.000000</td>\n",
              "      <td>7043.000000</td>\n",
              "      <td>7043.000000</td>\n",
              "    </tr>\n",
              "    <tr>\n",
              "      <th>mean</th>\n",
              "      <td>0.162147</td>\n",
              "      <td>32.371149</td>\n",
              "      <td>64.761692</td>\n",
              "      <td>2281.916928</td>\n",
              "    </tr>\n",
              "    <tr>\n",
              "      <th>std</th>\n",
              "      <td>0.368612</td>\n",
              "      <td>24.559481</td>\n",
              "      <td>30.090047</td>\n",
              "      <td>2265.270398</td>\n",
              "    </tr>\n",
              "    <tr>\n",
              "      <th>min</th>\n",
              "      <td>0.000000</td>\n",
              "      <td>0.000000</td>\n",
              "      <td>18.250000</td>\n",
              "      <td>18.800000</td>\n",
              "    </tr>\n",
              "    <tr>\n",
              "      <th>25%</th>\n",
              "      <td>0.000000</td>\n",
              "      <td>9.000000</td>\n",
              "      <td>35.500000</td>\n",
              "      <td>402.225000</td>\n",
              "    </tr>\n",
              "    <tr>\n",
              "      <th>50%</th>\n",
              "      <td>0.000000</td>\n",
              "      <td>29.000000</td>\n",
              "      <td>70.350000</td>\n",
              "      <td>1397.475000</td>\n",
              "    </tr>\n",
              "    <tr>\n",
              "      <th>75%</th>\n",
              "      <td>0.000000</td>\n",
              "      <td>55.000000</td>\n",
              "      <td>89.850000</td>\n",
              "      <td>3786.600000</td>\n",
              "    </tr>\n",
              "    <tr>\n",
              "      <th>max</th>\n",
              "      <td>1.000000</td>\n",
              "      <td>72.000000</td>\n",
              "      <td>118.750000</td>\n",
              "      <td>8684.800000</td>\n",
              "    </tr>\n",
              "  </tbody>\n",
              "</table>\n",
              "</div>"
            ],
            "text/plain": [
              "       SeniorCitizen       tenure  MonthlyCharges  TotalCharges\n",
              "count    7043.000000  7043.000000     7043.000000   7043.000000\n",
              "mean        0.162147    32.371149       64.761692   2281.916928\n",
              "std         0.368612    24.559481       30.090047   2265.270398\n",
              "min         0.000000     0.000000       18.250000     18.800000\n",
              "25%         0.000000     9.000000       35.500000    402.225000\n",
              "50%         0.000000    29.000000       70.350000   1397.475000\n",
              "75%         0.000000    55.000000       89.850000   3786.600000\n",
              "max         1.000000    72.000000      118.750000   8684.800000"
            ]
          },
          "metadata": {
            "tags": []
          },
          "execution_count": 49
        }
      ]
    },
    {
      "cell_type": "markdown",
      "metadata": {
        "id": "6h7w6NTu3iXN",
        "colab_type": "text"
      },
      "source": [
        "Percebemos que não há indícios de valores *outiliers* nas colunas numéricas. Para termos uma ideia maior se há ou não valores *outiliers* podemos plotar boxplot's das variáveis. Este tipo de gráfico nos ajuda a identificar possíveis valores extremos."
      ]
    },
    {
      "cell_type": "code",
      "metadata": {
        "id": "oZvofhaQ4JK3",
        "colab_type": "code",
        "colab": {
          "base_uri": "https://localhost:8080/",
          "height": 513
        },
        "outputId": "958f443f-7a81-4812-fb7a-0e8de56f5340"
      },
      "source": [
        "fig, ax = plt.subplots(nrows=2, ncols=2, figsize=(10,7))\n",
        "sns.boxplot(df['SeniorCitizen'], ax=ax[0][0])\n",
        "sns.boxplot(df['tenure'], ax=ax[0][1])\n",
        "sns.boxplot(df['MonthlyCharges'], ax=ax[1][0])\n",
        "sns.boxplot(df['TotalCharges'], ax=ax[1][1])\n",
        "\n",
        "plt.tight_layout()"
      ],
      "execution_count": 50,
      "outputs": [
        {
          "output_type": "display_data",
          "data": {
            "image/png": "[encoded data removed]",
            "text/plain": [
              "<Figure size 720x504 with 4 Axes>"
            ]
          },
          "metadata": {
            "tags": [],
            "needs_background": "light"
          }
        }
      ]
    },
    {
      "cell_type": "markdown",
      "metadata": {
        "id": "HBdUmRjt5-88",
        "colab_type": "text"
      },
      "source": [
        "A variável `MonthlyCharges` corresponde ao valor que o cliente paga mensalmente pela assinatura dos seus serviços.\n",
        "\n",
        "Enquanto a variável `TotalCharges` nos diz o total que um cliente pagou durante todo o tempo que ele assinou algum serviço da empresa. Por exemplo, se temos um cliente que tem uma assinatura mensal de 50 e ele é assinante já faz dois meses, então seu `MonthlyCharges` é 50 e seus `TotalCharges` é 100.\n",
        "\n",
        "A variável `tenure` corresponde ao tempo que um cliente permanece assinando determinado serviço. Não há a informação nos dizendo qual a unidade de tempo empregada, mas observando o `MonthlyCharges` e o `TotalCharges` de algumas entradas (clientes) e dividindo o segundo pelo primeiro verificamos que o resultado é o `tenure` do cliente. Você mesmo pode verificar isso pegando qualquer cliente do nosso *dataset*, dividir `TotalCharges` por `MonthlyCharges` e comparar o resultado com o `tenure` do determinado cliente.\n",
        "\n",
        "\n",
        "\n",
        "Os gráficos confirmam que não há *outiliers*. O que é uma preocupação a menos na hora de prepararmos nossos dados para o modelo de *Machine Learning*."
      ]
    },
    {
      "cell_type": "markdown",
      "metadata": {
        "id": "9iDOJ93u-ETX",
        "colab_type": "text"
      },
      "source": [
        "### *Labels* únicos das variáveis\n",
        "\n",
        "Vamos agora verificar quais os labels das nossas variáveis categóricas. Isso é importante para a etapa de preparação de dados, onde podemos aplicar algumas técnicas de transformação nas nossas variáveis categóricas, transformando elas em variáveis categóricas numéricas, pois assim podemos melhorar o desempenho do nosso modelo de *Machine Learning*."
      ]
    },
    {
      "cell_type": "code",
      "metadata": {
        "id": "P5Tk7qcM_c5H",
        "colab_type": "code",
        "colab": {
          "base_uri": "https://localhost:8080/",
          "height": 85
        },
        "outputId": "d6e7b0bb-1329-4ddf-95ee-6a5d0a015462"
      },
      "source": [
        "np.unique(df.select_dtypes('object').values)"
      ],
      "execution_count": 51,
      "outputs": [
        {
          "output_type": "execute_result",
          "data": {
            "text/plain": [
              "array(['Bank transfer (automatic)', 'Credit card (automatic)', 'DSL',\n",
              "       'Electronic check', 'Female', 'Fiber optic', 'Mailed check',\n",
              "       'Male', 'Month-to-month', 'No', 'No internet service',\n",
              "       'No phone service', 'One year', 'Two year', 'Yes'], dtype=object)"
            ]
          },
          "metadata": {
            "tags": []
          },
          "execution_count": 51
        }
      ]
    },
    {
      "cell_type": "markdown",
      "metadata": {
        "id": "OLJ55ZkNAmBy",
        "colab_type": "text"
      },
      "source": [
        "Como vimos no `array` acima, temos os labels `No`, `No internet service` e `No phone service`. Podemos então assumir que todos esses valores representam uma negativa de serviço e por isso iremos substituir todos esses label por `No`. Pois na prática significam a mesma coisa e fazendo a substituição podemos melhorar o desempenho do nosso modelo."
      ]
    },
    {
      "cell_type": "code",
      "metadata": {
        "id": "-kizLsabDZft",
        "colab_type": "code",
        "colab": {}
      },
      "source": [
        "df_clean = df.replace(['No phone service', 'No internet service'], 'No')"
      ],
      "execution_count": 52,
      "outputs": []
    },
    {
      "cell_type": "markdown",
      "metadata": {
        "id": "FYIn3qPUEiEL",
        "colab_type": "text"
      },
      "source": [
        "### Verificando o balanceamento das classes\n",
        "\n",
        "Para concluir essas fase de análise exploratória, vamos verificar o balanceamento das classes da nossa variável alvo (`Churn`). Para isso vamos plotar um gráfico de barras para um melhor entendimento visual."
      ]
    },
    {
      "cell_type": "code",
      "metadata": {
        "id": "OW65ujo6E5LD",
        "colab_type": "code",
        "colab": {
          "base_uri": "https://localhost:8080/",
          "height": 297
        },
        "outputId": "d883b8db-6b2c-4ee5-a6df-a03c795a63d9"
      },
      "source": [
        "fig, ax = plt.subplots()\n",
        "sns.countplot(df_clean.Churn, ax=ax)\n",
        "\n",
        "plt.tight_layout()"
      ],
      "execution_count": 53,
      "outputs": [
        {
          "output_type": "display_data",
          "data": {
            "image/png": "[encoded data removed]",
            "text/plain": [
              "<Figure size 432x288 with 1 Axes>"
            ]
          },
          "metadata": {
            "tags": [],
            "needs_background": "light"
          }
        }
      ]
    },
    {
      "cell_type": "markdown",
      "metadata": {
        "id": "88Oj4UduHKkw",
        "colab_type": "text"
      },
      "source": [
        "É fácil indentificar que a classe `Yes` ocorre com uma frequência bem inferior à classe `No`, na fase de preparação de dados vamos balancear as duas classes para treinar com mais precisão nosso modelo de machine learning."
      ]
    },
    {
      "cell_type": "markdown",
      "metadata": {
        "id": "u_FWa-x-HrsI",
        "colab_type": "text"
      },
      "source": [
        "## Preparação dos Dados\n",
        "\n",
        "Nesta etapa vamos fazer um pré-processamento dos nossos dados, como balancear nossas classes e substituir os labels categóricos de string para numéricos, afim de construir nosso modelo de machine learning.\n",
        "\n",
        "As variáveis (ou *features*) que contém 2 labels únicos vão ser processadas usando o `LabelEncoder`, que irá transformar essas variáveis categóricas em numéricas binárias (com os valores 0 ou 1). As outras variáveis categóricas serão processadas utilizando o método `get_dummies`, que divide uma variável categórica em outras variáveis numéricas binárias."
      ]
    },
    {
      "cell_type": "code",
      "metadata": {
        "id": "pDbURi52JTOJ",
        "colab_type": "code",
        "colab": {}
      },
      "source": [
        "# importar os pacotes necessários\n",
        "from sklearn.preprocessing import LabelEncoder"
      ],
      "execution_count": 54,
      "outputs": []
    },
    {
      "cell_type": "code",
      "metadata": {
        "id": "M-HHxsRQJhEA",
        "colab_type": "code",
        "colab": {
          "base_uri": "https://localhost:8080/",
          "height": 196
        },
        "outputId": "4cbbe6a5-4d69-4467-c4a5-d11880d092a6"
      },
      "source": [
        "# criando um lista com as variáveis binárias e separando as variáveis categóricas\n",
        "# e numéricas em outras listas\n",
        "var_binarias = df_clean.nunique()[df_clean.nunique() == 2].keys().tolist()\n",
        "var_numericas = [col for col in df_clean.select_dtypes(['int', 'float']).columns.tolist() if col not in var_binarias]\n",
        "var_categoricas = [col for col in df_clean.columns.to_list() if col not in var_binarias + var_numericas]\n",
        "\n",
        "# copiando o dataframe para outra variável\n",
        "df_proc = df_clean.copy()\n",
        "\n",
        "# Label Encoding para as variáveis binárias\n",
        "le = LabelEncoder()\n",
        "for n in var_binarias:\n",
        "  df_proc[n] = le.fit_transform(df_proc[n])\n",
        "\n",
        "# Get Dummies para as variáveis com mais de 2 labels\n",
        "df_proc = pd.get_dummies(df_proc, columns=var_categoricas)\n",
        "\n",
        "# 3 primeiras entradas do daraframe processado\n",
        "df_proc.head(3)"
      ],
      "execution_count": 55,
      "outputs": [
        {
          "output_type": "execute_result",
          "data": {
            "text/html": [
              "<div>\n",
              "<style scoped>\n",
              "    .dataframe tbody tr th:only-of-type {\n",
              "        vertical-align: middle;\n",
              "    }\n",
              "\n",
              "    .dataframe tbody tr th {\n",
              "        vertical-align: top;\n",
              "    }\n",
              "\n",
              "    .dataframe thead th {\n",
              "        text-align: right;\n",
              "    }\n",
              "</style>\n",
              "<table border=\"1\" class=\"dataframe\">\n",
              "  <thead>\n",
              "    <tr style=\"text-align: right;\">\n",
              "      <th></th>\n",
              "      <th>gender</th>\n",
              "      <th>SeniorCitizen</th>\n",
              "      <th>Partner</th>\n",
              "      <th>Dependents</th>\n",
              "      <th>tenure</th>\n",
              "      <th>PhoneService</th>\n",
              "      <th>MultipleLines</th>\n",
              "      <th>OnlineSecurity</th>\n",
              "      <th>OnlineBackup</th>\n",
              "      <th>DeviceProtection</th>\n",
              "      <th>TechSupport</th>\n",
              "      <th>StreamingTV</th>\n",
              "      <th>StreamingMovies</th>\n",
              "      <th>PaperlessBilling</th>\n",
              "      <th>MonthlyCharges</th>\n",
              "      <th>TotalCharges</th>\n",
              "      <th>Churn</th>\n",
              "      <th>InternetService_DSL</th>\n",
              "      <th>InternetService_Fiber optic</th>\n",
              "      <th>InternetService_No</th>\n",
              "      <th>Contract_Month-to-month</th>\n",
              "      <th>Contract_One year</th>\n",
              "      <th>Contract_Two year</th>\n",
              "      <th>PaymentMethod_Bank transfer (automatic)</th>\n",
              "      <th>PaymentMethod_Credit card (automatic)</th>\n",
              "      <th>PaymentMethod_Electronic check</th>\n",
              "      <th>PaymentMethod_Mailed check</th>\n",
              "    </tr>\n",
              "  </thead>\n",
              "  <tbody>\n",
              "    <tr>\n",
              "      <th>0</th>\n",
              "      <td>0</td>\n",
              "      <td>0</td>\n",
              "      <td>1</td>\n",
              "      <td>0</td>\n",
              "      <td>1</td>\n",
              "      <td>0</td>\n",
              "      <td>0</td>\n",
              "      <td>0</td>\n",
              "      <td>1</td>\n",
              "      <td>0</td>\n",
              "      <td>0</td>\n",
              "      <td>0</td>\n",
              "      <td>0</td>\n",
              "      <td>1</td>\n",
              "      <td>29.85</td>\n",
              "      <td>29.85</td>\n",
              "      <td>0</td>\n",
              "      <td>1</td>\n",
              "      <td>0</td>\n",
              "      <td>0</td>\n",
              "      <td>1</td>\n",
              "      <td>0</td>\n",
              "      <td>0</td>\n",
              "      <td>0</td>\n",
              "      <td>0</td>\n",
              "      <td>1</td>\n",
              "      <td>0</td>\n",
              "    </tr>\n",
              "    <tr>\n",
              "      <th>1</th>\n",
              "      <td>1</td>\n",
              "      <td>0</td>\n",
              "      <td>0</td>\n",
              "      <td>0</td>\n",
              "      <td>34</td>\n",
              "      <td>1</td>\n",
              "      <td>0</td>\n",
              "      <td>1</td>\n",
              "      <td>0</td>\n",
              "      <td>1</td>\n",
              "      <td>0</td>\n",
              "      <td>0</td>\n",
              "      <td>0</td>\n",
              "      <td>0</td>\n",
              "      <td>56.95</td>\n",
              "      <td>1889.50</td>\n",
              "      <td>0</td>\n",
              "      <td>1</td>\n",
              "      <td>0</td>\n",
              "      <td>0</td>\n",
              "      <td>0</td>\n",
              "      <td>1</td>\n",
              "      <td>0</td>\n",
              "      <td>0</td>\n",
              "      <td>0</td>\n",
              "      <td>0</td>\n",
              "      <td>1</td>\n",
              "    </tr>\n",
              "    <tr>\n",
              "      <th>2</th>\n",
              "      <td>1</td>\n",
              "      <td>0</td>\n",
              "      <td>0</td>\n",
              "      <td>0</td>\n",
              "      <td>2</td>\n",
              "      <td>1</td>\n",
              "      <td>0</td>\n",
              "      <td>1</td>\n",
              "      <td>1</td>\n",
              "      <td>0</td>\n",
              "      <td>0</td>\n",
              "      <td>0</td>\n",
              "      <td>0</td>\n",
              "      <td>1</td>\n",
              "      <td>53.85</td>\n",
              "      <td>108.15</td>\n",
              "      <td>1</td>\n",
              "      <td>1</td>\n",
              "      <td>0</td>\n",
              "      <td>0</td>\n",
              "      <td>1</td>\n",
              "      <td>0</td>\n",
              "      <td>0</td>\n",
              "      <td>0</td>\n",
              "      <td>0</td>\n",
              "      <td>0</td>\n",
              "      <td>1</td>\n",
              "    </tr>\n",
              "  </tbody>\n",
              "</table>\n",
              "</div>"
            ],
            "text/plain": [
              "   gender  ...  PaymentMethod_Mailed check\n",
              "0       0  ...                           0\n",
              "1       1  ...                           1\n",
              "2       1  ...                           1\n",
              "\n",
              "[3 rows x 27 columns]"
            ]
          },
          "metadata": {
            "tags": []
          },
          "execution_count": 55
        }
      ]
    },
    {
      "cell_type": "markdown",
      "metadata": {
        "id": "zNZXHFCgNMXh",
        "colab_type": "text"
      },
      "source": [
        "Percebam que agora nosso conjunto de dados contém apenas dados numéricos e por causa do método `get_dummies` foram criadas outras colunas binárias."
      ]
    },
    {
      "cell_type": "markdown",
      "metadata": {
        "id": "MOhjEgO6NdMZ",
        "colab_type": "text"
      },
      "source": [
        "## Modelo de *Machine Learning*\n",
        "\n",
        "Finalmente chegamos na hora de implementar nosso modelo, mas essa também é a etapa mais difícil. Primeiro devemos divir nosso conjunto de dados entre dados de treino e teste,depois padronizar nossos dados e balancear nossas classes, vamos utilizar também a técnica de `Cross Validation` para avaliarmos diferentes modelos de machine learning e também testaremos a técnica de `Ensemble` para verificar se ela melhora o desempenho do nosso modelo.\n",
        "\n",
        "![alt text](https://github.com/johnsigma/meuPortfolio/blob/master/imagens/MachineLearning.jpg?raw=true)\n",
        "\n",
        "<a href='https://www.freepik.com/free-photos-vectors/technology'>Technology vector created by upklyak - www.freepik.com</a>"
      ]
    },
    {
      "cell_type": "code",
      "metadata": {
        "id": "8ZKw6oyuPHjY",
        "colab_type": "code",
        "colab": {}
      },
      "source": [
        "# importar os pacotes necessários\n",
        "from imblearn.under_sampling import RandomUnderSampler\n",
        "from sklearn.model_selection import train_test_split\n",
        "from imblearn.under_sampling import RandomUnderSampler"
      ],
      "execution_count": 56,
      "outputs": []
    },
    {
      "cell_type": "code",
      "metadata": {
        "id": "ckin__-iPY41",
        "colab_type": "code",
        "colab": {}
      },
      "source": [
        "# separar nossa matriz do vetor alvo\n",
        "X = df_proc.drop('Churn', axis=1)\n",
        "y = df_proc['Churn']\n",
        "\n",
        "# dividir os dados entre treino e teste\n",
        "X_train, X_test, y_train, y_test = train_test_split(X, y)"
      ],
      "execution_count": 57,
      "outputs": []
    },
    {
      "cell_type": "markdown",
      "metadata": {
        "id": "cO6LxBIjQRcU",
        "colab_type": "text"
      },
      "source": [
        "Agora vamos balancear nossas classes da variável alvo. Para isso vamos utilizar o `RandomUnderSampler` da biblioteca `imblearn`, vamos utilizá-lo pois ele faz o balanceamento preservando nossa classe minoritária.\n",
        "\n",
        "Não vamos ainda padronizar nossos dados, para isso vamos criar um *pipeline* que irá fazer isso para cada modelo, esta é uma forma de não enviesar nosso modelo de machine learning."
      ]
    },
    {
      "cell_type": "code",
      "metadata": {
        "id": "BX8quMWkQuUv",
        "colab_type": "code",
        "colab": {
          "base_uri": "https://localhost:8080/",
          "height": 351
        },
        "outputId": "87fb5ff5-0260-4892-a828-f35b585101ef"
      },
      "source": [
        "# balancear os dados\n",
        "rus = RandomUnderSampler()\n",
        "X_rus, y_rus = rus.fit_sample(X_train, y_train)\n",
        "\n",
        "# plotar um gráfico de barras para visualizar a distribuição das classes depois\n",
        "# de balancear o dataset\n",
        "fig, ax = plt.subplots(ncols=2, figsize=(10,4))\n",
        "sns.countplot(y_train, ax=ax[0])\n",
        "ax[0].set_title('Antes do balanceamento')\n",
        "sns.countplot(y_rus, ax=ax[1]);\n",
        "ax[1].set_title('Depois do balanceamento')\n",
        "\n",
        "plt.tight_layout()"
      ],
      "execution_count": 58,
      "outputs": [
        {
          "output_type": "stream",
          "text": [
            "/usr/local/lib/python3.6/dist-packages/sklearn/utils/deprecation.py:87: FutureWarning: Function safe_indexing is deprecated; safe_indexing is deprecated in version 0.22 and will be removed in version 0.24.\n",
            "  warnings.warn(msg, category=FutureWarning)\n"
          ],
          "name": "stderr"
        },
        {
          "output_type": "display_data",
          "data": {
            "image/png": "[encoded data removed]",
            "text/plain": [
              "<Figure size 720x288 with 2 Axes>"
            ]
          },
          "metadata": {
            "tags": [],
            "needs_background": "light"
          }
        }
      ]
    },
    {
      "cell_type": "markdown",
      "metadata": {
        "id": "Ly0vC2ceBck0",
        "colab_type": "text"
      },
      "source": [
        "Agora nossas classes estão balanceadas. Note que agora nossa coluna é binária, ou seja, as classes são representada por 0 ou 1, e não mais pelos labels `No` e `Yes`. O que impacta positivamente no nosso modelo de machine learning."
      ]
    },
    {
      "cell_type": "markdown",
      "metadata": {
        "id": "U83OBSMlCWXU",
        "colab_type": "text"
      },
      "source": [
        "Agora vamos aplicar a validação cruzada em vários modelos de machine learning e vamos escolher aqueles que obtiverem melhor resultado previamente. Importante ressaltar que nesta etapa não vamos mudar os hiperparâmetros dos modelos, isso será feito quando o melhor modelo for selecionado. Os modelos que vamos avaliar são:\n",
        "* Decision Tree\n",
        "* Regressão Logística\n",
        "* XGBoost\n",
        "* SVC\n",
        "* SGDC\n",
        "* Vamos avaliar também o modelo resultante do método de *Ensemble* dos outros modelos utilizando o `VotingClassifier`\n",
        "\n",
        "Importante ressaltar que vamos avaliar os modelos olhando o `recall` como métrica. Pois nosso modelo visa classificar, em 0 (false) ou 1 (true), nossa variável alvo (`Churn`) e o `recall` nos diz qual a taxa de previsão de positivos nosso modelo prevê corretamente."
      ]
    },
    {
      "cell_type": "code",
      "metadata": {
        "id": "y3ztBOs6Jwz5",
        "colab_type": "code",
        "colab": {}
      },
      "source": [
        "# aqui vamos definir uma função onde fazemos a padronização dos dados e\n",
        "# a validação cruzada de cada modelo passado\n",
        "from sklearn.pipeline import make_pipeline\n",
        "from sklearn.preprocessing import StandardScaler\n",
        "from sklearn.model_selection import cross_val_score\n",
        "\n",
        "def validar_modelo(clf, X, y):\n",
        "  model = make_pipeline(StandardScaler(), clf)\n",
        "  scores = cross_val_score(model, X, y, scoring='recall')\n",
        "\n",
        "  return scores.mean()"
      ],
      "execution_count": 59,
      "outputs": []
    },
    {
      "cell_type": "code",
      "metadata": {
        "id": "GaaqZxmLEKTY",
        "colab_type": "code",
        "colab": {
          "base_uri": "https://localhost:8080/",
          "height": 235
        },
        "outputId": "31954236-5acc-4ad8-8fb0-1e0c9df07b30"
      },
      "source": [
        "# importar os pacotes necessários\n",
        "from sklearn.tree import DecisionTreeClassifier\n",
        "from sklearn.linear_model import LogisticRegression\n",
        "from xgboost import XGBClassifier\n",
        "from sklearn.svm import SVC\n",
        "from sklearn.linear_model import SGDClassifier\n",
        "from sklearn.ensemble import VotingClassifier\n",
        "\n",
        "# instanciar os modelos\n",
        "dt = DecisionTreeClassifier()\n",
        "rl = LogisticRegression()\n",
        "xgb = XGBClassifier()\n",
        "svc = SVC()\n",
        "sgdc = SGDClassifier()\n",
        "vc = VotingClassifier(estimators=[('dt',dt),('rl',rl),('xgb',xgb),('svc',svc),('sgdc',sgdc)])\n",
        "\n",
        "# avaliar os modelos\n",
        "model = []\n",
        "recall = []\n",
        "\n",
        "for clf in (dt, rl, xgb, svc, sgdc, vc):\n",
        "  model.append(clf.__class__.__name__)\n",
        "  recall.append(validar_modelo(clf, X_rus, y_rus))\n",
        "\n",
        "# exibir as tabelas com recall, precision e accuracy dos modelos\n",
        "pd.DataFrame(data=recall, index=model, columns=['Recall'])"
      ],
      "execution_count": 60,
      "outputs": [
        {
          "output_type": "execute_result",
          "data": {
            "text/html": [
              "<div>\n",
              "<style scoped>\n",
              "    .dataframe tbody tr th:only-of-type {\n",
              "        vertical-align: middle;\n",
              "    }\n",
              "\n",
              "    .dataframe tbody tr th {\n",
              "        vertical-align: top;\n",
              "    }\n",
              "\n",
              "    .dataframe thead th {\n",
              "        text-align: right;\n",
              "    }\n",
              "</style>\n",
              "<table border=\"1\" class=\"dataframe\">\n",
              "  <thead>\n",
              "    <tr style=\"text-align: right;\">\n",
              "      <th></th>\n",
              "      <th>Recall</th>\n",
              "    </tr>\n",
              "  </thead>\n",
              "  <tbody>\n",
              "    <tr>\n",
              "      <th>DecisionTreeClassifier</th>\n",
              "      <td>0.657832</td>\n",
              "    </tr>\n",
              "    <tr>\n",
              "      <th>LogisticRegression</th>\n",
              "      <td>0.807333</td>\n",
              "    </tr>\n",
              "    <tr>\n",
              "      <th>XGBClassifier</th>\n",
              "      <td>0.815964</td>\n",
              "    </tr>\n",
              "    <tr>\n",
              "      <th>SVC</th>\n",
              "      <td>0.803731</td>\n",
              "    </tr>\n",
              "    <tr>\n",
              "      <th>SGDClassifier</th>\n",
              "      <td>0.772811</td>\n",
              "    </tr>\n",
              "    <tr>\n",
              "      <th>VotingClassifier</th>\n",
              "      <td>0.810211</td>\n",
              "    </tr>\n",
              "  </tbody>\n",
              "</table>\n",
              "</div>"
            ],
            "text/plain": [
              "                          Recall\n",
              "DecisionTreeClassifier  0.657832\n",
              "LogisticRegression      0.807333\n",
              "XGBClassifier           0.815964\n",
              "SVC                     0.803731\n",
              "SGDClassifier           0.772811\n",
              "VotingClassifier        0.810211"
            ]
          },
          "metadata": {
            "tags": []
          },
          "execution_count": 60
        }
      ]
    },
    {
      "cell_type": "markdown",
      "metadata": {
        "id": "UlKTfZblTaPg",
        "colab_type": "text"
      },
      "source": [
        "Pela tabela acima vemos que os melhores modelos foram o XGBoost, a Regressão Logística, o SVC e o método de *ensemble*. Vamos escolher os modelos XGBoost, Regressão Logística e SVC para trabalharmos os hiperparâmetros e tentar melhorar o desempenho dos modelos. \n",
        "\n",
        "O próximo passo é fazer um *boosting* nos modelos otimizando os hiperparâmetros. Para isso vamos usar a técnica de ***Grid Search***, que nos dirá qual o melhor valor para determinados parâmetros para melhorar o desempenho do modelo."
      ]
    },
    {
      "cell_type": "markdown",
      "metadata": {
        "id": "JNYwQ_W4W8XP",
        "colab_type": "text"
      },
      "source": [
        "### Otimizando os Hiperparâmetros\n",
        "\n",
        "Vamos agora otimizar os hiperparâmetros para os modelos de Regressão Logística e XGBoost. Para isso vamos utilizar uma técnica chamada *Grid Search*, ela nos diz, através de valores de parâmentros passados, qual o melhor valor para o parâmetro passado para melhorar o desempenho do nosso modelo.\n",
        "\n",
        "![alt text](https://github.com/johnsigma/meuPortfolio/blob/master/imagens/optimization.jpg?raw=true)\n",
        "\n",
        "<a href='https://www.freepik.com/free-photos-vectors/website'>Website vector created by stories - www.freepik.com</a>\n"
      ]
    },
    {
      "cell_type": "markdown",
      "metadata": {
        "id": "EwRVahM1Xb8Y",
        "colab_type": "text"
      },
      "source": [
        "#### Regressão Logística\n",
        "\n",
        "Vamos começar pela Regressão Logística, este modelo não têm muitos parâmetros críticos que podemos ajustar para melhorá-lo. Mas de acordo com [este site](https://machinelearningmastery.com/hyperparameters-for-classification-machine-learning-algorithms/), os melhores parâmetros e seus valores para passar para o *Grid search* são:\n",
        "* `solver`\n",
        "* `penalty`\n",
        "* `C`"
      ]
    },
    {
      "cell_type": "code",
      "metadata": {
        "id": "o1d00xZdYB0F",
        "colab_type": "code",
        "colab": {
          "base_uri": "https://localhost:8080/",
          "height": 34
        },
        "outputId": "a3e44f2f-e54a-434c-f40d-ed3eab267b7d"
      },
      "source": [
        "# importando os pacotes necessários\n",
        "from sklearn.model_selection import GridSearchCV\n",
        "from sklearn.preprocessing import StandardScaler\n",
        "from sklearn.model_selection import StratifiedKFold\n",
        "\n",
        "# instaciando o modelo\n",
        "model = LogisticRegression()\n",
        "\n",
        "# padronizar nossos dados de treino\n",
        "scaler = StandardScaler().fit(X_rus)\n",
        "X_rus_trans = scaler.transform(X_rus)\n",
        "\n",
        "# aplicar o Grid Search\n",
        "parametros = {\n",
        "    'solver': ['newton-cg', 'lbfgs', 'liblinear', 'sag', 'saga'],\n",
        "}\n",
        "\n",
        "kfold = StratifiedKFold(shuffle=True)\n",
        "clf = GridSearchCV(model, parametros, scoring='recall', n_jobs=-1, cv=kfold)\n",
        "clf.fit(X_rus_trans, y_rus)\n",
        "\n",
        "# ver resultados\n",
        "print(f'Melhor: {clf.best_score_} para {clf.best_params_}')"
      ],
      "execution_count": 64,
      "outputs": [
        {
          "output_type": "stream",
          "text": [
            "Melhor: 0.8073644310358166 para {'solver': 'newton-cg'}\n"
          ],
          "name": "stdout"
        }
      ]
    },
    {
      "cell_type": "code",
      "metadata": {
        "id": "CVA4LsKJ3wLo",
        "colab_type": "code",
        "colab": {
          "base_uri": "https://localhost:8080/",
          "height": 34
        },
        "outputId": "a67a7bf9-e46a-44e1-a663-8f0e6d9d573c"
      },
      "source": [
        "# instaciando o modelo\n",
        "model = LogisticRegression(solver='newton-cg')\n",
        "\n",
        "# aplicar o Grid Search\n",
        "parametros = {\n",
        "    'penalty': ['none', 'l1', 'l2', 'elasticnet'],\n",
        "}\n",
        "\n",
        "kfold = StratifiedKFold(shuffle=True)\n",
        "clf = GridSearchCV(model, parametros, scoring='recall', n_jobs=-1, cv=kfold)\n",
        "clf.fit(X_rus_trans, y_rus)\n",
        "\n",
        "# ver resultados\n",
        "print(f'Melhor: {clf.best_score_} para {clf.best_params_}')"
      ],
      "execution_count": 65,
      "outputs": [
        {
          "output_type": "stream",
          "text": [
            "Melhor: 0.8080477553441119 para {'penalty': 'none'}\n"
          ],
          "name": "stdout"
        }
      ]
    },
    {
      "cell_type": "code",
      "metadata": {
        "id": "bfk1yOtT4DUv",
        "colab_type": "code",
        "colab": {
          "base_uri": "https://localhost:8080/",
          "height": 88
        },
        "outputId": "1b1a8082-e6de-44dc-ed90-5cbd6fa6f3e5"
      },
      "source": [
        "# instaciando o modelo\n",
        "model = LogisticRegression(solver='newton-cg', penalty='none')\n",
        "\n",
        "# aplicar o Grid Search\n",
        "parametros = {\n",
        "    'C': [100, 10, 1.0, 0.1, 0.01]\n",
        "}\n",
        "\n",
        "kfold = StratifiedKFold(shuffle=True)\n",
        "clf = GridSearchCV(model, parametros, scoring='recall', n_jobs=-1, cv=kfold)\n",
        "clf.fit(X_rus_trans, y_rus)\n",
        "\n",
        "# ver resultados\n",
        "print(f'Melhor: {clf.best_score_} para {clf.best_params_}')"
      ],
      "execution_count": 68,
      "outputs": [
        {
          "output_type": "stream",
          "text": [
            "Melhor: 0.8037441014929992 para {'C': 100}\n"
          ],
          "name": "stdout"
        },
        {
          "output_type": "stream",
          "text": [
            "/usr/local/lib/python3.6/dist-packages/sklearn/linear_model/_logistic.py:1505: UserWarning: Setting penalty='none' will ignore the C and l1_ratio parameters\n",
            "  \"Setting penalty='none' will ignore the C and l1_ratio \"\n"
          ],
          "name": "stderr"
        }
      ]
    },
    {
      "cell_type": "markdown",
      "metadata": {
        "id": "TldQ1W6LaIex",
        "colab_type": "text"
      },
      "source": [
        "Veja que no \"warning\" acima, ele nos diz que se definirmos o valor do parâmetro `penalty` como \"none\" então o parâmetro `C` é ignorado. Então não vamos usar o parâmetro `C` quando instanciarmos nosso modelo.\n",
        "\n",
        "Vemos que utilizando o *Grid Search* encontramos os melhores valores dos hiperparâmetros para melhorar nosso modelo de Regressão Logística. Vemos que, apesar de ter melhorado, esse melhoramento não foi muito significativo."
      ]
    },
    {
      "cell_type": "markdown",
      "metadata": {
        "id": "35Kzr8_EatqI",
        "colab_type": "text"
      },
      "source": [
        "#### XGBoost\n",
        "\n",
        "Vamos agora otimizar os hiperparâmetros do modelo XGBoost e procurar melhorar significativamente seu *recall*, diferente do modelo de Regressão Logística. Para isso vamos utilizar também o *Grid Search*.\n",
        "\n",
        "O XGBoost possui muitos parâmetros, alguns afetam mais o desempenho do modelo do que outros. Primeiro vamos definir uma taxa de aprendizado pequena e se necessário podemos aumentar depois, em seguida vamos passar um range de estimadores e o *Grid Search* irá nos dizer qual o melhor número de estimadores para nosso modelo. Só depois vamos ajustar outros hiperparâmetros."
      ]
    },
    {
      "cell_type": "code",
      "metadata": {
        "id": "ZH7OMrrycyYC",
        "colab_type": "code",
        "colab": {
          "base_uri": "https://localhost:8080/",
          "height": 34
        },
        "outputId": "4604d78c-fd81-4517-8016-4ee984c3e3de"
      },
      "source": [
        "# instanciar o modelo\n",
        "model = XGBClassifier(learning_rate=0.1)\n",
        "\n",
        "# aplicar o Grid Search\n",
        "parametros = {\n",
        "    'n_estimators':range(0,1000,50)\n",
        "}\n",
        "\n",
        "kfold = StratifiedKFold(shuffle=True)\n",
        "clf = GridSearchCV(model, parametros, scoring='recall', n_jobs=-1, cv=kfold)\n",
        "clf.fit(X_rus_trans, y_rus)\n",
        "\n",
        "# ver resultados\n",
        "print(f'Melhor: {clf.best_score_} para {clf.best_params_}')"
      ],
      "execution_count": 69,
      "outputs": [
        {
          "output_type": "stream",
          "text": [
            "Melhor: 0.8253242567236534 para {'n_estimators': 50}\n"
          ],
          "name": "stdout"
        }
      ]
    },
    {
      "cell_type": "markdown",
      "metadata": {
        "id": "_ez3Df2Wg1co",
        "colab_type": "text"
      },
      "source": [
        "Nosso modelo já melhorou em 1% seu desempenho apenas utilizando os estimadores como 50 de parâmetro, e diferente da Regressão Logística, o XGBoost tem vários outro parâmetros que se alterados podem melhorar o desempenho do nosso modelo.\n",
        "\n",
        "Como vimos acima, nosso modelo teve o melhor desempenho utilizando 50 estimadores, então a partir daqui vamos instanciar nosso modelo de XGBoost com 50 estimadores como padrão.\n",
        "\n",
        "Vamos agora aplicar o *Grid Search* no parâmetros `max_depth` e `min_child_weight`.\n",
        "\n",
        "Um pequeno adendo, estou seguindo este **boost** de parâmetros utilizando como guia [este tutorial](https://www.analyticsvidhya.com/blog/2016/03/complete-guide-parameter-tuning-xgboost-with-codes-python/), na página tem mais detalhes sobre o boosting de parâmetros para o algoritmo XGBoost."
      ]
    },
    {
      "cell_type": "code",
      "metadata": {
        "id": "fD9N3_pmh_dv",
        "colab_type": "code",
        "colab": {
          "base_uri": "https://localhost:8080/",
          "height": 34
        },
        "outputId": "7f0fc23e-9aca-4517-8b0c-f449d760a7fd"
      },
      "source": [
        "# instanciar o modelo\n",
        "model = XGBClassifier(learning_rate=0.1, n_estimators=50)\n",
        "\n",
        "# aplicar o Grid Search\n",
        "parametros = {\n",
        "    'max_depth': range(1,10,1),\n",
        "    'min_child_weight': range(1,6,1)\n",
        "}\n",
        "\n",
        "kfold = StratifiedKFold(shuffle=True)\n",
        "clf = GridSearchCV(model, parametros, scoring='recall', n_jobs=-1, cv=kfold)\n",
        "clf.fit(X_rus_trans, y_rus)\n",
        "\n",
        "# ver resultados\n",
        "print(f'Melhor: {clf.best_score_} para {clf.best_params_}')"
      ],
      "execution_count": 70,
      "outputs": [
        {
          "output_type": "stream",
          "text": [
            "Melhor: 0.8389572213197184 para {'max_depth': 1, 'min_child_weight': 1}\n"
          ],
          "name": "stdout"
        }
      ]
    },
    {
      "cell_type": "markdown",
      "metadata": {
        "id": "oSfEgBpvjuPJ",
        "colab_type": "text"
      },
      "source": [
        "Seguindo o tutorial da **Analytics Vidhya** linkado anteriormente, vamos agora ajustar o parâmetro `gamma`."
      ]
    },
    {
      "cell_type": "code",
      "metadata": {
        "id": "CF0SSI4Tkoe_",
        "colab_type": "code",
        "colab": {
          "base_uri": "https://localhost:8080/",
          "height": 34
        },
        "outputId": "45273181-410b-4ff5-9308-32f6feff15e6"
      },
      "source": [
        "# instanciar o modelo\n",
        "model = XGBClassifier(learning_rate=0.1, n_estimators=50, max_depth=1, min_child_weight=1)\n",
        "\n",
        "# aplicar o Grid Search\n",
        "parametros = {\n",
        "    'gamma': [i/10.0 for i in range(0,5)]\n",
        "}\n",
        "\n",
        "kfold = StratifiedKFold(shuffle=True)\n",
        "clf = GridSearchCV(model, parametros, scoring='recall', n_jobs=-1, cv=kfold)\n",
        "clf.fit(X_rus_trans, y_rus)\n",
        "\n",
        "# ver resultados\n",
        "print(f'Melhor: {clf.best_score_} para {clf.best_params_}')"
      ],
      "execution_count": 71,
      "outputs": [
        {
          "output_type": "stream",
          "text": [
            "Melhor: 0.8360898378071736 para {'gamma': 0.0}\n"
          ],
          "name": "stdout"
        }
      ]
    },
    {
      "cell_type": "markdown",
      "metadata": {
        "id": "nOmA3xxYlWoc",
        "colab_type": "text"
      },
      "source": [
        "A seguir vamos ajustar o `subsample` e o `colsample_bytree`."
      ]
    },
    {
      "cell_type": "code",
      "metadata": {
        "id": "lzIwwz1al0bl",
        "colab_type": "code",
        "colab": {
          "base_uri": "https://localhost:8080/",
          "height": 34
        },
        "outputId": "69518cc6-3e6a-496d-eb26-492ec699ebc2"
      },
      "source": [
        "# instanciar o modelo\n",
        "model = XGBClassifier(learning_rate=0.1, n_estimators=50, max_depth=1, min_child_weight=1,\n",
        "                      gamma=0)\n",
        "\n",
        "# aplicar o Grid Search\n",
        "parametros = {\n",
        "    'subsample': [i/10.0 for i in range(6,10)],\n",
        "    'colsample_bytree': [i/10.0 for i in range(6,10)]\n",
        "}\n",
        "\n",
        "kfold = StratifiedKFold(shuffle=True)\n",
        "clf = GridSearchCV(model, parametros, scoring='recall', n_jobs=-1, cv=kfold)\n",
        "clf.fit(X_rus_trans, y_rus)\n",
        "\n",
        "# ver resultados\n",
        "print(f'Melhor: {clf.best_score_} para {clf.best_params_}')"
      ],
      "execution_count": 72,
      "outputs": [
        {
          "output_type": "stream",
          "text": [
            "Melhor: 0.8411103375364226 para {'colsample_bytree': 0.9, 'subsample': 0.7}\n"
          ],
          "name": "stdout"
        }
      ]
    },
    {
      "cell_type": "markdown",
      "metadata": {
        "id": "umIc-HHoma6-",
        "colab_type": "text"
      },
      "source": [
        "Por último vamos tentar achar uma taxa de aprendizado que melhorar o desempenho do modelo usando os valores dos parâmetros determinados anteriormente."
      ]
    },
    {
      "cell_type": "code",
      "metadata": {
        "id": "jrbGDT9Cml5V",
        "colab_type": "code",
        "colab": {
          "base_uri": "https://localhost:8080/",
          "height": 34
        },
        "outputId": "40e4318c-941d-4331-bc96-82532d56c845"
      },
      "source": [
        "# instanciar o modelo\n",
        "model = XGBClassifier(n_estimators=50, max_depth=1, min_child_weight=1, gamma=0,\n",
        "                      colsample_bytree=0.9, subsample=0.7)\n",
        "\n",
        "# aplicar o Grid Search\n",
        "parametros = {\n",
        "    'learning_rate': [0.001, 0.01, 0.05, 0.1, 0.3, 1]\n",
        "}\n",
        "\n",
        "kfold = StratifiedKFold(shuffle=True)\n",
        "clf = GridSearchCV(model, parametros, scoring='recall', n_jobs=-1, cv=kfold)\n",
        "clf.fit(X_rus_trans, y_rus)\n",
        "\n",
        "# ver resultados\n",
        "print(f'Melhor: {clf.best_score_} para {clf.best_params_}')"
      ],
      "execution_count": 73,
      "outputs": [
        {
          "output_type": "stream",
          "text": [
            "Melhor: 0.8849771795466852 para {'learning_rate': 0.001}\n"
          ],
          "name": "stdout"
        }
      ]
    },
    {
      "cell_type": "markdown",
      "metadata": {
        "id": "FZmpPu4Un5Mw",
        "colab_type": "text"
      },
      "source": [
        "Esolhendo a menor taxa de aprendizado temos o melhor desempenho do modelo, considerando o `recall` como única métrica.\n",
        "\n",
        "Nosso modelo melhorou significamente otimizando os parâmetros, essa é uma das razões do porquê o algoritmo CGBoost é tão utilizado."
      ]
    },
    {
      "cell_type": "markdown",
      "metadata": {
        "id": "pUXfI8-KoYuJ",
        "colab_type": "text"
      },
      "source": [
        "#### SVC\n",
        "\n",
        "Vamos agora otimizar os parâmetros para o algoritmo Support Vector Machine Classifier - SVC. Como na Regressão Logística, vamos utilizar [este tutorial](https://machinelearningmastery.com/hyperparameters-for-classification-machine-learning-algorithms/) para tunar os parâmetros do modelo.\n",
        "\n",
        "Primeiro vamos utlizar o *Grid Search* para definir qual o melhor `kernel` a ser utilizado, depois vamos utilizar a mesma técnica para definir o melhor valor para o parâmetro `C`."
      ]
    },
    {
      "cell_type": "code",
      "metadata": {
        "id": "tfI8xva3pTjk",
        "colab_type": "code",
        "colab": {
          "base_uri": "https://localhost:8080/",
          "height": 34
        },
        "outputId": "1bcb7bae-ba95-453b-f06e-56966f554c5d"
      },
      "source": [
        "# instanciar o modelo\n",
        "model = SVC()\n",
        "\n",
        "# aplicar o Grid Search\n",
        "parametros = {\n",
        "    'kernel': ['linear', 'poly', 'rbf', 'sigmoid']\n",
        "}\n",
        "\n",
        "kfold = StratifiedKFold(shuffle=True)\n",
        "clf = GridSearchCV(model, parametros, scoring='recall', n_jobs=-1, cv=kfold)\n",
        "clf.fit(X_rus_trans, y_rus)\n",
        "\n",
        "# ver resultados\n",
        "print(f'Melhor: {clf.best_score_} para {clf.best_params_}')"
      ],
      "execution_count": 74,
      "outputs": [
        {
          "output_type": "stream",
          "text": [
            "Melhor: 0.8295892318403343 para {'kernel': 'linear'}\n"
          ],
          "name": "stdout"
        }
      ]
    },
    {
      "cell_type": "code",
      "metadata": {
        "id": "tC-VS9p5s_Ik",
        "colab_type": "code",
        "colab": {
          "base_uri": "https://localhost:8080/",
          "height": 34
        },
        "outputId": "084e365b-8f0a-4d1d-ced6-085e802ba4d1"
      },
      "source": [
        "# instanciar o modelo\n",
        "model = SVC(kernel='linear')\n",
        "\n",
        "# aplicar o Grid Search\n",
        "parametros = {\n",
        "    'C': [100, 10, 1.0, 0.1, 0.001]\n",
        "}\n",
        "\n",
        "kfold = StratifiedKFold(shuffle=True)\n",
        "clf = GridSearchCV(model, parametros, scoring='recall', n_jobs=-1, cv=kfold)\n",
        "clf.fit(X_rus_trans, y_rus)\n",
        "\n",
        "# ver resultados\n",
        "print(f'Melhor: {clf.best_score_} para {clf.best_params_}')"
      ],
      "execution_count": 75,
      "outputs": [
        {
          "output_type": "stream",
          "text": [
            "Melhor: 0.8734638095974834 para {'C': 0.001}\n"
          ],
          "name": "stdout"
        }
      ]
    },
    {
      "cell_type": "markdown",
      "metadata": {
        "id": "Gs8Zy8b34Wn_",
        "colab_type": "text"
      },
      "source": [
        "Percebemos que alterando apenas dois parâmetros conseguimos melhorar bastante o desempenho do nosso modelo.\n",
        "\n",
        "Agora que já \"*tunamos*\" nossos modelos, podemos treiná-los encima do nosso *dataset* de treino completo e verificar o desempenho final de cada modelo utilizando os dados de teste. Perceba que só agora no final iremos usar o dataset de teste nos modelos, isso é extremamente importante para não enviesar nosso modelo e treiná-lo para ser ótimo com os dados de teste, mas quando ele se deparar com dados diferentes daqueles treinados seu desempenho é ruim."
      ]
    },
    {
      "cell_type": "markdown",
      "metadata": {
        "id": "9oX0Loky5Rx_",
        "colab_type": "text"
      },
      "source": [
        "### Avaliando os modelos finais\n",
        "\n",
        "Nesta etapa vamos avaliar os modelos de Regressão Logística, XGBoost, SVC e também nosso modelo de *Ensemble* com os dados de teste e comparar os resultados dos dados de teste com os resultados obtidos com o *Grid Search*. Vamos utilizar esses modelos com os parâmetros definidos na etapa de *Grid Search*."
      ]
    },
    {
      "cell_type": "code",
      "metadata": {
        "id": "-gGlh8uM7RuI",
        "colab_type": "code",
        "colab": {}
      },
      "source": [
        "# importando os pacotes necessários\n",
        "from sklearn.metrics import confusion_matrix\n",
        "from sklearn.metrics import classification_report"
      ],
      "execution_count": 76,
      "outputs": []
    },
    {
      "cell_type": "code",
      "metadata": {
        "id": "MC9ymGXc53-m",
        "colab_type": "code",
        "colab": {
          "base_uri": "https://localhost:8080/",
          "height": 884
        },
        "outputId": "2eba50d9-e3fc-4b91-ba88-0010bf95135a"
      },
      "source": [
        "# instanciando e treinando os modelos\n",
        "\n",
        "# Regressão Logística\n",
        "rl = LogisticRegression(solver='newton-cg', penalty='none')\n",
        "rl.fit(X_rus_trans, y_rus)\n",
        "\n",
        "# XGBoost\n",
        "xgb = XGBClassifier(n_estimators=50, max_depth=1, min_child_weight=1, gamma=0,\n",
        "                      colsample_bytree=0.9, subsample=0.7, learning_rate=0.001)\n",
        "xgb.fit(X_rus_trans, y_rus)\n",
        "\n",
        "# SVC\n",
        "svc = SVC(kernel='linear', C=0.001, )\n",
        "svc.fit(X_rus_trans, y_rus)\n",
        "\n",
        "# Método de Ensemble\n",
        "vc = VotingClassifier(estimators=[('rl',rl),('xgb',xgb),('svc',svc)])\n",
        "vc.fit(X_rus_trans, y_rus)\n",
        "\n",
        "# fazer a previsão dos modelos\n",
        "X_test = scaler.transform(X_test)\n",
        "y_pred_rl = rl.predict(X_test)\n",
        "y_pred_xgb = xgb.predict(X_test)\n",
        "y_pred_svc = svc.predict(X_test)\n",
        "y_pred_vc = vc.predict(X_test)\n",
        "\n",
        "\n",
        "\n",
        "# relatório de classificação para cada modelo\n",
        "\n",
        "print(f'\\nRelatório de Classificação para Regressão Logística:\\n\\n'\n",
        "      f'{classification_report(y_test, y_pred_rl)}')\n",
        "print(f'\\n\\nRelatório de Classificação para XGBoost:\\n\\n'\n",
        "      f'{classification_report(y_test, y_pred_xgb, zero_division=1)}')\n",
        "print(f'\\n\\nRelatório de Classificação para SVC:\\n\\n'\n",
        "      f'{classification_report(y_test, y_pred_svc)}')\n",
        "print(f'\\n\\nRelatório de Classificação para Ensemble:\\n\\n'\n",
        "      f'{classification_report(y_test, y_pred_vc)}')"
      ],
      "execution_count": 77,
      "outputs": [
        {
          "output_type": "stream",
          "text": [
            "\n",
            "Relatório de Classificação para Regressão Logística:\n",
            "\n",
            "              precision    recall  f1-score   support\n",
            "\n",
            "           0       0.92      0.73      0.81      1283\n",
            "           1       0.53      0.82      0.64       478\n",
            "\n",
            "    accuracy                           0.75      1761\n",
            "   macro avg       0.72      0.77      0.73      1761\n",
            "weighted avg       0.81      0.75      0.77      1761\n",
            "\n",
            "\n",
            "\n",
            "Relatório de Classificação para XGBoost:\n",
            "\n",
            "              precision    recall  f1-score   support\n",
            "\n",
            "           0       0.93      0.59      0.72      1283\n",
            "           1       0.44      0.89      0.59       478\n",
            "\n",
            "    accuracy                           0.67      1761\n",
            "   macro avg       0.69      0.74      0.66      1761\n",
            "weighted avg       0.80      0.67      0.69      1761\n",
            "\n",
            "\n",
            "\n",
            "Relatório de Classificação para SVC:\n",
            "\n",
            "              precision    recall  f1-score   support\n",
            "\n",
            "           0       0.93      0.60      0.73      1283\n",
            "           1       0.45      0.88      0.60       478\n",
            "\n",
            "    accuracy                           0.68      1761\n",
            "   macro avg       0.69      0.74      0.67      1761\n",
            "weighted avg       0.80      0.68      0.70      1761\n",
            "\n",
            "\n",
            "\n",
            "Relatório de Classificação para Ensemble:\n",
            "\n",
            "              precision    recall  f1-score   support\n",
            "\n",
            "           0       0.93      0.60      0.73      1283\n",
            "           1       0.45      0.88      0.60       478\n",
            "\n",
            "    accuracy                           0.68      1761\n",
            "   macro avg       0.69      0.74      0.67      1761\n",
            "weighted avg       0.80      0.68      0.70      1761\n",
            "\n"
          ],
          "name": "stdout"
        }
      ]
    },
    {
      "cell_type": "code",
      "metadata": {
        "id": "tAWvFGcPqWbC",
        "colab_type": "code",
        "colab": {
          "base_uri": "https://localhost:8080/",
          "height": 924
        },
        "outputId": "c1b7057e-12d9-4d89-cac0-738d106931f2"
      },
      "source": [
        "# Plotando as Matrizes de Confusão de cada modelo\n",
        "fig, ax = plt.subplots(ncols=2, figsize=(16,14), nrows=2)\n",
        "fig.suptitle('Matriz de Confusão')\n",
        "\n",
        "sns.heatmap(confusion_matrix(y_test, y_pred_rl, normalize='true'), ax=ax[0][0], annot=True)\n",
        "ax[0][0].set_title('Regressão Logística')\n",
        "ax[0][0].set_ylabel('Verdadeiro')\n",
        "ax[0][0].set_xlabel('Previsto')\n",
        "\n",
        "sns.heatmap(confusion_matrix(y_test, y_pred_xgb, normalize='true'), ax=ax[0][1], annot=True)\n",
        "ax[0][1].set_title('XGBoost')\n",
        "ax[0][1].set_ylabel('Verdadeiro')\n",
        "ax[0][1].set_xlabel('Previsto')\n",
        "\n",
        "sns.heatmap(confusion_matrix(y_test, y_pred_svc, normalize='true'), ax=ax[1][0], annot=True)\n",
        "ax[1][0].set_title('SVC')\n",
        "ax[1][0].set_ylabel('Verdadeiro')\n",
        "ax[1][0].set_xlabel('Previsto')\n",
        "\n",
        "sns.heatmap(confusion_matrix(y_test, y_pred_vc, normalize='true'), ax=ax[1][1], annot=True)\n",
        "ax[1][1].set_title('Ensemble')\n",
        "ax[1][1].set_ylabel('Verdadeiro')\n",
        "ax[1][1].set_xlabel('Previsto')\n",
        "\n",
        "plt.show()"
      ],
      "execution_count": 78,
      "outputs": [
        {
          "output_type": "display_data",
          "data": {
            "image/png": "[encoded data removed]",
            "text/plain": [
              "<Figure size 1152x1008 with 8 Axes>"
            ]
          },
          "metadata": {
            "tags": [],
            "needs_background": "light"
          }
        }
      ]
    },
    {
      "cell_type": "markdown",
      "metadata": {
        "id": "9foWdcSz15IC",
        "colab_type": "text"
      },
      "source": [
        "## Conclusão\n",
        "\n",
        "Visualizando as matrizes de confusão, percebemos que os modelos mantiveram um desempenho com os dados de teste próximos dos resultados do *Grid Search* que avaliamos anteriormente. Perceba também que nosso Método de Ensemble melhorou significativamente instanciando-o com os modelos instaciados com os hiperparâmetros otimizados.\n",
        "\n",
        "Lembre-se que a métrica que usamos aqui foi o `Recall`, pois é ele que nos diz a proporção de positivos encontrados corretamente. Veja que algumas outras métricas ficaram com valores baixos, mas como nosso problema é para prever `Churn` (prever se um cliente vai cancelar sua assinatura do serviço) então nossos modelos funcionaram bem, com o melhor modelo sendo o XGBoost.\n",
        "\n",
        "Chega ao final este artigo, foi um projeto bem cansativo e trabalhoso, mas proporcionalmente recompensador. Se quiserem me acompanhar em outros projetos de Data Science ou desenvolvimento em geral, deixo os links para meu portfolio do GitHub e para o meu perfil do LinkedIn.\n",
        "\n",
        "A quem leu até aqui, meu muito obrigado e até mais.\n",
        "\n",
        "[Meu portfolio do Github](https://github.com/johnsigma/meuPortfolio)\n",
        "\n",
        "[Meu perfil do LinkedIn](www.linkedin.com/in/johncunha42)"
      ]
    }
  ]
}