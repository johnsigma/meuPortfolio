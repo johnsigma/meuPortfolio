{
  "nbformat": 4,
  "nbformat_minor": 0,
  "metadata": {
    "colab": {
      "name": "Panorama do COVID-19 no Brasil.ipynb",
      "provenance": [],
      "collapsed_sections": [],
      "toc_visible": true,
      "include_colab_link": true
    },
    "kernelspec": {
      "name": "python3",
      "display_name": "Python 3"
    }
  },
  "cells": [
    {
      "cell_type": "markdown",
      "metadata": {
        "id": "view-in-github",
        "colab_type": "text"
      },
      "source": [
        "<a href=\"https://colab.research.google.com/github/johnsigma/meuPortifolio/blob/master/Panorama_do_COVID_19_no_Brasil.ipynb\" target=\"_parent\"><img src=\"https://colab.research.google.com/assets/colab-badge.svg\" alt=\"Open In Colab\"/></a>"
      ]
    },
    {
      "cell_type": "markdown",
      "metadata": {
        "id": "-eFQZydM9O9J",
        "colab_type": "text"
      },
      "source": [
        "<img alt=\"Colaboratory logo\" width=\"15%\" src=\"https://raw.githubusercontent.com/carlosfab/escola-data-science/master/img/novo_logo_bg_claro.png\">\n",
        "\n",
        "#### **Data Science na Prática 2.0**\n",
        "*by [sigmoidal.ai](https://sigmoidal.ai)*  \n",
        "\n",
        "---\n",
        "  "
      ]
    },
    {
      "cell_type": "markdown",
      "metadata": {
        "id": "kLI0gJtzDGuQ",
        "colab_type": "text"
      },
      "source": [
        "# Panorama do COVID-19 no Brasil\n",
        "\n",
        "O Coronavírus é uma família de vírus que causam infecções respiratórias. O COVID-19 é uma doença causada pelo coronavírus SARS-CoV-2 dessa família. Esse novo Coronavírus foi descoberto em 31/12/2019 na China e se espalhou rapidamente pelo mundo como é de se esperar de uma doença do grupo coronavírus.\n",
        "\n",
        "A transmição acontece através do contato de uma pessoa infectada para outra por meio de toque ou aperto de mão, espirros, tosse e outros meios de contatos. A gravidade dos sintomas pode variar muito de pessoa para pessoa. 80% dos infectados não apresentam sintomas e cerca de 20% dos casos apresentam sintomas que podem ir de um simples resfriado até uma pneumonia grave sendo alguns sintomas: tosse, febre, coriza e dor na garganta. Destes 20% aproximadamente 5% podem necessitar de suporte ventilatório para o tratamento, que ocorre em um hospital.\n",
        "\n",
        "O fato é que não se sabe muita coisa a respeito do COVID-19. Muitos estudo estão sendo realizados em todo o mundo mas sem resultados conclusivos ou definitivos. Inclusive algumas [vacinas já estão sendo preparadas por alguns países](https://bit.ly/30U3sn0).\n",
        "\n",
        "<figure>\n",
        "\t<img src=\"https://github.com/johnsigma/meuPortifolio/blob/master/imagens/covid1.jpg?raw=true\" width=\"95%\"/>\n",
        "\t <figcaption><a href=\"https://www.freepik.com/free-photos-vectors/people\">People vector created by pikisuperstar - www.freepik.com</a></figcaption>   \n",
        "</figure>\n",
        "\n",
        "\n",
        "Para saber mais sobre o covid acesse [este link](https://bit.ly/2Cpema9) do Ministério da Saúde que trata de vários assuntos sobre a doença inclusive como se prevenir e outras formas de tranmissão não citadas aqui.\n",
        "\n",
        "Este texto visa elevar a consciência situazional a respeito do COVID-19 no Brasil através de uma análise sobre os dados públicos da doença.\n",
        "\n",
        "Este artigo é o terceiro projeto do curso Data Science na Prática do professor Carlos Melom um curso onde vemos através de projetos práticos todo o poder da Ciência de Dados quando aplicada a dados do mundo real."
      ]
    },
    {
      "cell_type": "markdown",
      "metadata": {
        "id": "0zxQHhIUDF_2",
        "colab_type": "text"
      },
      "source": [
        "## Obtenção dos Dados\n",
        "\n",
        "Escolher um conjunto de dados sobre o COVID-19 não é fácil, pois existem diversos *datasets* disponibilizados por governos, estados e iniciativas privadas que podem causar alguns conflitos . Decidimos escolher um *dataset* de um site responsável e que é referência na disponibilização de dados públicos sobre disversas causas sociais, geopolíticas e de saúde.\n",
        "\n",
        "O *dataset* que vamos utilizar nessa análise é um conjunto de dados públicos sobre o COVID-19 feito e disponabilizado pelo site https://ourworldindata.org/, que é uma iniciativa de pesquisadores ao redor do mundo para tornar público dados sobre problemas que o planeta sofre como desigualdade social, doenças, guerras, mudanças climáticas e vários outro problemas.\n",
        "\n",
        "[Neste link](https://ourworldindata.org/coronavirus) você encontra os dados utilizados nesta análise e lá também tem alguns gráficos interativos onde você pode comparar os casos, mortes e taxa de fatalidade do COVID-19 pelos países do mundo.\n",
        "\n",
        "Os dados contidos no *dataset* que iremos utilizar foram atualizados até 19/06/2020.\n"
      ]
    },
    {
      "cell_type": "markdown",
      "metadata": {
        "id": "JkCte80l5L2Y",
        "colab_type": "text"
      },
      "source": [
        "### Dicionário de Variáveis\n",
        "\n",
        "A seguir você encontra o dicionário das variáveis (colunas) do nosso *dataset*. [Clique neste link](https://github.com/owid/covid-19-data/blob/master/public/data/owid-covid-data-codebook.md) para ir para a página com esse dicionário (em inglês) e com as fontes dos respectivos dados das colunas.\n",
        "\n",
        "* `iso code` - código do país definido pelo ISO 3166-1 alpha-3\n",
        "* `continent` - continente da localização geográfica\n",
        "* `location` - localização geográfica (país)\n",
        "* `date` - data de observação\n",
        "* `total_cases` - total de casos confirmados de COVID-19\n",
        "* `new_cases` - novos casos confirmados de COVID-19\n",
        "* `total_deaths` - total de mortes atribuídas ao COVID-19\n",
        "* `total_cases_per_million` - total de casos confirmados de COVID-19 por 1.000.000 de pessoas\n",
        "* `new_cases_per_million` - novos casos confirmados de COVID-19 por 1.000.000 de pessoas\n",
        "* `total_deaths_per_million` total de mortes atribuídas ao COVID-19 por 1.000.000 de pessoas\n",
        "* `new_deaths_per_million` novas mortes atribuídas ao COVID-19 por 1.000.000 de pessoas\n",
        "* `total_tests` - total de testes para COVID-19\n",
        "* `new_tests` - novos testes para COVID-19\n",
        "* `total_tests_per_thousand` - total de testes para COVID-19 por 1.000 pessoas\n",
        "* `new_tests_per_thousand` - novos testes para COVID-19 por 1.000 pessoas\n",
        "* `new_tests_smoothed` - novos teste para COVID-19 (suavizado por 7 dias), isso são para países que não relatam dados de testes diariamente. Isso produz uma série de números diários calculados a partir da médias de 7 dias consecutivos.\n",
        "* `new_tests_smoothed_per_thousand` - novos testes para COVID-19 (7 dias suavizados) por 1.000 pessoas\n",
        "* `tests_units` - Unidades usadas pelo local (país) para relatar seus dados de testes\n",
        "* `stringency_index` - Índice de Estresse da Resposta do Governo: medida composta baseada em 9 indicadores de resposta, incluindo fechamento de escolas, fechamento de locais de trabalho e proibições de viagens, redimensionados para um valor de 0 a 100 (100 = resposta mais estrita)\n",
        "* `population` - população em 2020\n",
        "* `population_density` - Número de pessoas divididas por área terrestre, medida em quilômetros quadrados, no ano mais recente disponível\n",
        "* `median_age` - Idade média da população, projeção da ONU para 2020\n",
        "* `aged_65_older` - Proporção da população com 65 anos ou mais, ano mais recente disponível\n",
        "* `aged_70_older` - Porcentagem da população com 70 anos ou mais em 2015\n",
        "* `gdp_per_capita` - \tProduto interno bruto com paridade do poder de compra (dólares internacionais constantes de 2011), último ano disponível\n",
        "* `extreme_poverty` - Percentagem da população que vive em extrema pobreza, último ano disponível desde 2010\n",
        "* `cvd_death_rate` - Taxa de mortalidade por doenças cardiovasculares em 2017\n",
        "* `diabetes_prevalence` - Prevalência de diabetes (% da população entre 20 e 79 anos) em 2017\n",
        "* `female_smokers` - Porcentagem de mulheres que fumam, último ano disponível\n",
        "* `male_smokers` - Proporção de homens que fumam, último ano disponível\n",
        "* `handwashing_facilities` - Proporção da população com instalações básicas de lavagem das mãos nas instalações, último ano disponível\n",
        "* `hospital_beds_per_thousand` - Camas de hospital por 1.000 pessoas, último ano disponível desde 2010\n",
        "* `life_expectancy` - \tExpectativa de vida no nascimento em 2019"
      ]
    },
    {
      "cell_type": "code",
      "metadata": {
        "id": "lOtEJxe0DMEb",
        "colab_type": "code",
        "colab": {
          "base_uri": "https://localhost:8080/",
          "height": 71
        },
        "outputId": "88e84749-97ee-4e33-d2ae-4e812613f077"
      },
      "source": [
        "# importar as bibliotecas necessárias\n",
        "import pandas as pd\n",
        "import matplotlib.pyplot as plt\n",
        "import seaborn as sns\n",
        "sns.set()\n",
        "\n",
        "\n",
        "# importar o dataset COVID-19 para um DataFrame\n",
        "df = pd.read_csv('https://raw.githubusercontent.com/owid/covid-19-data/master/public/data/owid-covid-data.csv')"
      ],
      "execution_count": 1,
      "outputs": [
        {
          "output_type": "stream",
          "text": [
            "/usr/local/lib/python3.6/dist-packages/statsmodels/tools/_testing.py:19: FutureWarning: pandas.util.testing is deprecated. Use the functions in the public API at pandas.testing instead.\n",
            "  import pandas.util.testing as tm\n"
          ],
          "name": "stderr"
        }
      ]
    },
    {
      "cell_type": "markdown",
      "metadata": {
        "id": "qb5By2nIMS6m",
        "colab_type": "text"
      },
      "source": [
        "## Análise Exploratória dos Dados\n",
        "\n",
        "Vamos agora fazer uma análise exploratória dos dados do nosso *dataset*. Começando por uma análise inicial sobre os dados do COVID-19 pelo mundo, mais a frente vamos fazer uma análise mais aprofundada do COVID-19 do Brasil.\n",
        "\n",
        "Nesta primeira análise vamos visualizar algumas entradas do nosso *dataset*, verificando seu tamanho, suas colunas e seus respectivos tipos.\n"
      ]
    },
    {
      "cell_type": "markdown",
      "metadata": {
        "id": "5bf1-I6HrVDx",
        "colab_type": "text"
      },
      "source": [
        "### Visualização, tamanho, colunas e seus tipos do Dataset"
      ]
    },
    {
      "cell_type": "code",
      "metadata": {
        "id": "6g1_AyOfCEEh",
        "colab_type": "code",
        "colab": {
          "base_uri": "https://localhost:8080/",
          "height": 309
        },
        "outputId": "a709db5e-f9a9-4110-d893-9a0c7d75dd62"
      },
      "source": [
        "# primeiras 5 colunas do dataset\n",
        "df.head()"
      ],
      "execution_count": null,
      "outputs": [
        {
          "output_type": "execute_result",
          "data": {
            "text/html": [
              "<div>\n",
              "<style scoped>\n",
              "    .dataframe tbody tr th:only-of-type {\n",
              "        vertical-align: middle;\n",
              "    }\n",
              "\n",
              "    .dataframe tbody tr th {\n",
              "        vertical-align: top;\n",
              "    }\n",
              "\n",
              "    .dataframe thead th {\n",
              "        text-align: right;\n",
              "    }\n",
              "</style>\n",
              "<table border=\"1\" class=\"dataframe\">\n",
              "  <thead>\n",
              "    <tr style=\"text-align: right;\">\n",
              "      <th></th>\n",
              "      <th>iso_code</th>\n",
              "      <th>continent</th>\n",
              "      <th>location</th>\n",
              "      <th>date</th>\n",
              "      <th>total_cases</th>\n",
              "      <th>new_cases</th>\n",
              "      <th>total_deaths</th>\n",
              "      <th>new_deaths</th>\n",
              "      <th>total_cases_per_million</th>\n",
              "      <th>new_cases_per_million</th>\n",
              "      <th>total_deaths_per_million</th>\n",
              "      <th>new_deaths_per_million</th>\n",
              "      <th>total_tests</th>\n",
              "      <th>new_tests</th>\n",
              "      <th>total_tests_per_thousand</th>\n",
              "      <th>new_tests_per_thousand</th>\n",
              "      <th>new_tests_smoothed</th>\n",
              "      <th>new_tests_smoothed_per_thousand</th>\n",
              "      <th>tests_units</th>\n",
              "      <th>stringency_index</th>\n",
              "      <th>population</th>\n",
              "      <th>population_density</th>\n",
              "      <th>median_age</th>\n",
              "      <th>aged_65_older</th>\n",
              "      <th>aged_70_older</th>\n",
              "      <th>gdp_per_capita</th>\n",
              "      <th>extreme_poverty</th>\n",
              "      <th>cvd_death_rate</th>\n",
              "      <th>diabetes_prevalence</th>\n",
              "      <th>female_smokers</th>\n",
              "      <th>male_smokers</th>\n",
              "      <th>handwashing_facilities</th>\n",
              "      <th>hospital_beds_per_thousand</th>\n",
              "      <th>life_expectancy</th>\n",
              "    </tr>\n",
              "  </thead>\n",
              "  <tbody>\n",
              "    <tr>\n",
              "      <th>0</th>\n",
              "      <td>AFG</td>\n",
              "      <td>Asia</td>\n",
              "      <td>Afghanistan</td>\n",
              "      <td>2019-12-31</td>\n",
              "      <td>0.0</td>\n",
              "      <td>0.0</td>\n",
              "      <td>0.0</td>\n",
              "      <td>0.0</td>\n",
              "      <td>0.0</td>\n",
              "      <td>0.0</td>\n",
              "      <td>0.0</td>\n",
              "      <td>0.0</td>\n",
              "      <td>NaN</td>\n",
              "      <td>NaN</td>\n",
              "      <td>NaN</td>\n",
              "      <td>NaN</td>\n",
              "      <td>NaN</td>\n",
              "      <td>NaN</td>\n",
              "      <td>NaN</td>\n",
              "      <td>NaN</td>\n",
              "      <td>38928341</td>\n",
              "      <td>54.422</td>\n",
              "      <td>18.6</td>\n",
              "      <td>2.581</td>\n",
              "      <td>1.337</td>\n",
              "      <td>1803.987</td>\n",
              "      <td>NaN</td>\n",
              "      <td>597.029</td>\n",
              "      <td>9.59</td>\n",
              "      <td>NaN</td>\n",
              "      <td>NaN</td>\n",
              "      <td>37.746</td>\n",
              "      <td>0.5</td>\n",
              "      <td>64.83</td>\n",
              "    </tr>\n",
              "    <tr>\n",
              "      <th>1</th>\n",
              "      <td>AFG</td>\n",
              "      <td>Asia</td>\n",
              "      <td>Afghanistan</td>\n",
              "      <td>2020-01-01</td>\n",
              "      <td>0.0</td>\n",
              "      <td>0.0</td>\n",
              "      <td>0.0</td>\n",
              "      <td>0.0</td>\n",
              "      <td>0.0</td>\n",
              "      <td>0.0</td>\n",
              "      <td>0.0</td>\n",
              "      <td>0.0</td>\n",
              "      <td>NaN</td>\n",
              "      <td>NaN</td>\n",
              "      <td>NaN</td>\n",
              "      <td>NaN</td>\n",
              "      <td>NaN</td>\n",
              "      <td>NaN</td>\n",
              "      <td>NaN</td>\n",
              "      <td>0.0</td>\n",
              "      <td>38928341</td>\n",
              "      <td>54.422</td>\n",
              "      <td>18.6</td>\n",
              "      <td>2.581</td>\n",
              "      <td>1.337</td>\n",
              "      <td>1803.987</td>\n",
              "      <td>NaN</td>\n",
              "      <td>597.029</td>\n",
              "      <td>9.59</td>\n",
              "      <td>NaN</td>\n",
              "      <td>NaN</td>\n",
              "      <td>37.746</td>\n",
              "      <td>0.5</td>\n",
              "      <td>64.83</td>\n",
              "    </tr>\n",
              "    <tr>\n",
              "      <th>2</th>\n",
              "      <td>AFG</td>\n",
              "      <td>Asia</td>\n",
              "      <td>Afghanistan</td>\n",
              "      <td>2020-01-02</td>\n",
              "      <td>0.0</td>\n",
              "      <td>0.0</td>\n",
              "      <td>0.0</td>\n",
              "      <td>0.0</td>\n",
              "      <td>0.0</td>\n",
              "      <td>0.0</td>\n",
              "      <td>0.0</td>\n",
              "      <td>0.0</td>\n",
              "      <td>NaN</td>\n",
              "      <td>NaN</td>\n",
              "      <td>NaN</td>\n",
              "      <td>NaN</td>\n",
              "      <td>NaN</td>\n",
              "      <td>NaN</td>\n",
              "      <td>NaN</td>\n",
              "      <td>0.0</td>\n",
              "      <td>38928341</td>\n",
              "      <td>54.422</td>\n",
              "      <td>18.6</td>\n",
              "      <td>2.581</td>\n",
              "      <td>1.337</td>\n",
              "      <td>1803.987</td>\n",
              "      <td>NaN</td>\n",
              "      <td>597.029</td>\n",
              "      <td>9.59</td>\n",
              "      <td>NaN</td>\n",
              "      <td>NaN</td>\n",
              "      <td>37.746</td>\n",
              "      <td>0.5</td>\n",
              "      <td>64.83</td>\n",
              "    </tr>\n",
              "    <tr>\n",
              "      <th>3</th>\n",
              "      <td>AFG</td>\n",
              "      <td>Asia</td>\n",
              "      <td>Afghanistan</td>\n",
              "      <td>2020-01-03</td>\n",
              "      <td>0.0</td>\n",
              "      <td>0.0</td>\n",
              "      <td>0.0</td>\n",
              "      <td>0.0</td>\n",
              "      <td>0.0</td>\n",
              "      <td>0.0</td>\n",
              "      <td>0.0</td>\n",
              "      <td>0.0</td>\n",
              "      <td>NaN</td>\n",
              "      <td>NaN</td>\n",
              "      <td>NaN</td>\n",
              "      <td>NaN</td>\n",
              "      <td>NaN</td>\n",
              "      <td>NaN</td>\n",
              "      <td>NaN</td>\n",
              "      <td>0.0</td>\n",
              "      <td>38928341</td>\n",
              "      <td>54.422</td>\n",
              "      <td>18.6</td>\n",
              "      <td>2.581</td>\n",
              "      <td>1.337</td>\n",
              "      <td>1803.987</td>\n",
              "      <td>NaN</td>\n",
              "      <td>597.029</td>\n",
              "      <td>9.59</td>\n",
              "      <td>NaN</td>\n",
              "      <td>NaN</td>\n",
              "      <td>37.746</td>\n",
              "      <td>0.5</td>\n",
              "      <td>64.83</td>\n",
              "    </tr>\n",
              "    <tr>\n",
              "      <th>4</th>\n",
              "      <td>AFG</td>\n",
              "      <td>Asia</td>\n",
              "      <td>Afghanistan</td>\n",
              "      <td>2020-01-04</td>\n",
              "      <td>0.0</td>\n",
              "      <td>0.0</td>\n",
              "      <td>0.0</td>\n",
              "      <td>0.0</td>\n",
              "      <td>0.0</td>\n",
              "      <td>0.0</td>\n",
              "      <td>0.0</td>\n",
              "      <td>0.0</td>\n",
              "      <td>NaN</td>\n",
              "      <td>NaN</td>\n",
              "      <td>NaN</td>\n",
              "      <td>NaN</td>\n",
              "      <td>NaN</td>\n",
              "      <td>NaN</td>\n",
              "      <td>NaN</td>\n",
              "      <td>0.0</td>\n",
              "      <td>38928341</td>\n",
              "      <td>54.422</td>\n",
              "      <td>18.6</td>\n",
              "      <td>2.581</td>\n",
              "      <td>1.337</td>\n",
              "      <td>1803.987</td>\n",
              "      <td>NaN</td>\n",
              "      <td>597.029</td>\n",
              "      <td>9.59</td>\n",
              "      <td>NaN</td>\n",
              "      <td>NaN</td>\n",
              "      <td>37.746</td>\n",
              "      <td>0.5</td>\n",
              "      <td>64.83</td>\n",
              "    </tr>\n",
              "  </tbody>\n",
              "</table>\n",
              "</div>"
            ],
            "text/plain": [
              "  iso_code continent  ... hospital_beds_per_thousand life_expectancy\n",
              "0      AFG      Asia  ...                        0.5           64.83\n",
              "1      AFG      Asia  ...                        0.5           64.83\n",
              "2      AFG      Asia  ...                        0.5           64.83\n",
              "3      AFG      Asia  ...                        0.5           64.83\n",
              "4      AFG      Asia  ...                        0.5           64.83\n",
              "\n",
              "[5 rows x 34 columns]"
            ]
          },
          "metadata": {
            "tags": []
          },
          "execution_count": 3
        }
      ]
    },
    {
      "cell_type": "code",
      "metadata": {
        "id": "qjx4YoxNC_nb",
        "colab_type": "code",
        "colab": {
          "base_uri": "https://localhost:8080/",
          "height": 68
        },
        "outputId": "011769b3-f2ec-4e8f-b492-302f02ff1c99"
      },
      "source": [
        "# verificando o tamanho do dataset\n",
        "print(f'Dimensões do Dataset',\n",
        "      f'\\nEntradas: {df.shape[0]}',\n",
        "      f'\\nColunas: {df.shape[1]}')"
      ],
      "execution_count": null,
      "outputs": [
        {
          "output_type": "stream",
          "text": [
            "Dimensões do Dataset \n",
            "Entradas: 24535 \n",
            "Colunas: 34\n"
          ],
          "name": "stdout"
        }
      ]
    },
    {
      "cell_type": "code",
      "metadata": {
        "id": "yWVJjdQjEvWa",
        "colab_type": "code",
        "colab": {
          "base_uri": "https://localhost:8080/",
          "height": 221
        },
        "outputId": "57d1ed70-252d-40da-cc13-ff8396c3f7ec"
      },
      "source": [
        "# colunas do dataset\n",
        "df.columns"
      ],
      "execution_count": null,
      "outputs": [
        {
          "output_type": "execute_result",
          "data": {
            "text/plain": [
              "Index(['iso_code', 'continent', 'location', 'date', 'total_cases', 'new_cases',\n",
              "       'total_deaths', 'new_deaths', 'total_cases_per_million',\n",
              "       'new_cases_per_million', 'total_deaths_per_million',\n",
              "       'new_deaths_per_million', 'total_tests', 'new_tests',\n",
              "       'total_tests_per_thousand', 'new_tests_per_thousand',\n",
              "       'new_tests_smoothed', 'new_tests_smoothed_per_thousand', 'tests_units',\n",
              "       'stringency_index', 'population', 'population_density', 'median_age',\n",
              "       'aged_65_older', 'aged_70_older', 'gdp_per_capita', 'extreme_poverty',\n",
              "       'cvd_death_rate', 'diabetes_prevalence', 'female_smokers',\n",
              "       'male_smokers', 'handwashing_facilities', 'hospital_beds_per_thousand',\n",
              "       'life_expectancy'],\n",
              "      dtype='object')"
            ]
          },
          "metadata": {
            "tags": []
          },
          "execution_count": 8
        }
      ]
    },
    {
      "cell_type": "code",
      "metadata": {
        "id": "1J_dzp7egFsU",
        "colab_type": "code",
        "colab": {
          "base_uri": "https://localhost:8080/",
          "height": 612
        },
        "outputId": "a27352bc-23ff-4c0b-e6ca-4fdcca601ac6"
      },
      "source": [
        "# tipos das variaveis\n",
        "df.dtypes"
      ],
      "execution_count": null,
      "outputs": [
        {
          "output_type": "execute_result",
          "data": {
            "text/plain": [
              "iso_code                            object\n",
              "continent                           object\n",
              "location                            object\n",
              "date                                object\n",
              "total_cases                        float64\n",
              "new_cases                          float64\n",
              "total_deaths                       float64\n",
              "new_deaths                         float64\n",
              "total_cases_per_million            float64\n",
              "new_cases_per_million              float64\n",
              "total_deaths_per_million           float64\n",
              "new_deaths_per_million             float64\n",
              "total_tests                        float64\n",
              "new_tests                          float64\n",
              "total_tests_per_thousand           float64\n",
              "new_tests_per_thousand             float64\n",
              "new_tests_smoothed                 float64\n",
              "new_tests_smoothed_per_thousand    float64\n",
              "tests_units                         object\n",
              "stringency_index                   float64\n",
              "population                           int64\n",
              "population_density                 float64\n",
              "median_age                         float64\n",
              "aged_65_older                      float64\n",
              "aged_70_older                      float64\n",
              "gdp_per_capita                     float64\n",
              "extreme_poverty                    float64\n",
              "cvd_death_rate                     float64\n",
              "diabetes_prevalence                float64\n",
              "female_smokers                     float64\n",
              "male_smokers                       float64\n",
              "handwashing_facilities             float64\n",
              "hospital_beds_per_thousand         float64\n",
              "life_expectancy                    float64\n",
              "dtype: object"
            ]
          },
          "metadata": {
            "tags": []
          },
          "execution_count": 52
        }
      ]
    },
    {
      "cell_type": "markdown",
      "metadata": {
        "id": "ajQYpmHcsn5B",
        "colab_type": "text"
      },
      "source": [
        "Percebemos que a coluna date está com tipo como `object`, vamo corrigir isso transformando os dados dessa coluna em dados do tipo `datetime`, que facilita para trabalharmos com comparação de datas."
      ]
    },
    {
      "cell_type": "code",
      "metadata": {
        "id": "1g4HU4ojuFPA",
        "colab_type": "code",
        "colab": {
          "base_uri": "https://localhost:8080/",
          "height": 34
        },
        "outputId": "9ea692de-a237-481a-ea75-4104a30cb7b9"
      },
      "source": [
        "# verificando o tipo de df.date antes de converter\n",
        "for coluna, tipo in df.dtypes.iteritems():\n",
        "  if coluna == 'date':\n",
        "    print(tipo)\n",
        "    break"
      ],
      "execution_count": null,
      "outputs": [
        {
          "output_type": "stream",
          "text": [
            "object\n"
          ],
          "name": "stdout"
        }
      ]
    },
    {
      "cell_type": "code",
      "metadata": {
        "id": "lwLh09cvs5Zu",
        "colab_type": "code",
        "colab": {
          "base_uri": "https://localhost:8080/",
          "height": 51
        },
        "outputId": "3e2e717a-cc95-469a-c3c2-f610a32c1439"
      },
      "source": [
        "# convertendo para datetime\n",
        "df.date = pd.to_datetime(df.date)\n",
        "\n",
        "# verificando o tipo de df.date depois de converter\n",
        "for coluna, tipo in df.dtypes.iteritems():\n",
        "  if coluna == 'date':\n",
        "    print(tipo)\n",
        "    break"
      ],
      "execution_count": 4,
      "outputs": [
        {
          "output_type": "stream",
          "text": [
            "datetime64[ns]\n"
          ],
          "name": "stdout"
        },
        {
          "output_type": "execute_result",
          "data": {
            "text/plain": [
              "pandas._libs.tslibs.timestamps.Timestamp"
            ]
          },
          "metadata": {
            "tags": []
          },
          "execution_count": 4
        }
      ]
    },
    {
      "cell_type": "markdown",
      "metadata": {
        "id": "ZrJf4nApuOA4",
        "colab_type": "text"
      },
      "source": [
        "Pronto. Agora que já arrumamos a data podemos fazer algumas análises mais interessantes pelas datas.\n",
        "\n",
        "Vamos verificar para a data mais atual do *dataset*, 19/06/2020, quais os países que possuem mais casos e mortes de COVID-19 do mundo."
      ]
    },
    {
      "cell_type": "code",
      "metadata": {
        "id": "HWwnc4NFukR-",
        "colab_type": "code",
        "colab": {
          "base_uri": "https://localhost:8080/",
          "height": 145
        },
        "outputId": "e31a3ccd-a8c1-45ed-95d3-5dedc0333453"
      },
      "source": [
        "# países com mais casos de COVID-19 do mundo\n",
        "df.loc[df.date == '2020-06-19', ['location', 'total_cases']].sort_values(by='total_cases', ascending=False).drop(labels=24534).head().style.hide_index()"
      ],
      "execution_count": null,
      "outputs": [
        {
          "output_type": "execute_result",
          "data": {
            "text/html": [
              "<style  type=\"text/css\" >\n",
              "</style><table id=\"T_3f3fc6bc_b2cd_11ea_8a35_0242ac1c0002\" ><thead>    <tr>        <th class=\"col_heading level0 col0\" >location</th>        <th class=\"col_heading level0 col1\" >total_cases</th>    </tr></thead><tbody>\n",
              "                <tr>\n",
              "                                <td id=\"T_3f3fc6bc_b2cd_11ea_8a35_0242ac1c0002row0_col0\" class=\"data row0 col0\" >United States</td>\n",
              "                        <td id=\"T_3f3fc6bc_b2cd_11ea_8a35_0242ac1c0002row0_col1\" class=\"data row0 col1\" >2191052.000000</td>\n",
              "            </tr>\n",
              "            <tr>\n",
              "                                <td id=\"T_3f3fc6bc_b2cd_11ea_8a35_0242ac1c0002row1_col0\" class=\"data row1 col0\" >Brazil</td>\n",
              "                        <td id=\"T_3f3fc6bc_b2cd_11ea_8a35_0242ac1c0002row1_col1\" class=\"data row1 col1\" >978142.000000</td>\n",
              "            </tr>\n",
              "            <tr>\n",
              "                                <td id=\"T_3f3fc6bc_b2cd_11ea_8a35_0242ac1c0002row2_col0\" class=\"data row2 col0\" >Russia</td>\n",
              "                        <td id=\"T_3f3fc6bc_b2cd_11ea_8a35_0242ac1c0002row2_col1\" class=\"data row2 col1\" >561091.000000</td>\n",
              "            </tr>\n",
              "            <tr>\n",
              "                                <td id=\"T_3f3fc6bc_b2cd_11ea_8a35_0242ac1c0002row3_col0\" class=\"data row3 col0\" >India</td>\n",
              "                        <td id=\"T_3f3fc6bc_b2cd_11ea_8a35_0242ac1c0002row3_col1\" class=\"data row3 col1\" >380532.000000</td>\n",
              "            </tr>\n",
              "            <tr>\n",
              "                                <td id=\"T_3f3fc6bc_b2cd_11ea_8a35_0242ac1c0002row4_col0\" class=\"data row4 col0\" >United Kingdom</td>\n",
              "                        <td id=\"T_3f3fc6bc_b2cd_11ea_8a35_0242ac1c0002row4_col1\" class=\"data row4 col1\" >300469.000000</td>\n",
              "            </tr>\n",
              "    </tbody></table>"
            ],
            "text/plain": [
              "<pandas.io.formats.style.Styler at 0x7f6ee2fccc18>"
            ]
          },
          "metadata": {
            "tags": []
          },
          "execution_count": 65
        }
      ]
    },
    {
      "cell_type": "code",
      "metadata": {
        "id": "fA_jH2cuwMj_",
        "colab_type": "code",
        "colab": {
          "base_uri": "https://localhost:8080/",
          "height": 145
        },
        "outputId": "fa40c469-dc04-4d99-83ae-ca01008a6989"
      },
      "source": [
        "# países com mais morte atribuídas de COVID-19 do mundo\n",
        "df.loc[df.date == '2020-06-19', ['location', 'total_deaths']].sort_values(by='total_deaths', ascending=False).drop(labels=24534).head().style.hide_index()"
      ],
      "execution_count": null,
      "outputs": [
        {
          "output_type": "execute_result",
          "data": {
            "text/html": [
              "<style  type=\"text/css\" >\n",
              "</style><table id=\"T_44acf6ba_b2cd_11ea_8a35_0242ac1c0002\" ><thead>    <tr>        <th class=\"col_heading level0 col0\" >location</th>        <th class=\"col_heading level0 col1\" >total_deaths</th>    </tr></thead><tbody>\n",
              "                <tr>\n",
              "                                <td id=\"T_44acf6ba_b2cd_11ea_8a35_0242ac1c0002row0_col0\" class=\"data row0 col0\" >United States</td>\n",
              "                        <td id=\"T_44acf6ba_b2cd_11ea_8a35_0242ac1c0002row0_col1\" class=\"data row0 col1\" >118434.000000</td>\n",
              "            </tr>\n",
              "            <tr>\n",
              "                                <td id=\"T_44acf6ba_b2cd_11ea_8a35_0242ac1c0002row1_col0\" class=\"data row1 col0\" >Brazil</td>\n",
              "                        <td id=\"T_44acf6ba_b2cd_11ea_8a35_0242ac1c0002row1_col1\" class=\"data row1 col1\" >47748.000000</td>\n",
              "            </tr>\n",
              "            <tr>\n",
              "                                <td id=\"T_44acf6ba_b2cd_11ea_8a35_0242ac1c0002row2_col0\" class=\"data row2 col0\" >United Kingdom</td>\n",
              "                        <td id=\"T_44acf6ba_b2cd_11ea_8a35_0242ac1c0002row2_col1\" class=\"data row2 col1\" >42288.000000</td>\n",
              "            </tr>\n",
              "            <tr>\n",
              "                                <td id=\"T_44acf6ba_b2cd_11ea_8a35_0242ac1c0002row3_col0\" class=\"data row3 col0\" >Italy</td>\n",
              "                        <td id=\"T_44acf6ba_b2cd_11ea_8a35_0242ac1c0002row3_col1\" class=\"data row3 col1\" >34514.000000</td>\n",
              "            </tr>\n",
              "            <tr>\n",
              "                                <td id=\"T_44acf6ba_b2cd_11ea_8a35_0242ac1c0002row4_col0\" class=\"data row4 col0\" >France</td>\n",
              "                        <td id=\"T_44acf6ba_b2cd_11ea_8a35_0242ac1c0002row4_col1\" class=\"data row4 col1\" >29603.000000</td>\n",
              "            </tr>\n",
              "    </tbody></table>"
            ],
            "text/plain": [
              "<pandas.io.formats.style.Styler at 0x7f6ee2d03940>"
            ]
          },
          "metadata": {
            "tags": []
          },
          "execution_count": 66
        }
      ]
    },
    {
      "cell_type": "markdown",
      "metadata": {
        "id": "B5-BiRx5xkw9",
        "colab_type": "text"
      },
      "source": [
        "Vamos plotar um gráfico de barras para os 5 países com mais mortes e vamos comparar esse gráfico com o gráfico do total de casos desses países.\n",
        "\n",
        "A esquerda os 5 países com mais mortes de COVID-19, à direita os casos confirmados de COVID-19 desses países."
      ]
    },
    {
      "cell_type": "code",
      "metadata": {
        "id": "tyOEWCHVxz42",
        "colab_type": "code",
        "colab": {
          "base_uri": "https://localhost:8080/",
          "height": 297
        },
        "outputId": "c449a978-a4d0-4c99-ac55-f5bd721b4e24"
      },
      "source": [
        "df2 = df.loc[df.date == '2020-06-19', ['location', 'total_deaths', 'total_cases']].sort_values(by='total_deaths', ascending=False)[1:6]\n",
        "fig, ax = plt.subplots(figsize=(13,4), ncols=2)\n",
        "\n",
        "sns.barplot(df2.location, df2.total_deaths, palette='rocket', ax=ax[0])\n",
        "ax[0].set(xlabel=None)\n",
        "ax[0].set(ylabel=None)\n",
        "ax[0].set_title('5 países com mais mortes de COVID-19 do mundo')\n",
        "\n",
        "\n",
        "sns.barplot(df2.location, df2.total_cases, palette='rocket', ax=ax[1])\n",
        "ax[1].set(xlabel=None)\n",
        "ax[1].set(ylabel=None)\n",
        "ax[1].set_title('Casos de COVID-19 dos países com mais mortes')\n",
        "\n",
        "\n",
        "plt.tight_layout()"
      ],
      "execution_count": null,
      "outputs": [
        {
          "output_type": "display_data",
          "data": {
            "image/png": "[encoded data removed]",
            "text/plain": [
              "<Figure size 936x288 with 2 Axes>"
            ]
          },
          "metadata": {
            "tags": [],
            "needs_background": "light"
          }
        }
      ]
    },
    {
      "cell_type": "markdown",
      "metadata": {
        "id": "SJszovXQ7_ON",
        "colab_type": "text"
      },
      "source": [
        "Vimos que os dois gráficos mostram uma correlação, os 5 países que mais tem casos confirmados de COVID-19 são os países onde mais pessoas morrem da doença.\n",
        "\n",
        "Vamos agora plotar um gráfico de linha para ver a evolução através dos dias do total de mortes atribuídas ao COVID-19 no mundo."
      ]
    },
    {
      "cell_type": "code",
      "metadata": {
        "id": "Qja82DOy8_tr",
        "colab_type": "code",
        "colab": {
          "base_uri": "https://localhost:8080/",
          "height": 297
        },
        "outputId": "c096f741-e17d-4127-9626-c5d0a87eb5bd"
      },
      "source": [
        "d3 = df.loc[df.location == 'World', 'total_deaths'].reset_index(drop=True)\n",
        "\n",
        "fig, ax = plt.subplots(figsize=(7,4))\n",
        "sns.lineplot(data=d3)\n",
        "ax.set_xlabel('Dias passados')\n",
        "ax.set_ylabel('Total de mortes')\n",
        "ax.set_title('Evolução do número de mortes de COVID-19 no mundo')\n",
        "\n",
        "plt.tight_layout()"
      ],
      "execution_count": null,
      "outputs": [
        {
          "output_type": "display_data",
          "data": {
            "image/png": "[encoded data removed]",
            "text/plain": [
              "<Figure size 504x288 with 1 Axes>"
            ]
          },
          "metadata": {
            "tags": [],
            "needs_background": "light"
          }
        }
      ]
    },
    {
      "cell_type": "markdown",
      "metadata": {
        "id": "XhcZLbUDBi0K",
        "colab_type": "text"
      },
      "source": [
        "Vamos agora plotar um gráfico de dispersão considerando o `gdp_per_capita` (ou seja, o PIB do país) pelo número total de mortos na data mais atual do *dataset*, 19/06/2019. Para isso vamos descartar as entradas que correspondem todo o mundo, pois elas podem ser *outliers* por serem as somas de todos os países do conjunto de dados."
      ]
    },
    {
      "cell_type": "code",
      "metadata": {
        "id": "m5TDtjGEB0ox",
        "colab_type": "code",
        "colab": {
          "base_uri": "https://localhost:8080/",
          "height": 285
        },
        "outputId": "5fd138eb-22cc-451e-c328-02addd047c25"
      },
      "source": [
        "fig, ax2 = plt.subplots()\n",
        "cmap = sns.cubehelix_palette(dark=.3, light=.8, as_cmap=True)\n",
        "\n",
        "sns.regplot(x=\"gdp_per_capita\", y=\"total_deaths\",line_kws={'color': 'red'},ax=ax2,\n",
        "            data=df.loc[(df.date == '2020-06-19') & (df.location != 'World'), ['gdp_per_capita', 'total_deaths']]);"
      ],
      "execution_count": null,
      "outputs": [
        {
          "output_type": "display_data",
          "data": {
            "image/png": "[encoded data removed]",
            "text/plain": [
              "<Figure size 432x288 with 1 Axes>"
            ]
          },
          "metadata": {
            "tags": [],
            "needs_background": "light"
          }
        }
      ]
    },
    {
      "cell_type": "markdown",
      "metadata": {
        "id": "6oe6tOxnGFsR",
        "colab_type": "text"
      },
      "source": [
        "Vemos que o total de mortes está concentrado em países com o PIB per capita entre 0 e 50.000, o que é um intervalo bem grande, temos que considerar também que países mais pobres geralmente testam menos o que distorce nosso gráfico de dispersão."
      ]
    },
    {
      "cell_type": "markdown",
      "metadata": {
        "id": "3YA5_5RSrl8i",
        "colab_type": "text"
      },
      "source": [
        "### Dados ausentes\n",
        "Agora vamos verificar os dados ausentes do nosso conjunto de dados. Quanto menos dados ausentes melhor a qualidade do nosso `dataset`. Assim podemos fazer análises mais próximas do mundo real sem distorções."
      ]
    },
    {
      "cell_type": "code",
      "metadata": {
        "id": "jcEyw8t0gYcr",
        "colab_type": "code",
        "colab": {
          "base_uri": "https://localhost:8080/",
          "height": 595
        },
        "outputId": "8489d6c0-e3db-40b7-aaeb-a0dbc71155fb"
      },
      "source": [
        "# quantitade de dados ausentes\n",
        "p = (df.isnull().sum() / df.shape[0]).sort_values(ascending=False)*100\n",
        "\n",
        "for variavel, porcentagem in p.iteritems():\n",
        "  print(f'Percentil de dados ausentes de {variavel}: {porcentagem:.2f}%')"
      ],
      "execution_count": null,
      "outputs": [
        {
          "output_type": "stream",
          "text": [
            "Percentil de dados ausentes de new_tests: 74.22%\n",
            "Percentil de dados ausentes de new_tests_per_thousand: 74.22%\n",
            "Percentil de dados ausentes de total_tests_per_thousand: 71.54%\n",
            "Percentil de dados ausentes de total_tests: 71.54%\n",
            "Percentil de dados ausentes de new_tests_smoothed_per_thousand: 69.15%\n",
            "Percentil de dados ausentes de new_tests_smoothed: 69.15%\n",
            "Percentil de dados ausentes de tests_units: 66.63%\n",
            "Percentil de dados ausentes de handwashing_facilities: 58.97%\n",
            "Percentil de dados ausentes de extreme_poverty: 39.43%\n",
            "Percentil de dados ausentes de male_smokers: 27.02%\n",
            "Percentil de dados ausentes de female_smokers: 26.18%\n",
            "Percentil de dados ausentes de stringency_index: 18.32%\n",
            "Percentil de dados ausentes de hospital_beds_per_thousand: 15.92%\n",
            "Percentil de dados ausentes de gdp_per_capita: 9.64%\n",
            "Percentil de dados ausentes de aged_65_older: 9.57%\n",
            "Percentil de dados ausentes de aged_70_older: 8.75%\n",
            "Percentil de dados ausentes de median_age: 8.29%\n",
            "Percentil de dados ausentes de cvd_death_rate: 8.22%\n",
            "Percentil de dados ausentes de diabetes_prevalence: 5.23%\n",
            "Percentil de dados ausentes de population_density: 3.69%\n",
            "Percentil de dados ausentes de life_expectancy: 1.14%\n",
            "Percentil de dados ausentes de new_deaths_per_million: 0.92%\n",
            "Percentil de dados ausentes de total_deaths_per_million: 0.92%\n",
            "Percentil de dados ausentes de new_deaths: 0.92%\n",
            "Percentil de dados ausentes de total_deaths: 0.92%\n",
            "Percentil de dados ausentes de new_cases_per_million: 0.92%\n",
            "Percentil de dados ausentes de total_cases_per_million: 0.92%\n",
            "Percentil de dados ausentes de new_cases: 0.92%\n",
            "Percentil de dados ausentes de total_cases: 0.92%\n",
            "Percentil de dados ausentes de continent: 0.70%\n",
            "Percentil de dados ausentes de population: 0.00%\n",
            "Percentil de dados ausentes de date: 0.00%\n",
            "Percentil de dados ausentes de location: 0.00%\n",
            "Percentil de dados ausentes de iso_code: 0.00%\n"
          ],
          "name": "stdout"
        }
      ]
    },
    {
      "cell_type": "markdown",
      "metadata": {
        "id": "xQJaQNGAhrcs",
        "colab_type": "text"
      },
      "source": [
        "Percebemos que algumas colunas tem muitos valores ausentes e que podemos tentar tratá-los. Como muitos dos dados das colunas vem de agências governamentais pode ser que isso explique por que tantos valores estão nulos, pois alguns países demoraram mais para descobrir a doença em seu território do que outros o que pode significar que esses valores começaram a serem preenchidos a partir da descoberta do primeiro caso. Vamos verificar os dados ausentes por país."
      ]
    },
    {
      "cell_type": "code",
      "metadata": {
        "id": "BkaU92bEi5QC",
        "colab_type": "code",
        "colab": {
          "base_uri": "https://localhost:8080/",
          "height": 255
        },
        "outputId": "e1f400ae-f980-4a5a-90f5-1961ac4ca172"
      },
      "source": [
        "# dados ausentes por país\n",
        "df_clean = df.set_index('location').isna().sum(level=0)\n",
        "\n",
        "df_clean.head()"
      ],
      "execution_count": null,
      "outputs": [
        {
          "output_type": "execute_result",
          "data": {
            "text/html": [
              "<div>\n",
              "<style scoped>\n",
              "    .dataframe tbody tr th:only-of-type {\n",
              "        vertical-align: middle;\n",
              "    }\n",
              "\n",
              "    .dataframe tbody tr th {\n",
              "        vertical-align: top;\n",
              "    }\n",
              "\n",
              "    .dataframe thead th {\n",
              "        text-align: right;\n",
              "    }\n",
              "</style>\n",
              "<table border=\"1\" class=\"dataframe\">\n",
              "  <thead>\n",
              "    <tr style=\"text-align: right;\">\n",
              "      <th></th>\n",
              "      <th>iso_code</th>\n",
              "      <th>continent</th>\n",
              "      <th>date</th>\n",
              "      <th>total_cases</th>\n",
              "      <th>new_cases</th>\n",
              "      <th>total_deaths</th>\n",
              "      <th>new_deaths</th>\n",
              "      <th>total_cases_per_million</th>\n",
              "      <th>new_cases_per_million</th>\n",
              "      <th>total_deaths_per_million</th>\n",
              "      <th>new_deaths_per_million</th>\n",
              "      <th>total_tests</th>\n",
              "      <th>new_tests</th>\n",
              "      <th>total_tests_per_thousand</th>\n",
              "      <th>new_tests_per_thousand</th>\n",
              "      <th>new_tests_smoothed</th>\n",
              "      <th>new_tests_smoothed_per_thousand</th>\n",
              "      <th>tests_units</th>\n",
              "      <th>stringency_index</th>\n",
              "      <th>population</th>\n",
              "      <th>population_density</th>\n",
              "      <th>median_age</th>\n",
              "      <th>aged_65_older</th>\n",
              "      <th>aged_70_older</th>\n",
              "      <th>gdp_per_capita</th>\n",
              "      <th>extreme_poverty</th>\n",
              "      <th>cvd_death_rate</th>\n",
              "      <th>diabetes_prevalence</th>\n",
              "      <th>female_smokers</th>\n",
              "      <th>male_smokers</th>\n",
              "      <th>handwashing_facilities</th>\n",
              "      <th>hospital_beds_per_thousand</th>\n",
              "      <th>life_expectancy</th>\n",
              "    </tr>\n",
              "    <tr>\n",
              "      <th>location</th>\n",
              "      <th></th>\n",
              "      <th></th>\n",
              "      <th></th>\n",
              "      <th></th>\n",
              "      <th></th>\n",
              "      <th></th>\n",
              "      <th></th>\n",
              "      <th></th>\n",
              "      <th></th>\n",
              "      <th></th>\n",
              "      <th></th>\n",
              "      <th></th>\n",
              "      <th></th>\n",
              "      <th></th>\n",
              "      <th></th>\n",
              "      <th></th>\n",
              "      <th></th>\n",
              "      <th></th>\n",
              "      <th></th>\n",
              "      <th></th>\n",
              "      <th></th>\n",
              "      <th></th>\n",
              "      <th></th>\n",
              "      <th></th>\n",
              "      <th></th>\n",
              "      <th></th>\n",
              "      <th></th>\n",
              "      <th></th>\n",
              "      <th></th>\n",
              "      <th></th>\n",
              "      <th></th>\n",
              "      <th></th>\n",
              "      <th></th>\n",
              "    </tr>\n",
              "  </thead>\n",
              "  <tbody>\n",
              "    <tr>\n",
              "      <th>Afghanistan</th>\n",
              "      <td>0.0</td>\n",
              "      <td>0.0</td>\n",
              "      <td>0.0</td>\n",
              "      <td>0.0</td>\n",
              "      <td>0.0</td>\n",
              "      <td>0.0</td>\n",
              "      <td>0.0</td>\n",
              "      <td>0.0</td>\n",
              "      <td>0.0</td>\n",
              "      <td>0.0</td>\n",
              "      <td>0.0</td>\n",
              "      <td>162.0</td>\n",
              "      <td>162.0</td>\n",
              "      <td>162.0</td>\n",
              "      <td>162.0</td>\n",
              "      <td>162.0</td>\n",
              "      <td>162.0</td>\n",
              "      <td>162.0</td>\n",
              "      <td>12.0</td>\n",
              "      <td>0.0</td>\n",
              "      <td>0.0</td>\n",
              "      <td>0.0</td>\n",
              "      <td>0.0</td>\n",
              "      <td>0.0</td>\n",
              "      <td>0.0</td>\n",
              "      <td>162.0</td>\n",
              "      <td>0.0</td>\n",
              "      <td>0.0</td>\n",
              "      <td>162.0</td>\n",
              "      <td>162.0</td>\n",
              "      <td>0.0</td>\n",
              "      <td>0.0</td>\n",
              "      <td>0.0</td>\n",
              "    </tr>\n",
              "    <tr>\n",
              "      <th>Albania</th>\n",
              "      <td>0.0</td>\n",
              "      <td>0.0</td>\n",
              "      <td>0.0</td>\n",
              "      <td>0.0</td>\n",
              "      <td>0.0</td>\n",
              "      <td>0.0</td>\n",
              "      <td>0.0</td>\n",
              "      <td>0.0</td>\n",
              "      <td>0.0</td>\n",
              "      <td>0.0</td>\n",
              "      <td>0.0</td>\n",
              "      <td>103.0</td>\n",
              "      <td>103.0</td>\n",
              "      <td>103.0</td>\n",
              "      <td>103.0</td>\n",
              "      <td>103.0</td>\n",
              "      <td>103.0</td>\n",
              "      <td>103.0</td>\n",
              "      <td>4.0</td>\n",
              "      <td>0.0</td>\n",
              "      <td>0.0</td>\n",
              "      <td>0.0</td>\n",
              "      <td>0.0</td>\n",
              "      <td>0.0</td>\n",
              "      <td>0.0</td>\n",
              "      <td>0.0</td>\n",
              "      <td>0.0</td>\n",
              "      <td>0.0</td>\n",
              "      <td>0.0</td>\n",
              "      <td>0.0</td>\n",
              "      <td>103.0</td>\n",
              "      <td>0.0</td>\n",
              "      <td>0.0</td>\n",
              "    </tr>\n",
              "    <tr>\n",
              "      <th>Algeria</th>\n",
              "      <td>0.0</td>\n",
              "      <td>0.0</td>\n",
              "      <td>0.0</td>\n",
              "      <td>0.0</td>\n",
              "      <td>0.0</td>\n",
              "      <td>0.0</td>\n",
              "      <td>0.0</td>\n",
              "      <td>0.0</td>\n",
              "      <td>0.0</td>\n",
              "      <td>0.0</td>\n",
              "      <td>0.0</td>\n",
              "      <td>167.0</td>\n",
              "      <td>167.0</td>\n",
              "      <td>167.0</td>\n",
              "      <td>167.0</td>\n",
              "      <td>167.0</td>\n",
              "      <td>167.0</td>\n",
              "      <td>167.0</td>\n",
              "      <td>9.0</td>\n",
              "      <td>0.0</td>\n",
              "      <td>0.0</td>\n",
              "      <td>0.0</td>\n",
              "      <td>0.0</td>\n",
              "      <td>0.0</td>\n",
              "      <td>0.0</td>\n",
              "      <td>0.0</td>\n",
              "      <td>0.0</td>\n",
              "      <td>0.0</td>\n",
              "      <td>0.0</td>\n",
              "      <td>0.0</td>\n",
              "      <td>0.0</td>\n",
              "      <td>0.0</td>\n",
              "      <td>0.0</td>\n",
              "    </tr>\n",
              "    <tr>\n",
              "      <th>Andorra</th>\n",
              "      <td>0.0</td>\n",
              "      <td>0.0</td>\n",
              "      <td>0.0</td>\n",
              "      <td>0.0</td>\n",
              "      <td>0.0</td>\n",
              "      <td>0.0</td>\n",
              "      <td>0.0</td>\n",
              "      <td>0.0</td>\n",
              "      <td>0.0</td>\n",
              "      <td>0.0</td>\n",
              "      <td>0.0</td>\n",
              "      <td>98.0</td>\n",
              "      <td>98.0</td>\n",
              "      <td>98.0</td>\n",
              "      <td>98.0</td>\n",
              "      <td>98.0</td>\n",
              "      <td>98.0</td>\n",
              "      <td>98.0</td>\n",
              "      <td>7.0</td>\n",
              "      <td>0.0</td>\n",
              "      <td>0.0</td>\n",
              "      <td>98.0</td>\n",
              "      <td>98.0</td>\n",
              "      <td>98.0</td>\n",
              "      <td>98.0</td>\n",
              "      <td>98.0</td>\n",
              "      <td>0.0</td>\n",
              "      <td>0.0</td>\n",
              "      <td>0.0</td>\n",
              "      <td>0.0</td>\n",
              "      <td>98.0</td>\n",
              "      <td>98.0</td>\n",
              "      <td>0.0</td>\n",
              "    </tr>\n",
              "    <tr>\n",
              "      <th>Angola</th>\n",
              "      <td>0.0</td>\n",
              "      <td>0.0</td>\n",
              "      <td>0.0</td>\n",
              "      <td>0.0</td>\n",
              "      <td>0.0</td>\n",
              "      <td>0.0</td>\n",
              "      <td>0.0</td>\n",
              "      <td>0.0</td>\n",
              "      <td>0.0</td>\n",
              "      <td>0.0</td>\n",
              "      <td>0.0</td>\n",
              "      <td>90.0</td>\n",
              "      <td>90.0</td>\n",
              "      <td>90.0</td>\n",
              "      <td>90.0</td>\n",
              "      <td>90.0</td>\n",
              "      <td>90.0</td>\n",
              "      <td>90.0</td>\n",
              "      <td>3.0</td>\n",
              "      <td>0.0</td>\n",
              "      <td>0.0</td>\n",
              "      <td>0.0</td>\n",
              "      <td>0.0</td>\n",
              "      <td>0.0</td>\n",
              "      <td>0.0</td>\n",
              "      <td>90.0</td>\n",
              "      <td>0.0</td>\n",
              "      <td>0.0</td>\n",
              "      <td>90.0</td>\n",
              "      <td>90.0</td>\n",
              "      <td>0.0</td>\n",
              "      <td>90.0</td>\n",
              "      <td>0.0</td>\n",
              "    </tr>\n",
              "  </tbody>\n",
              "</table>\n",
              "</div>"
            ],
            "text/plain": [
              "             iso_code  continent  ...  hospital_beds_per_thousand  life_expectancy\n",
              "location                          ...                                             \n",
              "Afghanistan       0.0        0.0  ...                         0.0              0.0\n",
              "Albania           0.0        0.0  ...                         0.0              0.0\n",
              "Algeria           0.0        0.0  ...                         0.0              0.0\n",
              "Andorra           0.0        0.0  ...                        98.0              0.0\n",
              "Angola            0.0        0.0  ...                        90.0              0.0\n",
              "\n",
              "[5 rows x 33 columns]"
            ]
          },
          "metadata": {
            "tags": []
          },
          "execution_count": 26
        }
      ]
    },
    {
      "cell_type": "markdown",
      "metadata": {
        "id": "VrU_ZwYDnQ2O",
        "colab_type": "text"
      },
      "source": [
        "Analisando os dados do Afghanistan percebemos que algumas colunas estão com 162 dados ausentes, vamos verificar se esse número representa uma porcentagem grande perante o total de entradas do Afghanistan."
      ]
    },
    {
      "cell_type": "code",
      "metadata": {
        "id": "xcfVAWd_n0rj",
        "colab_type": "code",
        "colab": {
          "base_uri": "https://localhost:8080/",
          "height": 34
        },
        "outputId": "35d8d5e6-870f-4c62-a9d1-a89b48f734b3"
      },
      "source": [
        "df.loc[df.location == 'Afghanistan'].new_tests.isnull().sum() / len(df.loc[df.location == 'Afghanistan']) * 100"
      ],
      "execution_count": null,
      "outputs": [
        {
          "output_type": "execute_result",
          "data": {
            "text/plain": [
              "100.0"
            ]
          },
          "metadata": {
            "tags": []
          },
          "execution_count": 46
        }
      ]
    },
    {
      "cell_type": "markdown",
      "metadata": {
        "id": "IXtKt2HXqQuq",
        "colab_type": "text"
      },
      "source": [
        "Percebemos que 100% dos valores para `new_tests` para o Afghanistan são ausentes, isso pode nos dizer que a fonte que o site que produziu nosso *dataset* pegou não informa esses valores.\n",
        "\n",
        "Há diversas formas para lidar com esses valores mas como nosso objetivo aqui é apenas fazer uma análise inicial dos dados não vamos tratá-los aqui, se em nossa análise de dados mais aprofundada sobre o Brasil precisarmos tratar dados ausentes então o faremos posteriormente."
      ]
    },
    {
      "cell_type": "markdown",
      "metadata": {
        "id": "SViA5VZ7DYLA",
        "colab_type": "text"
      },
      "source": [
        "### Análise Exploratória para o Brasil\n",
        "\n",
        "Vamos agora focar nossa análise para nosso país, para isso vamos fazer uma copia do nosso *dataset* apenas com dados do Brasil e fazermos algumas análises como identificar a primeira morte no Brasil, quantos dias demorou para registrarmos a primeira morte e plotar alguns gráficos interessantes.\n",
        "\n",
        "<figure>\n",
        "\t<img src=\"https://raw.githubusercontent.com/johnsigma/meuPortifolio/master/imagens/brazil.jpg\" width=\"100%\" height=\"450\"/>\n",
        "\t <figcaption><a href='https://www.freepik.com/free-photos-vectors/poster'>Poster vector created by pinnacleanimates - www.freepik.com</a></figcaption>   \n",
        "</figure>"
      ]
    },
    {
      "cell_type": "code",
      "metadata": {
        "id": "UDQA502_hAwI",
        "colab_type": "code",
        "colab": {}
      },
      "source": [
        "df_brasil = df.loc[df.location == 'Brazil'].copy()"
      ],
      "execution_count": null,
      "outputs": []
    },
    {
      "cell_type": "code",
      "metadata": {
        "id": "Uez-56k6D1CM",
        "colab_type": "code",
        "colab": {
          "base_uri": "https://localhost:8080/",
          "height": 117
        },
        "outputId": "e06115ef-18b3-4b4e-a285-cc486e73a2a2"
      },
      "source": [
        "# primeira morte registrada\n",
        "df_brasil.loc[df_brasil.total_deaths == 1.0]"
      ],
      "execution_count": null,
      "outputs": [
        {
          "output_type": "execute_result",
          "data": {
            "text/html": [
              "<div>\n",
              "<style scoped>\n",
              "    .dataframe tbody tr th:only-of-type {\n",
              "        vertical-align: middle;\n",
              "    }\n",
              "\n",
              "    .dataframe tbody tr th {\n",
              "        vertical-align: top;\n",
              "    }\n",
              "\n",
              "    .dataframe thead th {\n",
              "        text-align: right;\n",
              "    }\n",
              "</style>\n",
              "<table border=\"1\" class=\"dataframe\">\n",
              "  <thead>\n",
              "    <tr style=\"text-align: right;\">\n",
              "      <th></th>\n",
              "      <th>iso_code</th>\n",
              "      <th>continent</th>\n",
              "      <th>location</th>\n",
              "      <th>date</th>\n",
              "      <th>total_cases</th>\n",
              "      <th>new_cases</th>\n",
              "      <th>total_deaths</th>\n",
              "      <th>new_deaths</th>\n",
              "      <th>total_cases_per_million</th>\n",
              "      <th>new_cases_per_million</th>\n",
              "      <th>total_deaths_per_million</th>\n",
              "      <th>new_deaths_per_million</th>\n",
              "      <th>total_tests</th>\n",
              "      <th>new_tests</th>\n",
              "      <th>total_tests_per_thousand</th>\n",
              "      <th>new_tests_per_thousand</th>\n",
              "      <th>new_tests_smoothed</th>\n",
              "      <th>new_tests_smoothed_per_thousand</th>\n",
              "      <th>tests_units</th>\n",
              "      <th>stringency_index</th>\n",
              "      <th>population</th>\n",
              "      <th>population_density</th>\n",
              "      <th>median_age</th>\n",
              "      <th>aged_65_older</th>\n",
              "      <th>aged_70_older</th>\n",
              "      <th>gdp_per_capita</th>\n",
              "      <th>extreme_poverty</th>\n",
              "      <th>cvd_death_rate</th>\n",
              "      <th>diabetes_prevalence</th>\n",
              "      <th>female_smokers</th>\n",
              "      <th>male_smokers</th>\n",
              "      <th>handwashing_facilities</th>\n",
              "      <th>hospital_beds_per_thousand</th>\n",
              "      <th>life_expectancy</th>\n",
              "    </tr>\n",
              "  </thead>\n",
              "  <tbody>\n",
              "    <tr>\n",
              "      <th>3337</th>\n",
              "      <td>BRA</td>\n",
              "      <td>South America</td>\n",
              "      <td>Brazil</td>\n",
              "      <td>2020-03-18</td>\n",
              "      <td>291.0</td>\n",
              "      <td>57.0</td>\n",
              "      <td>1.0</td>\n",
              "      <td>1.0</td>\n",
              "      <td>1.369</td>\n",
              "      <td>0.268</td>\n",
              "      <td>0.005</td>\n",
              "      <td>0.005</td>\n",
              "      <td>NaN</td>\n",
              "      <td>NaN</td>\n",
              "      <td>NaN</td>\n",
              "      <td>NaN</td>\n",
              "      <td>NaN</td>\n",
              "      <td>NaN</td>\n",
              "      <td>NaN</td>\n",
              "      <td>60.65</td>\n",
              "      <td>212559409</td>\n",
              "      <td>25.04</td>\n",
              "      <td>33.5</td>\n",
              "      <td>8.552</td>\n",
              "      <td>5.06</td>\n",
              "      <td>14103.452</td>\n",
              "      <td>3.4</td>\n",
              "      <td>177.961</td>\n",
              "      <td>8.11</td>\n",
              "      <td>10.1</td>\n",
              "      <td>17.9</td>\n",
              "      <td>NaN</td>\n",
              "      <td>2.2</td>\n",
              "      <td>75.88</td>\n",
              "    </tr>\n",
              "  </tbody>\n",
              "</table>\n",
              "</div>"
            ],
            "text/plain": [
              "     iso_code      continent  ... hospital_beds_per_thousand life_expectancy\n",
              "3337      BRA  South America  ...                        2.2           75.88\n",
              "\n",
              "[1 rows x 34 columns]"
            ]
          },
          "metadata": {
            "tags": []
          },
          "execution_count": 16
        }
      ]
    },
    {
      "cell_type": "code",
      "metadata": {
        "id": "M4VEVt8mE4fa",
        "colab_type": "code",
        "cellView": "form",
        "colab": {
          "base_uri": "https://localhost:8080/",
          "height": 68
        },
        "outputId": "af3400e6-dfdd-446c-e003-a7cc30bec057"
      },
      "source": [
        "#@title\n",
        "\n",
        "# buscando a primeira morte registrada de COVID-19 do mundo\n",
        "df_firstDeath = df.loc[(df.total_deaths == 1.0) & (df.location == 'World')].iloc[0]\n",
        "\n",
        "# extraindo as datas da primeira morte no mundo e no Brasil\n",
        "date_world = df_firstDeath.date\n",
        "date_brasil = df_brasil.loc[df_brasil.total_deaths == 1.0].iloc[0].date\n",
        "\n",
        "print(f'Data da primeira morte no mundo: {date_world}',\n",
        "      f'\\nData da primeira morte no Brasil: {date_brasil}')\n",
        "\n",
        "diferenca = date_brasil - date_world\n",
        "\n",
        "print(f'Diferença da primeira morte no Mundo para a primeira morte no Brasil: {diferenca.days} dias')\n",
        "\n",
        "# importando datetime"
      ],
      "execution_count": null,
      "outputs": [
        {
          "output_type": "stream",
          "text": [
            "Data da primeira morte no mundo: 2020-01-11 00:00:00 \n",
            "Data da primeira morte no Brasil: 2020-03-18 00:00:00\n",
            "Diferença da primeira morte no Mundo para a primeira morte no Brasil: 67 dias\n"
          ],
          "name": "stdout"
        }
      ]
    },
    {
      "cell_type": "markdown",
      "metadata": {
        "id": "M1R1NUmVEbNy",
        "colab_type": "text"
      },
      "source": [
        "Verificamos que a primeira morte registrada de COVID-19 no Brasil, segundo nosso *dataset*, foi no dia 18 de março de 2020 e o país continha 291 casos confirmados da doença.\n",
        "\n",
        "Nas células de códigos escondidas fiz uma subtração da data da primeira morte registrada de COVID-19 do mundo com a data da primeira morte registrada no Brasil, o que deu 67 dias de diferença."
      ]
    },
    {
      "cell_type": "markdown",
      "metadata": {
        "id": "wlIsqLHvMT8_",
        "colab_type": "text"
      },
      "source": [
        "Seguindo esse linha podemos calcular o número de dias que demorou para registrarmos a primeira morte, considerando o primeiro caso confirmado de COVID-19 no país."
      ]
    },
    {
      "cell_type": "code",
      "metadata": {
        "id": "U2XhoQU0Ms5o",
        "colab_type": "code",
        "cellView": "both",
        "colab": {
          "base_uri": "https://localhost:8080/",
          "height": 51
        },
        "outputId": "87d1dd69-a81d-4bcc-9238-b6c585c02557"
      },
      "source": [
        "# buscando a data do primeiro caso de COVID-19 no Brasil\n",
        "data = df_brasil.loc[df_brasil.total_cases == 1.0].iloc[0].date\n",
        "print('Data do primeiro caso de COVID-19 registrado no Brasil:',\n",
        "      f'{data.day}/{data.month}/{data.year}')\n",
        "\n",
        "# diferença das datas\n",
        "diferenca2 = date_brasil - data\n",
        "\n",
        "print('Número de dias passados do registro do primeiro caso até a primeira ',\n",
        "      f'morte de COVID-19 no Brasil: {diferenca2.days} dias')"
      ],
      "execution_count": null,
      "outputs": [
        {
          "output_type": "stream",
          "text": [
            "Data do primeiro caso de COVID-19 registrado no Brasil: 26/2/2020\n",
            "Número de dias passados do registro do primeiro caso até a primeira  morte de COVID-19 no Brasil: 21 dias\n"
          ],
          "name": "stdout"
        }
      ]
    },
    {
      "cell_type": "markdown",
      "metadata": {
        "id": "Tl-_ZJuYNBNg",
        "colab_type": "text"
      },
      "source": [
        "Vemos que o primeiro caso de COVID-19 no país foi registrado em 26 de fevereiro de 2020 e que se passaram 21 dias para ocorrer a primeira morte desde o registro do primeiro caso."
      ]
    },
    {
      "cell_type": "markdown",
      "metadata": {
        "id": "sqg-9HzUQiv6",
        "colab_type": "text"
      },
      "source": [
        "Vamos agora plotar um gráfico de linhas em escala linear e logarítimica para os casos totais e mortes totais confirmadas de COVID-19 no país com o objetivo de analisar a curva de evolução de ambos os casos. "
      ]
    },
    {
      "cell_type": "code",
      "metadata": {
        "id": "JUjvoOTORB0n",
        "colab_type": "code",
        "colab": {
          "base_uri": "https://localhost:8080/",
          "height": 441
        },
        "outputId": "c093dc9e-ba3f-40b8-d0db-c17e63c2fa09"
      },
      "source": [
        "fig, ax = plt.subplots(nrows=2, ncols=2, figsize=(10,6))\n",
        "\n",
        "df_brasil.total_cases.plot(kind='line', ax=ax[0][0])\n",
        "ax[0][0].set_title('Total de Casos (linear)')\n",
        "df_brasil.total_cases.plot(kind='line', ax=ax[0][1])\n",
        "ax[0][1].set_yscale('log')\n",
        "ax[0][1].set_title('Total de Casos (logarítimica)')\n",
        "\n",
        "df_brasil.total_deaths.plot(kind='line', ax=ax[1][0])\n",
        "ax[1][0].set_title('Total de Mortes (lineat)')\n",
        "df_brasil.total_deaths.plot(kind='line', ax=ax[1][1])\n",
        "ax[1][1].set_yscale('log')\n",
        "ax[1][1].set_title('Total de Mortes (logarítimica)')\n",
        "\n",
        "\n",
        "plt.tight_layout()"
      ],
      "execution_count": null,
      "outputs": [
        {
          "output_type": "display_data",
          "data": {
            "image/png": "[encoded data removed]",
            "text/plain": [
              "<Figure size 720x432 with 4 Axes>"
            ]
          },
          "metadata": {
            "tags": [],
            "needs_background": "light"
          }
        }
      ]
    },
    {
      "cell_type": "markdown",
      "metadata": {
        "id": "76HKZKIukDL6",
        "colab_type": "text"
      },
      "source": [
        "Acima estão os gráficos do total de casos confirmados de COVID-19 no país, à esquerda está o gráfico em escala linear e à direita em escala logarítmica.\n",
        "\n",
        "Analogamente, abaixo estão os gráficos do total de mortes registradas por COVID-19 no Brasil, à esquerda está o gráfico em escala linear e à direita em escala logarítmica.\n",
        "\n",
        "Percebemos que os gráficos têm uma distribuição muito semelhante entre eles e que o a explosão da curva, tanto de casos quanto de mortes, teve início em Março e a curva continua aumentando.\n",
        "\n",
        "Podemos também comparar as curvas do Brasil com as curvas do restante do mundo, mas para isso devemos usar as variaveis `total_cases_per_million` e `total_deaths_per_million` para ter uma proporção melhor do que comparar números absolutos. Vamos fazer isso e ver o que nos é apresentado."
      ]
    },
    {
      "cell_type": "code",
      "metadata": {
        "id": "8UCTSgldt-cw",
        "colab_type": "code",
        "cellView": "form",
        "colab": {}
      },
      "source": [
        "#@title\n",
        "df_brasil.drop(columns='date', inplace=True)"
      ],
      "execution_count": null,
      "outputs": []
    },
    {
      "cell_type": "code",
      "metadata": {
        "id": "Su88LUDDnMll",
        "colab_type": "code",
        "colab": {
          "base_uri": "https://localhost:8080/",
          "height": 367
        },
        "outputId": "0cb1cfdc-6c8e-4f54-e47c-3c50bafea303"
      },
      "source": [
        "dd = df.loc[df.location == 'World']\n",
        "dd.set_index('date', inplace=True)\n",
        "\n",
        "fig, ax = plt.subplots(figsize=(14,5), ncols=2)\n",
        "\n",
        "df_brasil.total_cases_per_million.plot(kind='line', ax=ax[0])\n",
        "dd.total_cases_per_million.plot(kind='line', ax=ax[0])\n",
        "ax[0].set_title('Total de Casos')\n",
        "ax[0].legend(labels=['Total de Casos/milhão (Brasil)', 'Total de Casos/milhão (Mundo)'])\n",
        "\n",
        "df_brasil.total_deaths_per_million.plot(kind='line', ax=ax[1])\n",
        "dd.total_deaths_per_million.plot(kind='line', ax=ax[1])\n",
        "ax[1].set_title('Total de Mortes')\n",
        "ax[1].legend(labels=['Total de Mortes/milhão (Brasil)', 'Total de Mortes/milhão (Mundo)'])\n",
        "\n",
        "plt.show()"
      ],
      "execution_count": null,
      "outputs": [
        {
          "output_type": "display_data",
          "data": {
            "image/png": "[encoded data removed]",
            "text/plain": [
              "<Figure size 1008x360 with 2 Axes>"
            ]
          },
          "metadata": {
            "tags": [],
            "needs_background": "light"
          }
        }
      ]
    },
    {
      "cell_type": "markdown",
      "metadata": {
        "id": "VXup3c4FuNX3",
        "colab_type": "text"
      },
      "source": [
        "Podemos perceber que a partir do mês de Maio o Brasil ultrapassou, em proporção, os outros países do mundo no quesito de total de casos e mortes por milhão de habitantes provocadas por COVID-19."
      ]
    },
    {
      "cell_type": "markdown",
      "metadata": {
        "id": "LCsiXvM3BcsO",
        "colab_type": "text"
      },
      "source": [
        "## Conclusão\n",
        "\n",
        "Chegamos ao fim de nossa análise, pudemos perceber que o Brasil é o seundo páis com maior número de casos confirmados e mortes registradas por COVID-19 do mundo. Percebemos também quantos dias levou da primeira morte registrada por COVID-19 no mundo até a primeira morte no Brasil. Vimos os gráficos da curva de casos e mortes no Brasil e vimos que a curva do Brasil ultrapassou as curvas do restante do mundo (o que não quer dizer que o Brasil é o país com mais casos nem o com mais mortes) e que nossa curva não para de crescer.\n",
        "\n",
        "Por esta análise pudemos perceber que as medidas que nosso país têm tomado para controlar a pandemia não estão surgindo muito efeito e que é importante seguir as recomendações de prevenção da doença para nossa situação não piorar ainda mais.\n",
        "\n",
        "Agradeço a todos que leram até aqui e me despeço deixando o link do meu linkedIn e do meu portifólio para você me acompanhar em outros projetos de Ciência de Dados, até.\n",
        "\n",
        "[LinkInd](https://www.linkedin.com/in/john-cunha-a424721aa/)\n",
        "\n",
        "[Meu portifólio do GitHub](https://github.com/johnsigma/meuPortifolio)\n",
        "\n",
        "<figure>\n",
        "\t<img src=\"https://raw.githubusercontent.com/johnsigma/meuPortifolio/master/imagens/bye.jpg\" width=\"90%\" height=\"400\"/>\n",
        "\t <figcaption><a href='https://www.freepik.com/free-photos-vectors/background'>Background vector created by freepik - www.freepik.com</a></figcaption>   \n",
        "</figure>"
      ]
    }
  ]
}