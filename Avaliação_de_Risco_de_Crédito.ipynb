{
  "nbformat": 4,
  "nbformat_minor": 0,
  "metadata": {
    "colab": {
      "name": "Avaliação de Risco de Crédito.ipynb",
      "provenance": [],
      "collapsed_sections": [],
      "toc_visible": true,
      "authorship_tag": "ABX9TyO1v8lPMuCoNXNM+qDbb9en",
      "include_colab_link": true
    },
    "kernelspec": {
      "name": "python3",
      "display_name": "Python 3"
    }
  },
  "cells": [
    {
      "cell_type": "markdown",
      "metadata": {
        "id": "view-in-github",
        "colab_type": "text"
      },
      "source": [
        "<a href=\"https://colab.research.google.com/github/johnsigma/meuPortfolio/blob/master/Avalia%C3%A7%C3%A3o_de_Risco_de_Cr%C3%A9dito.ipynb\" target=\"_parent\"><img src=\"https://colab.research.google.com/assets/colab-badge.svg\" alt=\"Open In Colab\"/></a>"
      ]
    },
    {
      "cell_type": "markdown",
      "metadata": {
        "id": "IiktnbqrS8lY",
        "colab_type": "text"
      },
      "source": [
        "# Avaliação de Risco de Crédito\n",
        "\n",
        "Neste projeto vamos abordar um assunto que causa muitos prolbemas para bancos e instituições financeiras em geral, que a taxa de inadimplência por parte de clientes desras instituições.\n",
        "\n",
        "Ser capaz de avaliar a probabilidade de um cliente não cumprir com suas obrigações financeiras é extremamente importante para qualquer banco ou instuição financeira que disponibiliza crédito a seus clientes. A não avaliação do risco de crédito por parte das instuições financeiras pode causar um grande impacto no balanço e economia destas empresas. Então, cada vez mais, soluções para avaliar se um cliente pode ou não pagar sua conta no banco (sejam financiamentos ou dívidas de cartão de crédito) vêm sendo desenvolvidas a fim de preservar a integridade financeiras das instuições de crédito."
      ]
    },
    {
      "cell_type": "markdown",
      "metadata": {
        "id": "bKBWf6tZXREB",
        "colab_type": "text"
      },
      "source": [
        "![alt text](https://github.com/johnsigma/meuPortfolio/blob/master/imagens/bank.jpg?raw=true)\n",
        "\n",
        "<a href='https://www.freepik.com/free-photos-vectors/background'>Background vector created by pikisuperstar - www.freepik.com</a>"
      ]
    },
    {
      "cell_type": "markdown",
      "metadata": {
        "id": "i5fZ5orrXv2x",
        "colab_type": "text"
      },
      "source": [
        "Das soluções encontradas para evitar clientes inadimplentes, uma delas é a aposta em modelos de *Machine Learning* para prever, por exemplo, a probabilidade de um cliente deixar de cumprir suas obrigações financeiras com a empresa."
      ]
    },
    {
      "cell_type": "markdown",
      "metadata": {
        "id": "qeAIjMLNXXSL",
        "colab_type": "text"
      },
      "source": [
        "## Contextualizando o problema\n",
        "\n",
        "A [Nubank](https://nubank.com.br/sobre-nos) é uma empresa que tem, cada vez mais, investido em Inteligência Artificial e times de *Data Science*. E neste projeto iremos utilizar um conjunto de dados disponibilizado para uma competição de Data Science promovido pela Nubank.\n",
        "\n",
        "Neste projeto, nosso objetivo é instanciar, treinar e avaliar um modelo de *Machine Learning* para prever qual a probabilidade de um possível cliente do Nubank não cumprir com suas obrigações financeiras e deixar de pagar sua fatura do cartão de crédito.\n",
        "\n",
        "Importante ressaltar que essa avalição de risco de crédito deve ser realizada no momento em que o cliente solicita o cartão de crédito da emopresa, normalmente este é o primeiro contato com a instituição.\n",
        "\n",
        "![alt text](https://github.com/johnsigma/meuPortfolio/blob/master/imagens/nubank_logo.png?raw=true)\n",
        "\n",
        "\n"
      ]
    },
    {
      "cell_type": "markdown",
      "metadata": {
        "id": "lRjS0BipbGNJ",
        "colab_type": "text"
      },
      "source": [
        "## Importando os dados\n",
        "\n",
        "Nesta etapa vamos importar os dados e algumas bibliotecas que iremos utilizar neste projeto. Os dados estão disponíveis para download por meio [deste link](http://dl.dropboxusercontent.com/s/xn2a4kzf0zer0xu/acquisition_train.csv?dl=0). Ele está em formato `csv`."
      ]
    },
    {
      "cell_type": "code",
      "metadata": {
        "id": "awLznZ4fbpsq",
        "colab_type": "code",
        "colab": {
          "base_uri": "https://localhost:8080/",
          "height": 71
        },
        "outputId": "656641b8-7db7-4b96-8ee8-2dbc09a1a1e9"
      },
      "source": [
        "# importando os pacotes e bibliotecas\n",
        "import pandas as pd\n",
        "import matplotlib.pyplot as plt\n",
        "import seaborn as sns\n",
        "sns.set_style()\n",
        "import numpy as np\n",
        "\n",
        "# filtrar as mensagens de avisos dos códigos\n",
        "import warnings\n",
        "warnings.filterwarnings('ignore')\n",
        "\n",
        "# garantir replicabilidade\n",
        "np.random.seed(42)\n",
        "\n",
        "# importando o dataset para um dataframe\n",
        "df = pd.read_csv('http://dl.dropboxusercontent.com/s/xn2a4kzf0zer0xu/acquisition_train.csv?dl=0')"
      ],
      "execution_count": 5,
      "outputs": [
        {
          "output_type": "stream",
          "text": [
            "/usr/local/lib/python3.6/dist-packages/statsmodels/tools/_testing.py:19: FutureWarning: pandas.util.testing is deprecated. Use the functions in the public API at pandas.testing instead.\n",
            "  import pandas.util.testing as tm\n"
          ],
          "name": "stderr"
        }
      ]
    },
    {
      "cell_type": "markdown",
      "metadata": {
        "id": "DpnXk4ILauzq",
        "colab_type": "text"
      },
      "source": [
        "---\n",
        "\n",
        "## Análise Exploratória dos dados\n",
        "\n",
        "É nesta etapa que vamos conhecer nossa base de dados. Primeiramente vamos analisar as dimensões do nosso *dataset*, quantas colunas, entradas ele possui, etc. Isso é importante para conhecermos com que variáveis estamos trabalhando."
      ]
    },
    {
      "cell_type": "code",
      "metadata": {
        "id": "aKfYh9cHdNuV",
        "colab_type": "code",
        "colab": {
          "base_uri": "https://localhost:8080/",
          "height": 68
        },
        "outputId": "99fb01cb-d7fd-4757-eec9-5ed31a2c4b40"
      },
      "source": [
        "# dimensões de df\n",
        "print('DIMENSÕES DO DATAFRAME')\n",
        "print(f'Entradas (linhas):\\t{df.shape[0]}')\n",
        "print(f'Colunas (variáveis):\\t{df.shape[1]}')"
      ],
      "execution_count": 6,
      "outputs": [
        {
          "output_type": "stream",
          "text": [
            "DIMENSÕES DO DATAFRAME\n",
            "Entradas (linhas):\t45000\n",
            "Colunas (variáveis):\t43\n"
          ],
          "name": "stdout"
        }
      ]
    },
    {
      "cell_type": "markdown",
      "metadata": {
        "id": "e_zPMe2Vdoxf",
        "colab_type": "text"
      },
      "source": [
        "Com o código acima vimos que nosso conjunto de dados é composto por 45000 entradas (linhas) e 43 colunas (variáveis ou *features*).\n",
        "\n",
        "Vamos agora imprimir as 5 primeiras entradas do nosso dataset, é agora que vamos ver quais são suas variáveis."
      ]
    },
    {
      "cell_type": "code",
      "metadata": {
        "id": "47iZJCDXeEIJ",
        "colab_type": "code",
        "colab": {
          "base_uri": "https://localhost:8080/",
          "height": 615
        },
        "outputId": "aa587e45-9286-4ea0-b617-83d270c3176d"
      },
      "source": [
        "df.head()"
      ],
      "execution_count": 7,
      "outputs": [
        {
          "output_type": "execute_result",
          "data": {
            "text/html": [
              "<div>\n",
              "<style scoped>\n",
              "    .dataframe tbody tr th:only-of-type {\n",
              "        vertical-align: middle;\n",
              "    }\n",
              "\n",
              "    .dataframe tbody tr th {\n",
              "        vertical-align: top;\n",
              "    }\n",
              "\n",
              "    .dataframe thead th {\n",
              "        text-align: right;\n",
              "    }\n",
              "</style>\n",
              "<table border=\"1\" class=\"dataframe\">\n",
              "  <thead>\n",
              "    <tr style=\"text-align: right;\">\n",
              "      <th></th>\n",
              "      <th>ids</th>\n",
              "      <th>target_default</th>\n",
              "      <th>score_1</th>\n",
              "      <th>score_2</th>\n",
              "      <th>score_3</th>\n",
              "      <th>score_4</th>\n",
              "      <th>score_5</th>\n",
              "      <th>score_6</th>\n",
              "      <th>risk_rate</th>\n",
              "      <th>last_amount_borrowed</th>\n",
              "      <th>last_borrowed_in_months</th>\n",
              "      <th>credit_limit</th>\n",
              "      <th>reason</th>\n",
              "      <th>income</th>\n",
              "      <th>facebook_profile</th>\n",
              "      <th>state</th>\n",
              "      <th>zip</th>\n",
              "      <th>channel</th>\n",
              "      <th>job_name</th>\n",
              "      <th>real_state</th>\n",
              "      <th>ok_since</th>\n",
              "      <th>n_bankruptcies</th>\n",
              "      <th>n_defaulted_loans</th>\n",
              "      <th>n_accounts</th>\n",
              "      <th>n_issues</th>\n",
              "      <th>application_time_applied</th>\n",
              "      <th>application_time_in_funnel</th>\n",
              "      <th>email</th>\n",
              "      <th>external_data_provider_credit_checks_last_2_year</th>\n",
              "      <th>external_data_provider_credit_checks_last_month</th>\n",
              "      <th>external_data_provider_credit_checks_last_year</th>\n",
              "      <th>external_data_provider_email_seen_before</th>\n",
              "      <th>external_data_provider_first_name</th>\n",
              "      <th>external_data_provider_fraud_score</th>\n",
              "      <th>lat_lon</th>\n",
              "      <th>marketing_channel</th>\n",
              "      <th>profile_phone_number</th>\n",
              "      <th>reported_income</th>\n",
              "      <th>shipping_state</th>\n",
              "      <th>shipping_zip_code</th>\n",
              "      <th>profile_tags</th>\n",
              "      <th>user_agent</th>\n",
              "      <th>target_fraud</th>\n",
              "    </tr>\n",
              "  </thead>\n",
              "  <tbody>\n",
              "    <tr>\n",
              "      <th>0</th>\n",
              "      <td>343b7e7b-2cf8-e508-b8fd-0a0285af30aa</td>\n",
              "      <td>False</td>\n",
              "      <td>1Rk8w4Ucd5yR3KcqZzLdow==</td>\n",
              "      <td>IOVu8au3ISbo6+zmfnYwMg==</td>\n",
              "      <td>350.0</td>\n",
              "      <td>101.800832</td>\n",
              "      <td>0.259555</td>\n",
              "      <td>108.427273</td>\n",
              "      <td>0.40</td>\n",
              "      <td>25033.92</td>\n",
              "      <td>36.0</td>\n",
              "      <td>0.0</td>\n",
              "      <td>mLVIVxoGY7TUDJ1FyFoSIZi1SFcaBmO01AydRchaEiGYtU...</td>\n",
              "      <td>65014.12</td>\n",
              "      <td>True</td>\n",
              "      <td>sjJbkqJS7cXalHLBFA+EOQ==</td>\n",
              "      <td>Ernn+uVXCMq/6ARrBCcd+A==</td>\n",
              "      <td>NCqL3QBx0pscDnx3ixKwXg==</td>\n",
              "      <td>mLVIVxoGY7TUDJ1FyFoSIZi1SFcaBmO01AydRchaEiGYtU...</td>\n",
              "      <td>N5/CE7lSkAfB04hVFFwllw==</td>\n",
              "      <td>NaN</td>\n",
              "      <td>0.0</td>\n",
              "      <td>0.0</td>\n",
              "      <td>18.0</td>\n",
              "      <td>18.0</td>\n",
              "      <td>07:52:34</td>\n",
              "      <td>444</td>\n",
              "      <td>outlook.com</td>\n",
              "      <td>NaN</td>\n",
              "      <td>2</td>\n",
              "      <td>0.0</td>\n",
              "      <td>51.0</td>\n",
              "      <td>leidelaura</td>\n",
              "      <td>645</td>\n",
              "      <td>(-29.151545708122246, -51.1386461804385)</td>\n",
              "      <td>Invite-email</td>\n",
              "      <td>514-9840782</td>\n",
              "      <td>57849.0</td>\n",
              "      <td>BR-MT</td>\n",
              "      <td>17528</td>\n",
              "      <td>{'tags': ['n19', 'n8']}</td>\n",
              "      <td>Mozilla/5.0 (Linux; Android 6.0.1; SGP771 Buil...</td>\n",
              "      <td>NaN</td>\n",
              "    </tr>\n",
              "    <tr>\n",
              "      <th>1</th>\n",
              "      <td>bc2c7502-bbad-0f8c-39c3-94e881967124</td>\n",
              "      <td>False</td>\n",
              "      <td>DGCQep2AE5QRkNCshIAlFQ==</td>\n",
              "      <td>SaamrHMo23l/3TwXOWgVzw==</td>\n",
              "      <td>370.0</td>\n",
              "      <td>97.062615</td>\n",
              "      <td>0.942655</td>\n",
              "      <td>92.002546</td>\n",
              "      <td>0.24</td>\n",
              "      <td>NaN</td>\n",
              "      <td>NaN</td>\n",
              "      <td>39726.0</td>\n",
              "      <td>mLVIVxoGY7TUDJ1FyFoSIZi1SFcaBmO01AydRchaEiGYtU...</td>\n",
              "      <td>100018.91</td>\n",
              "      <td>False</td>\n",
              "      <td>xsd3ZdsI3356I3xMxZeiqQ==</td>\n",
              "      <td>rlWIXTBO+VOa34+SpGyhlQ==</td>\n",
              "      <td>NCqL3QBx0pscDnx3ixKwXg==</td>\n",
              "      <td>mLVIVxoGY7TUDJ1FyFoSIZi1SFcaBmO01AydRchaEiGYtU...</td>\n",
              "      <td>N5/CE7lSkAfB04hVFFwllw==</td>\n",
              "      <td>50.0</td>\n",
              "      <td>0.0</td>\n",
              "      <td>0.0</td>\n",
              "      <td>14.0</td>\n",
              "      <td>14.0</td>\n",
              "      <td>02:34:29</td>\n",
              "      <td>346</td>\n",
              "      <td>gmail.com</td>\n",
              "      <td>0.0</td>\n",
              "      <td>1</td>\n",
              "      <td>0.0</td>\n",
              "      <td>17.0</td>\n",
              "      <td>diocezio</td>\n",
              "      <td>243</td>\n",
              "      <td>(-19.687710705798963, -47.94151536525154)</td>\n",
              "      <td>Radio-commercial</td>\n",
              "      <td>251-3659293</td>\n",
              "      <td>4902.0</td>\n",
              "      <td>BR-RS</td>\n",
              "      <td>40933</td>\n",
              "      <td>{'tags': ['n6', 'n7', 'nim']}</td>\n",
              "      <td>Mozilla/5.0 (Linux; Android 5.0.2; SAMSUNG SM-...</td>\n",
              "      <td>NaN</td>\n",
              "    </tr>\n",
              "    <tr>\n",
              "      <th>2</th>\n",
              "      <td>669630dd-2e6a-0396-84bf-455e5009c922</td>\n",
              "      <td>True</td>\n",
              "      <td>DGCQep2AE5QRkNCshIAlFQ==</td>\n",
              "      <td>Fv28Bz0YRTVAT5kl1bAV6g==</td>\n",
              "      <td>360.0</td>\n",
              "      <td>100.027073</td>\n",
              "      <td>0.351918</td>\n",
              "      <td>112.892453</td>\n",
              "      <td>0.29</td>\n",
              "      <td>7207.92</td>\n",
              "      <td>36.0</td>\n",
              "      <td>NaN</td>\n",
              "      <td>mLVIVxoGY7TUDJ1FyFoSIZi1SFcaBmO01AydRchaEiGYtU...</td>\n",
              "      <td>65023.65</td>\n",
              "      <td>NaN</td>\n",
              "      <td>Ygq6MsM98oC8yceExr69Ig==</td>\n",
              "      <td>PjTIDfJsK0DKL9fO7vuW2g==</td>\n",
              "      <td>NCqL3QBx0pscDnx3ixKwXg==</td>\n",
              "      <td>mLVIVxoGY7TUDJ1FyFoSIZi1SFcaBmO01AydRchaEiGYtU...</td>\n",
              "      <td>n+xK9CfX0bCn77lClTWviw==</td>\n",
              "      <td>NaN</td>\n",
              "      <td>0.0</td>\n",
              "      <td>0.0</td>\n",
              "      <td>10.0</td>\n",
              "      <td>NaN</td>\n",
              "      <td>00:60:02</td>\n",
              "      <td>6</td>\n",
              "      <td>gmail.com</td>\n",
              "      <td>NaN</td>\n",
              "      <td>2</td>\n",
              "      <td>NaN</td>\n",
              "      <td>9.0</td>\n",
              "      <td>veralucia</td>\n",
              "      <td>65</td>\n",
              "      <td>(-28.748023890412284, -51.867279334353995)</td>\n",
              "      <td>Waiting-list</td>\n",
              "      <td>230-6097993</td>\n",
              "      <td>163679.0</td>\n",
              "      <td>BR-RR</td>\n",
              "      <td>50985</td>\n",
              "      <td>{'tags': ['n0', 'n17', 'nim', 'da']}</td>\n",
              "      <td>Mozilla/5.0 (Linux; Android 6.0.1; SGP771 Buil...</td>\n",
              "      <td>NaN</td>\n",
              "    </tr>\n",
              "    <tr>\n",
              "      <th>3</th>\n",
              "      <td>d235609e-b6cb-0ccc-a329-d4f12e7ebdc1</td>\n",
              "      <td>False</td>\n",
              "      <td>1Rk8w4Ucd5yR3KcqZzLdow==</td>\n",
              "      <td>dCm9hFKfdRm7ej3jW+gyxw==</td>\n",
              "      <td>510.0</td>\n",
              "      <td>101.599485</td>\n",
              "      <td>0.987673</td>\n",
              "      <td>94.902491</td>\n",
              "      <td>0.32</td>\n",
              "      <td>NaN</td>\n",
              "      <td>NaN</td>\n",
              "      <td>54591.0</td>\n",
              "      <td>mLVIVxoGY7TUDJ1FyFoSIZi1SFcaBmO01AydRchaEiGYtU...</td>\n",
              "      <td>68830.01</td>\n",
              "      <td>False</td>\n",
              "      <td>KET/Pmr6rHp1RJ/P9ymztw==</td>\n",
              "      <td>Cc/kWDLQH3dpHv5HU+pLVA==</td>\n",
              "      <td>NCqL3QBx0pscDnx3ixKwXg==</td>\n",
              "      <td>mLVIVxoGY7TUDJ1FyFoSIZi1SFcaBmO01AydRchaEiE56f...</td>\n",
              "      <td>n+xK9CfX0bCn77lClTWviw==</td>\n",
              "      <td>NaN</td>\n",
              "      <td>1.0</td>\n",
              "      <td>0.0</td>\n",
              "      <td>19.0</td>\n",
              "      <td>19.0</td>\n",
              "      <td>11:20:49</td>\n",
              "      <td>406</td>\n",
              "      <td>spgov.com</td>\n",
              "      <td>NaN</td>\n",
              "      <td>3</td>\n",
              "      <td>NaN</td>\n",
              "      <td>38.0</td>\n",
              "      <td>venice</td>\n",
              "      <td>815</td>\n",
              "      <td>(-17.520650158450454, -39.75801139933186)</td>\n",
              "      <td>Waiting-list</td>\n",
              "      <td>261-3543751</td>\n",
              "      <td>1086.0</td>\n",
              "      <td>BR-RN</td>\n",
              "      <td>37825</td>\n",
              "      <td>{'tags': ['n4']}</td>\n",
              "      <td>Mozilla/5.0 (Linux; Android 6.0; HTC One X10 B...</td>\n",
              "      <td>NaN</td>\n",
              "    </tr>\n",
              "    <tr>\n",
              "      <th>4</th>\n",
              "      <td>9e0eb880-e8f4-3faa-67d8-f5cdd2b3932b</td>\n",
              "      <td>False</td>\n",
              "      <td>8k8UDR4Yx0qasAjkGrUZLw==</td>\n",
              "      <td>+CxEO4w7jv3QPI/BQbyqAA==</td>\n",
              "      <td>500.0</td>\n",
              "      <td>98.474289</td>\n",
              "      <td>0.532539</td>\n",
              "      <td>118.126207</td>\n",
              "      <td>0.18</td>\n",
              "      <td>NaN</td>\n",
              "      <td>NaN</td>\n",
              "      <td>NaN</td>\n",
              "      <td>mLVIVxoGY7TUDJ1FyFoSIZi1SFcaBmO01AydRchaEiGYtU...</td>\n",
              "      <td>60011.29</td>\n",
              "      <td>True</td>\n",
              "      <td>xsd3ZdsI3356I3xMxZeiqQ==</td>\n",
              "      <td>i036nmJ7rfxo+3EvCD7Jnw==</td>\n",
              "      <td>NCqL3QBx0pscDnx3ixKwXg==</td>\n",
              "      <td>mLVIVxoGY7TUDJ1FyFoSIZi1SFcaBmO01AydRchaEiGYtU...</td>\n",
              "      <td>n+xK9CfX0bCn77lClTWviw==</td>\n",
              "      <td>NaN</td>\n",
              "      <td>0.0</td>\n",
              "      <td>0.0</td>\n",
              "      <td>11.0</td>\n",
              "      <td>NaN</td>\n",
              "      <td>13:39:03</td>\n",
              "      <td>240</td>\n",
              "      <td>gmail.com</td>\n",
              "      <td>0.0</td>\n",
              "      <td>2</td>\n",
              "      <td>1.0</td>\n",
              "      <td>46.0</td>\n",
              "      <td>darzisa</td>\n",
              "      <td>320</td>\n",
              "      <td>(-16.574259446978008, -39.90990074785962)</td>\n",
              "      <td>Invite-email</td>\n",
              "      <td>102-3660162</td>\n",
              "      <td>198618.0</td>\n",
              "      <td>BR-MT</td>\n",
              "      <td>52827</td>\n",
              "      <td>{'tags': ['pro+aty', 'n19', 'da', 'b19']}</td>\n",
              "      <td>Mozilla/5.0 (Linux; Android 7.0; Pixel C Build...</td>\n",
              "      <td>NaN</td>\n",
              "    </tr>\n",
              "  </tbody>\n",
              "</table>\n",
              "</div>"
            ],
            "text/plain": [
              "                                    ids  ... target_fraud\n",
              "0  343b7e7b-2cf8-e508-b8fd-0a0285af30aa  ...          NaN\n",
              "1  bc2c7502-bbad-0f8c-39c3-94e881967124  ...          NaN\n",
              "2  669630dd-2e6a-0396-84bf-455e5009c922  ...          NaN\n",
              "3  d235609e-b6cb-0ccc-a329-d4f12e7ebdc1  ...          NaN\n",
              "4  9e0eb880-e8f4-3faa-67d8-f5cdd2b3932b  ...          NaN\n",
              "\n",
              "[5 rows x 43 columns]"
            ]
          },
          "metadata": {
            "tags": []
          },
          "execution_count": 7
        }
      ]
    },
    {
      "cell_type": "markdown",
      "metadata": {
        "id": "KwKz3E_ze2YR",
        "colab_type": "text"
      },
      "source": [
        "Podemos tirar algumas conclusões iniciais a respeito desse *dataset*:\n",
        "* A coluna `ids` representa um identificador único para cada cliente. Posteriormente iremos eliminar esta coluna do nosso *dataset*, pois ela não contém nenhuma informação útil para nós.\n",
        "* Como a coluna `ids`, iremos, posteriormente, apagar a coluna `external_data_provider_first_name` pelos mesmos motivos da coluna `ids`.\n",
        "* Há muitas colunas com valores codificados como `score_1` e `score_2`. Mais a frente podemos avaliar se há classes nessas colunas que podem ser convertidas em informação relevante para nós.\n",
        "* Nossa variável alvo para analisar o risco de inadimplência (*default*) está na coluna `target_default`.\n"
      ]
    },
    {
      "cell_type": "markdown",
      "metadata": {
        "id": "9ee8GFCyg6eW",
        "colab_type": "text"
      },
      "source": [
        "### Relatório do *dataset*\n",
        "\n",
        "A seguir vou imprimir um pequeno relatório levantado encima do nosso conjunto de dados. Nele há informções como:\n",
        "* Nome e tipo das colunas\n",
        "* Quantidade de valores ausentes\n",
        "* Valores únicos que uma coluna contém (importante para sabermos se uma variável é categórica ou não)."
      ]
    },
    {
      "cell_type": "code",
      "metadata": {
        "id": "wWZWlLQShjKw",
        "colab_type": "code",
        "colab": {
          "base_uri": "https://localhost:8080/",
          "height": 1000
        },
        "outputId": "8d2081d0-11b8-4145-f192-ff5d877aa9e6"
      },
      "source": [
        "print(f'\\nNomes da coluna / Tipo da coluna\\n\\n{df.dtypes}')\n",
        "print(f'\\n\\nTotal de dados ausentes: {df.isnull().sum().values.sum()}')\n",
        "print(f'\\nPorcentagem de dados ausentes por coluna:\\n{((df.isnull().sum()/df.shape[0])*100).sort_values(ascending=False)}')\n",
        "print(f'\\nValores únicos por coluna:\\n{df.nunique().sort_values()}')"
      ],
      "execution_count": 8,
      "outputs": [
        {
          "output_type": "stream",
          "text": [
            "\n",
            "Nomes da coluna / Tipo da coluna\n",
            "\n",
            "ids                                                  object\n",
            "target_default                                       object\n",
            "score_1                                              object\n",
            "score_2                                              object\n",
            "score_3                                             float64\n",
            "score_4                                             float64\n",
            "score_5                                             float64\n",
            "score_6                                             float64\n",
            "risk_rate                                           float64\n",
            "last_amount_borrowed                                float64\n",
            "last_borrowed_in_months                             float64\n",
            "credit_limit                                        float64\n",
            "reason                                               object\n",
            "income                                              float64\n",
            "facebook_profile                                     object\n",
            "state                                                object\n",
            "zip                                                  object\n",
            "channel                                              object\n",
            "job_name                                             object\n",
            "real_state                                           object\n",
            "ok_since                                            float64\n",
            "n_bankruptcies                                      float64\n",
            "n_defaulted_loans                                   float64\n",
            "n_accounts                                          float64\n",
            "n_issues                                            float64\n",
            "application_time_applied                             object\n",
            "application_time_in_funnel                            int64\n",
            "email                                                object\n",
            "external_data_provider_credit_checks_last_2_year    float64\n",
            "external_data_provider_credit_checks_last_month       int64\n",
            "external_data_provider_credit_checks_last_year      float64\n",
            "external_data_provider_email_seen_before            float64\n",
            "external_data_provider_first_name                    object\n",
            "external_data_provider_fraud_score                    int64\n",
            "lat_lon                                              object\n",
            "marketing_channel                                    object\n",
            "profile_phone_number                                 object\n",
            "reported_income                                     float64\n",
            "shipping_state                                       object\n",
            "shipping_zip_code                                     int64\n",
            "profile_tags                                         object\n",
            "user_agent                                           object\n",
            "target_fraud                                         object\n",
            "dtype: object\n",
            "\n",
            "\n",
            "Total de dados ausentes: 219437\n",
            "\n",
            "Porcentagem de dados ausentes por coluna:\n",
            "target_fraud                                        96.617778\n",
            "last_amount_borrowed                                66.568889\n",
            "last_borrowed_in_months                             66.568889\n",
            "ok_since                                            58.988889\n",
            "external_data_provider_credit_checks_last_2_year    50.284444\n",
            "external_data_provider_credit_checks_last_year      33.608889\n",
            "credit_limit                                        30.666667\n",
            "n_issues                                            25.653333\n",
            "facebook_profile                                     9.906667\n",
            "marketing_channel                                    7.951111\n",
            "job_name                                             7.413333\n",
            "target_default                                       7.242222\n",
            "external_data_provider_email_seen_before             4.962222\n",
            "lat_lon                                              3.028889\n",
            "user_agent                                           1.604444\n",
            "n_bankruptcies                                       1.548889\n",
            "n_defaulted_loans                                    1.275556\n",
            "reason                                               1.257778\n",
            "income                                               1.248889\n",
            "real_state                                           1.248889\n",
            "state                                                1.248889\n",
            "zip                                                  1.248889\n",
            "channel                                              1.248889\n",
            "score_3                                              1.248889\n",
            "score_2                                              1.248889\n",
            "score_1                                              1.248889\n",
            "n_accounts                                           1.248889\n",
            "risk_rate                                            1.248889\n",
            "shipping_zip_code                                    0.000000\n",
            "score_4                                              0.000000\n",
            "score_5                                              0.000000\n",
            "profile_tags                                         0.000000\n",
            "score_6                                              0.000000\n",
            "application_time_in_funnel                           0.000000\n",
            "shipping_state                                       0.000000\n",
            "reported_income                                      0.000000\n",
            "application_time_applied                             0.000000\n",
            "profile_phone_number                                 0.000000\n",
            "external_data_provider_fraud_score                   0.000000\n",
            "external_data_provider_first_name                    0.000000\n",
            "external_data_provider_credit_checks_last_month      0.000000\n",
            "email                                                0.000000\n",
            "ids                                                  0.000000\n",
            "dtype: float64\n",
            "\n",
            "Valores únicos por coluna:\n",
            "external_data_provider_credit_checks_last_2_year        1\n",
            "channel                                                 1\n",
            "target_fraud                                            2\n",
            "target_default                                          2\n",
            "external_data_provider_credit_checks_last_year          2\n",
            "facebook_profile                                        2\n",
            "last_borrowed_in_months                                 2\n",
            "external_data_provider_credit_checks_last_month         4\n",
            "n_defaulted_loans                                       5\n",
            "real_state                                              5\n",
            "email                                                   6\n",
            "n_bankruptcies                                          6\n",
            "score_1                                                 7\n",
            "marketing_channel                                       9\n",
            "shipping_state                                         25\n",
            "score_2                                                35\n",
            "n_issues                                               44\n",
            "n_accounts                                             44\n",
            "state                                                  50\n",
            "external_data_provider_email_seen_before               62\n",
            "risk_rate                                              82\n",
            "score_3                                                88\n",
            "ok_since                                              100\n",
            "user_agent                                            297\n",
            "application_time_in_funnel                            501\n",
            "zip                                                   823\n",
            "external_data_provider_fraud_score                   1001\n",
            "last_amount_borrowed                                14325\n",
            "reason                                              14874\n",
            "credit_limit                                        20928\n",
            "lat_lon                                             22412\n",
            "profile_tags                                        26131\n",
            "shipping_zip_code                                   28263\n",
            "job_name                                            32265\n",
            "external_data_provider_first_name                   32886\n",
            "application_time_applied                            35543\n",
            "reported_income                                     40025\n",
            "income                                              41211\n",
            "score_4                                             45000\n",
            "score_5                                             45000\n",
            "score_6                                             45000\n",
            "profile_phone_number                                45000\n",
            "ids                                                 45000\n",
            "dtype: int64\n"
          ],
          "name": "stdout"
        }
      ]
    },
    {
      "cell_type": "markdown",
      "metadata": {
        "id": "hiV3hjRviV3C",
        "colab_type": "text"
      },
      "source": [
        "Através deste pequeno relatório podemos perceber algumas coisas bem interessantes sobre nosso conjunto de dados:\n",
        "* Há muitos valores ausentes para tratar, com algumas colunas tendo mais de 50% dos valores ausentes.\n",
        "* Muitas das nossas variáveis são categóricas.\n",
        "* Apesar de ter muitos valores ausentes, muitos deles representam 0. Por exemplo nas variáveis `last_amount_borrowed` e `last_borrowed_in_months`, onde o valor ausente `NaN` pode ser interpretado como 0, isso também pode ser interpretado para a variável `credit_limit`.\n",
        "* Que nossa variável alvo contém mais de 7% de seus valores como ausentes. Posteriormente iremos deletar as entradas que estão com essa coluna como valor ausente.\n",
        "* Que as variáveis `external_data_provider_credit_checks_last_2_year` e `channel` contém apenas 1 classe. Então iremos excluir essas colunas na etapa de preparação de dados."
      ]
    },
    {
      "cell_type": "markdown",
      "metadata": {
        "id": "NhZ17NDpjQc5",
        "colab_type": "text"
      },
      "source": [
        "### Relatório Estatístico\n",
        "\n",
        "Agora vamos executar o método `describe` que nos fornece um relatório estatístico das nossas variáveis numéricas. Este método é bem útil para analisar se há valores *outliers* nas nossas colunas."
      ]
    },
    {
      "cell_type": "code",
      "metadata": {
        "id": "zMyERDRvjo1Z",
        "colab_type": "code",
        "colab": {
          "base_uri": "https://localhost:8080/",
          "height": 317
        },
        "outputId": "3c699d83-4940-4861-93d0-b874b2979f38"
      },
      "source": [
        "df.describe()"
      ],
      "execution_count": 9,
      "outputs": [
        {
          "output_type": "execute_result",
          "data": {
            "text/html": [
              "<div>\n",
              "<style scoped>\n",
              "    .dataframe tbody tr th:only-of-type {\n",
              "        vertical-align: middle;\n",
              "    }\n",
              "\n",
              "    .dataframe tbody tr th {\n",
              "        vertical-align: top;\n",
              "    }\n",
              "\n",
              "    .dataframe thead th {\n",
              "        text-align: right;\n",
              "    }\n",
              "</style>\n",
              "<table border=\"1\" class=\"dataframe\">\n",
              "  <thead>\n",
              "    <tr style=\"text-align: right;\">\n",
              "      <th></th>\n",
              "      <th>score_3</th>\n",
              "      <th>score_4</th>\n",
              "      <th>score_5</th>\n",
              "      <th>score_6</th>\n",
              "      <th>risk_rate</th>\n",
              "      <th>last_amount_borrowed</th>\n",
              "      <th>last_borrowed_in_months</th>\n",
              "      <th>credit_limit</th>\n",
              "      <th>income</th>\n",
              "      <th>ok_since</th>\n",
              "      <th>n_bankruptcies</th>\n",
              "      <th>n_defaulted_loans</th>\n",
              "      <th>n_accounts</th>\n",
              "      <th>n_issues</th>\n",
              "      <th>application_time_in_funnel</th>\n",
              "      <th>external_data_provider_credit_checks_last_2_year</th>\n",
              "      <th>external_data_provider_credit_checks_last_month</th>\n",
              "      <th>external_data_provider_credit_checks_last_year</th>\n",
              "      <th>external_data_provider_email_seen_before</th>\n",
              "      <th>external_data_provider_fraud_score</th>\n",
              "      <th>reported_income</th>\n",
              "      <th>shipping_zip_code</th>\n",
              "    </tr>\n",
              "  </thead>\n",
              "  <tbody>\n",
              "    <tr>\n",
              "      <th>count</th>\n",
              "      <td>44438.000000</td>\n",
              "      <td>45000.000000</td>\n",
              "      <td>45000.000000</td>\n",
              "      <td>45000.000000</td>\n",
              "      <td>44438.000000</td>\n",
              "      <td>15044.000000</td>\n",
              "      <td>15044.000000</td>\n",
              "      <td>31200.000000</td>\n",
              "      <td>4.443800e+04</td>\n",
              "      <td>18455.000000</td>\n",
              "      <td>44303.000000</td>\n",
              "      <td>44426.000000</td>\n",
              "      <td>44438.000000</td>\n",
              "      <td>33456.000000</td>\n",
              "      <td>45000.000000</td>\n",
              "      <td>22372.0</td>\n",
              "      <td>45000.000000</td>\n",
              "      <td>29876.000000</td>\n",
              "      <td>42767.000000</td>\n",
              "      <td>45000.000000</td>\n",
              "      <td>45000.00</td>\n",
              "      <td>45000.000000</td>\n",
              "    </tr>\n",
              "    <tr>\n",
              "      <th>mean</th>\n",
              "      <td>347.983258</td>\n",
              "      <td>100.006797</td>\n",
              "      <td>0.500037</td>\n",
              "      <td>99.925228</td>\n",
              "      <td>0.296717</td>\n",
              "      <td>13782.341991</td>\n",
              "      <td>41.763893</td>\n",
              "      <td>34381.951154</td>\n",
              "      <td>7.160739e+04</td>\n",
              "      <td>35.069737</td>\n",
              "      <td>0.076270</td>\n",
              "      <td>0.004569</td>\n",
              "      <td>10.696701</td>\n",
              "      <td>11.068119</td>\n",
              "      <td>247.537000</td>\n",
              "      <td>0.0</td>\n",
              "      <td>1.501067</td>\n",
              "      <td>0.503381</td>\n",
              "      <td>12.534781</td>\n",
              "      <td>500.399800</td>\n",
              "      <td>inf</td>\n",
              "      <td>33923.514844</td>\n",
              "    </tr>\n",
              "    <tr>\n",
              "      <th>std</th>\n",
              "      <td>110.429165</td>\n",
              "      <td>3.178080</td>\n",
              "      <td>0.288326</td>\n",
              "      <td>10.016549</td>\n",
              "      <td>0.101933</td>\n",
              "      <td>8077.571933</td>\n",
              "      <td>10.252705</td>\n",
              "      <td>36586.982218</td>\n",
              "      <td>5.185897e+04</td>\n",
              "      <td>21.663194</td>\n",
              "      <td>0.274052</td>\n",
              "      <td>0.079400</td>\n",
              "      <td>4.592463</td>\n",
              "      <td>4.595501</td>\n",
              "      <td>146.118398</td>\n",
              "      <td>0.0</td>\n",
              "      <td>1.114941</td>\n",
              "      <td>0.499997</td>\n",
              "      <td>126.530487</td>\n",
              "      <td>287.968873</td>\n",
              "      <td>NaN</td>\n",
              "      <td>12692.406382</td>\n",
              "    </tr>\n",
              "    <tr>\n",
              "      <th>min</th>\n",
              "      <td>0.000000</td>\n",
              "      <td>86.191572</td>\n",
              "      <td>0.000035</td>\n",
              "      <td>60.663039</td>\n",
              "      <td>0.000000</td>\n",
              "      <td>1005.180000</td>\n",
              "      <td>36.000000</td>\n",
              "      <td>0.000000</td>\n",
              "      <td>4.821180e+03</td>\n",
              "      <td>0.000000</td>\n",
              "      <td>0.000000</td>\n",
              "      <td>0.000000</td>\n",
              "      <td>0.000000</td>\n",
              "      <td>0.000000</td>\n",
              "      <td>0.000000</td>\n",
              "      <td>0.0</td>\n",
              "      <td>0.000000</td>\n",
              "      <td>0.000000</td>\n",
              "      <td>-999.000000</td>\n",
              "      <td>0.000000</td>\n",
              "      <td>403.00</td>\n",
              "      <td>12001.000000</td>\n",
              "    </tr>\n",
              "    <tr>\n",
              "      <th>25%</th>\n",
              "      <td>270.000000</td>\n",
              "      <td>97.867036</td>\n",
              "      <td>0.252150</td>\n",
              "      <td>93.198353</td>\n",
              "      <td>0.220000</td>\n",
              "      <td>7519.502500</td>\n",
              "      <td>36.000000</td>\n",
              "      <td>10000.000000</td>\n",
              "      <td>4.501078e+04</td>\n",
              "      <td>17.000000</td>\n",
              "      <td>0.000000</td>\n",
              "      <td>0.000000</td>\n",
              "      <td>7.000000</td>\n",
              "      <td>8.000000</td>\n",
              "      <td>120.000000</td>\n",
              "      <td>0.0</td>\n",
              "      <td>1.000000</td>\n",
              "      <td>0.000000</td>\n",
              "      <td>11.000000</td>\n",
              "      <td>252.000000</td>\n",
              "      <td>50948.25</td>\n",
              "      <td>22937.000000</td>\n",
              "    </tr>\n",
              "    <tr>\n",
              "      <th>50%</th>\n",
              "      <td>340.000000</td>\n",
              "      <td>100.018900</td>\n",
              "      <td>0.500753</td>\n",
              "      <td>99.974796</td>\n",
              "      <td>0.290000</td>\n",
              "      <td>12023.465000</td>\n",
              "      <td>36.000000</td>\n",
              "      <td>25647.000000</td>\n",
              "      <td>6.126676e+04</td>\n",
              "      <td>32.000000</td>\n",
              "      <td>0.000000</td>\n",
              "      <td>0.000000</td>\n",
              "      <td>10.000000</td>\n",
              "      <td>10.000000</td>\n",
              "      <td>248.000000</td>\n",
              "      <td>0.0</td>\n",
              "      <td>2.000000</td>\n",
              "      <td>1.000000</td>\n",
              "      <td>27.000000</td>\n",
              "      <td>503.000000</td>\n",
              "      <td>101779.00</td>\n",
              "      <td>33896.000000</td>\n",
              "    </tr>\n",
              "    <tr>\n",
              "      <th>75%</th>\n",
              "      <td>420.000000</td>\n",
              "      <td>102.141797</td>\n",
              "      <td>0.748816</td>\n",
              "      <td>106.640275</td>\n",
              "      <td>0.360000</td>\n",
              "      <td>19220.270000</td>\n",
              "      <td>36.000000</td>\n",
              "      <td>47086.750000</td>\n",
              "      <td>8.601923e+04</td>\n",
              "      <td>50.000000</td>\n",
              "      <td>0.000000</td>\n",
              "      <td>0.000000</td>\n",
              "      <td>13.000000</td>\n",
              "      <td>14.000000</td>\n",
              "      <td>375.000000</td>\n",
              "      <td>0.0</td>\n",
              "      <td>2.000000</td>\n",
              "      <td>1.000000</td>\n",
              "      <td>43.000000</td>\n",
              "      <td>747.000000</td>\n",
              "      <td>151337.25</td>\n",
              "      <td>44910.000000</td>\n",
              "    </tr>\n",
              "    <tr>\n",
              "      <th>max</th>\n",
              "      <td>990.000000</td>\n",
              "      <td>113.978234</td>\n",
              "      <td>0.999973</td>\n",
              "      <td>142.192400</td>\n",
              "      <td>0.900000</td>\n",
              "      <td>35059.600000</td>\n",
              "      <td>60.000000</td>\n",
              "      <td>448269.000000</td>\n",
              "      <td>5.000028e+06</td>\n",
              "      <td>141.000000</td>\n",
              "      <td>5.000000</td>\n",
              "      <td>5.000000</td>\n",
              "      <td>49.000000</td>\n",
              "      <td>49.000000</td>\n",
              "      <td>500.000000</td>\n",
              "      <td>0.0</td>\n",
              "      <td>3.000000</td>\n",
              "      <td>1.000000</td>\n",
              "      <td>59.000000</td>\n",
              "      <td>1000.000000</td>\n",
              "      <td>inf</td>\n",
              "      <td>56000.000000</td>\n",
              "    </tr>\n",
              "  </tbody>\n",
              "</table>\n",
              "</div>"
            ],
            "text/plain": [
              "            score_3       score_4  ...  reported_income  shipping_zip_code\n",
              "count  44438.000000  45000.000000  ...         45000.00       45000.000000\n",
              "mean     347.983258    100.006797  ...              inf       33923.514844\n",
              "std      110.429165      3.178080  ...              NaN       12692.406382\n",
              "min        0.000000     86.191572  ...           403.00       12001.000000\n",
              "25%      270.000000     97.867036  ...         50948.25       22937.000000\n",
              "50%      340.000000    100.018900  ...        101779.00       33896.000000\n",
              "75%      420.000000    102.141797  ...        151337.25       44910.000000\n",
              "max      990.000000    113.978234  ...              inf       56000.000000\n",
              "\n",
              "[8 rows x 22 columns]"
            ]
          },
          "metadata": {
            "tags": []
          },
          "execution_count": 9
        }
      ]
    },
    {
      "cell_type": "markdown",
      "metadata": {
        "id": "NEC-n5IjmFOy",
        "colab_type": "text"
      },
      "source": [
        "Percebemos que:\n",
        "* A variável `external_data_provider_credit_checks_last_2_year` têm todas as suas informações estatísticas como 0.0.\n",
        "* A variável `reported_income` possui valores `np.inf`, iremos substituir esses valores para `np.nan`.\n",
        "* A variável `external_data_provider_email_seen_before` tem o valor mínimo como -999.0, o que não faz sentido se comparado as outras colunas. Podemos concluir que se trata de um valor *outlier* ou que esses dados foram tratados inadequadamente. Iremos substituir os valores iguais a -999.0 por `np.nan`."
      ]
    },
    {
      "cell_type": "markdown",
      "metadata": {
        "id": "PsdvLC5pp0Dk",
        "colab_type": "text"
      },
      "source": [
        "### Verificando o balanceamento das classes da variável alvo\n",
        "\n",
        "Nesta etapa vamos plotar um gráfico com a distribuição das classes para nossa variável alvo, `target_default`. Ela nos diz se um cliente é ou não inadimplente. Vamos verificar também a porporção de clientes inadimplentes ou não comparados a todos os clientes.\n",
        "\n",
        "Isso é importante para vermos o balanceamento das nossas classes."
      ]
    },
    {
      "cell_type": "code",
      "metadata": {
        "id": "HvrNb545rDI8",
        "colab_type": "code",
        "colab": {
          "base_uri": "https://localhost:8080/",
          "height": 380
        },
        "outputId": "fc8b3607-a443-4513-bf37-b5a67e8e16b1"
      },
      "source": [
        "fig, ax = plt.subplots()\n",
        "\n",
        "sns.countplot(df.target_default, ax=ax)\n",
        "ax.set_title('Inadimplentes')\n",
        "ax.set_xlabel('Classes')\n",
        "ax.set_ylabel('Contagem')\n",
        "\n",
        "plt.show()\n",
        "\n",
        "print('\\nProporção entre inadimplentes no Dataset:')\n",
        "print((df.target_default.value_counts() / df.shape[0])*100)"
      ],
      "execution_count": 10,
      "outputs": [
        {
          "output_type": "display_data",
          "data": {
            "image/png": "[encoded data removed]",
            "text/plain": [
              "<Figure size 432x288 with 1 Axes>"
            ]
          },
          "metadata": {
            "tags": [],
            "needs_background": "light"
          }
        },
        {
          "output_type": "stream",
          "text": [
            "\n",
            "Proporção entre inadimplentes no Dataset:\n",
            "False    77.955556\n",
            "True     14.802222\n",
            "Name: target_default, dtype: float64\n"
          ],
          "name": "stdout"
        }
      ]
    },
    {
      "cell_type": "markdown",
      "metadata": {
        "id": "13RLyeORstyS",
        "colab_type": "text"
      },
      "source": [
        "Percebemos que nossas classes estão bem desbalanceadas e vamos tratar disso na preparação dos dados.\n",
        "\n",
        "Percebemos também que 77% dos clientes do banco não são inadimplentes, enquanto quase 15% o são."
      ]
    },
    {
      "cell_type": "markdown",
      "metadata": {
        "id": "TNnkv0AWJQi9",
        "colab_type": "text"
      },
      "source": [
        "---\n",
        "\n",
        "## Preparação dos Dados\n",
        "\n",
        "Esta etapa precede a etapa de instanciação do modelo de *Machine Learning*. É agora que vamos preparar nossos dados para treinar, avaliar e testar nosso modelo.\n",
        "\n",
        "![alt text](https://github.com/johnsigma/meuPortfolio/blob/master/imagens/searching.jpg?raw=true)\n",
        "\n",
        "<a href='https://www.freepik.com/vectors/business'>Business vector created by pikisuperstar - www.freepik.com</a>\n",
        "\n",
        "\n",
        "Primeiro vamos focar nos prés-processamento que já haviamos definido na etapa de Análise Exploratória dos Dados, são eles:\n",
        "* Remover as colunas inúteis (`ids`, `external_data_provider_first_name`, etc...).\n",
        "* Tratar os valores ausentes.\n",
        "* Tratar as colunas com valores codificados.\n",
        "\n"
      ]
    },
    {
      "cell_type": "markdown",
      "metadata": {
        "id": "YtgvvttoLji2",
        "colab_type": "text"
      },
      "source": [
        "### Removendo Colunas Inúteis\n",
        "\n",
        "Primeiramente vamos remover algumas colunas que não são úteis para nosso modelo de *Machine Learning*, vamos dividir esta etapa em outras micro-etapas:\n",
        "* Remover as colunas `ids` e `external_data_provider_first_name`.\n",
        "* Remover colunas com apenas 1 classe."
      ]
    },
    {
      "cell_type": "code",
      "metadata": {
        "id": "8cfOrcMXN1fV",
        "colab_type": "code",
        "colab": {}
      },
      "source": [
        "# removendo colunas ids e external_data_provider_first_name\n",
        "df = df.drop(['ids', 'external_data_provider_first_name'], axis=1).copy()\n",
        "\n",
        "# removendo colunas com 1 classe\n",
        "df = df.drop(['external_data_provider_credit_checks_last_2_year', 'channel'], axis=1).copy()"
      ],
      "execution_count": 11,
      "outputs": []
    },
    {
      "cell_type": "markdown",
      "metadata": {
        "id": "8gUlmj6bVEUG",
        "colab_type": "text"
      },
      "source": [
        "### Tratando os valores ausentes\n",
        "\n",
        "Vamos agora tratar as colunas com valores ausentes. Primeiro vamos verificar a natureza destes valores ausentes, pois como vimos anteriormente alguns desses valores ausentes podemos assumir como 0.\n",
        "\n",
        "Primeiro, para as variáveis categóricas vamos preencher os dados ausentes com o valor mais frequente.\n",
        "\n",
        "Depois, como dito anteriormente, vamos subtituir os valores `np.inf` da coluna `reported_income` por `np.nan`.\n",
        "\n",
        "Após isso vamos plotar um *boxplot* para a variável `external_data_provider_email_seen_before`, pois, como visto no nosso resumo estatístico, essa coluna possui valores *outliers* e iremos substituir esses valores por `np.nan`.\n",
        "\n",
        "Ressalto que substituir esses valores por `np.nan` significa preencher esses valores com valores ausentes, os quais iremos tratar mais a frente."
      ]
    },
    {
      "cell_type": "code",
      "metadata": {
        "id": "RPbX-ZATNKr1",
        "colab_type": "code",
        "colab": {}
      },
      "source": [
        "df_clean = df.copy()"
      ],
      "execution_count": 12,
      "outputs": []
    },
    {
      "cell_type": "code",
      "metadata": {
        "id": "sn5oy6whN3-e",
        "colab_type": "code",
        "colab": {}
      },
      "source": [
        "# importanto o pacote necessário\n",
        "from sklearn.impute import SimpleImputer\n",
        "\n",
        "# extraindo as variáveis categóricas\n",
        "colunas_cat = df_clean.select_dtypes(include='object').columns\n",
        "\n",
        "# substituindo pelo valor mais frequente\n",
        "imputer = SimpleImputer(missing_values=np.nan, strategy='most_frequent')\n",
        "imputer = imputer.fit(df_clean.loc[:,colunas_cat])\n",
        "df_clean.loc[:,colunas_cat] = imputer.transform(df_clean.loc[:,colunas_cat])"
      ],
      "execution_count": 13,
      "outputs": []
    },
    {
      "cell_type": "code",
      "metadata": {
        "id": "uV8boEjIHxBQ",
        "colab_type": "code",
        "colab": {}
      },
      "source": [
        "# substituindo np.inf por np.nan\n",
        "df_clean['reported_income'] = df_clean['reported_income'].replace(np.inf,np.nan)"
      ],
      "execution_count": 14,
      "outputs": []
    },
    {
      "cell_type": "code",
      "metadata": {
        "id": "fK0dtMjuKORn",
        "colab_type": "code",
        "colab": {
          "base_uri": "https://localhost:8080/",
          "height": 280
        },
        "outputId": "2245f3b5-9d46-43a3-b48e-3692b065ec47"
      },
      "source": [
        "# boxplot da variável external_data_provider_email_seen_before\n",
        "sns.boxplot(df_clean['external_data_provider_email_seen_before']);"
      ],
      "execution_count": 15,
      "outputs": [
        {
          "output_type": "display_data",
          "data": {
            "image/png": "[encoded data removed]",
            "text/plain": [
              "<Figure size 432x288 with 1 Axes>"
            ]
          },
          "metadata": {
            "tags": [],
            "needs_background": "light"
          }
        }
      ]
    },
    {
      "cell_type": "markdown",
      "metadata": {
        "id": "iqqElH-eKlxv",
        "colab_type": "text"
      },
      "source": [
        "Como vimos no nosso resumo estatístico, o valor *outlier* da nossa variável é o -999.0, vamos substituir ele por `np.nan`."
      ]
    },
    {
      "cell_type": "code",
      "metadata": {
        "id": "QpX7D51eK0FH",
        "colab_type": "code",
        "colab": {}
      },
      "source": [
        "for (index,valor) in zip(df_clean['external_data_provider_email_seen_before'].index,df_clean['external_data_provider_email_seen_before']):\n",
        "  if valor == -999:\n",
        "    df_clean['external_data_provider_email_seen_before'][index] = np.nan"
      ],
      "execution_count": 16,
      "outputs": []
    },
    {
      "cell_type": "markdown",
      "metadata": {
        "id": "Ipn4J6i7HxyI",
        "colab_type": "text"
      },
      "source": [
        "Agora vamos imprimir as 5 primeiras entradas apenas contendo as colunas que tem valores ausentes."
      ]
    },
    {
      "cell_type": "code",
      "metadata": {
        "id": "bM2qEYgwWpv2",
        "colab_type": "code",
        "colab": {
          "base_uri": "https://localhost:8080/",
          "height": 224
        },
        "outputId": "455719ac-b4bf-432f-ca20-698ce5c618f3"
      },
      "source": [
        "# primeiro vamos colocar em uma lista apenas as colunas que contém valores ausentes\n",
        "col_valores_ausentes = []\n",
        "\n",
        "# vamos usar um for para percorrer as colunas e verificar se nelas há valores ausentes\n",
        "for (col,data) in df_clean.iteritems():\n",
        "  if data.isnull().sum() > 0:\n",
        "    col_valores_ausentes.append(col)\n",
        "\n",
        "# agora vamos imprimir um dataframe apenas com as colunas com valores ausentes\n",
        "df_clean[col_valores_ausentes].head()"
      ],
      "execution_count": 17,
      "outputs": [
        {
          "output_type": "execute_result",
          "data": {
            "text/html": [
              "<div>\n",
              "<style scoped>\n",
              "    .dataframe tbody tr th:only-of-type {\n",
              "        vertical-align: middle;\n",
              "    }\n",
              "\n",
              "    .dataframe tbody tr th {\n",
              "        vertical-align: top;\n",
              "    }\n",
              "\n",
              "    .dataframe thead th {\n",
              "        text-align: right;\n",
              "    }\n",
              "</style>\n",
              "<table border=\"1\" class=\"dataframe\">\n",
              "  <thead>\n",
              "    <tr style=\"text-align: right;\">\n",
              "      <th></th>\n",
              "      <th>score_3</th>\n",
              "      <th>risk_rate</th>\n",
              "      <th>last_amount_borrowed</th>\n",
              "      <th>last_borrowed_in_months</th>\n",
              "      <th>credit_limit</th>\n",
              "      <th>income</th>\n",
              "      <th>ok_since</th>\n",
              "      <th>n_bankruptcies</th>\n",
              "      <th>n_defaulted_loans</th>\n",
              "      <th>n_accounts</th>\n",
              "      <th>n_issues</th>\n",
              "      <th>external_data_provider_credit_checks_last_year</th>\n",
              "      <th>external_data_provider_email_seen_before</th>\n",
              "      <th>reported_income</th>\n",
              "    </tr>\n",
              "  </thead>\n",
              "  <tbody>\n",
              "    <tr>\n",
              "      <th>0</th>\n",
              "      <td>350.0</td>\n",
              "      <td>0.40</td>\n",
              "      <td>25033.92</td>\n",
              "      <td>36.0</td>\n",
              "      <td>0.0</td>\n",
              "      <td>65014.12</td>\n",
              "      <td>NaN</td>\n",
              "      <td>0.0</td>\n",
              "      <td>0.0</td>\n",
              "      <td>18.0</td>\n",
              "      <td>18.0</td>\n",
              "      <td>0.0</td>\n",
              "      <td>51.0</td>\n",
              "      <td>57849.0</td>\n",
              "    </tr>\n",
              "    <tr>\n",
              "      <th>1</th>\n",
              "      <td>370.0</td>\n",
              "      <td>0.24</td>\n",
              "      <td>NaN</td>\n",
              "      <td>NaN</td>\n",
              "      <td>39726.0</td>\n",
              "      <td>100018.91</td>\n",
              "      <td>50.0</td>\n",
              "      <td>0.0</td>\n",
              "      <td>0.0</td>\n",
              "      <td>14.0</td>\n",
              "      <td>14.0</td>\n",
              "      <td>0.0</td>\n",
              "      <td>17.0</td>\n",
              "      <td>4902.0</td>\n",
              "    </tr>\n",
              "    <tr>\n",
              "      <th>2</th>\n",
              "      <td>360.0</td>\n",
              "      <td>0.29</td>\n",
              "      <td>7207.92</td>\n",
              "      <td>36.0</td>\n",
              "      <td>NaN</td>\n",
              "      <td>65023.65</td>\n",
              "      <td>NaN</td>\n",
              "      <td>0.0</td>\n",
              "      <td>0.0</td>\n",
              "      <td>10.0</td>\n",
              "      <td>NaN</td>\n",
              "      <td>NaN</td>\n",
              "      <td>9.0</td>\n",
              "      <td>163679.0</td>\n",
              "    </tr>\n",
              "    <tr>\n",
              "      <th>3</th>\n",
              "      <td>510.0</td>\n",
              "      <td>0.32</td>\n",
              "      <td>NaN</td>\n",
              "      <td>NaN</td>\n",
              "      <td>54591.0</td>\n",
              "      <td>68830.01</td>\n",
              "      <td>NaN</td>\n",
              "      <td>1.0</td>\n",
              "      <td>0.0</td>\n",
              "      <td>19.0</td>\n",
              "      <td>19.0</td>\n",
              "      <td>NaN</td>\n",
              "      <td>38.0</td>\n",
              "      <td>1086.0</td>\n",
              "    </tr>\n",
              "    <tr>\n",
              "      <th>4</th>\n",
              "      <td>500.0</td>\n",
              "      <td>0.18</td>\n",
              "      <td>NaN</td>\n",
              "      <td>NaN</td>\n",
              "      <td>NaN</td>\n",
              "      <td>60011.29</td>\n",
              "      <td>NaN</td>\n",
              "      <td>0.0</td>\n",
              "      <td>0.0</td>\n",
              "      <td>11.0</td>\n",
              "      <td>NaN</td>\n",
              "      <td>1.0</td>\n",
              "      <td>46.0</td>\n",
              "      <td>198618.0</td>\n",
              "    </tr>\n",
              "  </tbody>\n",
              "</table>\n",
              "</div>"
            ],
            "text/plain": [
              "   score_3  ...  reported_income\n",
              "0    350.0  ...          57849.0\n",
              "1    370.0  ...           4902.0\n",
              "2    360.0  ...         163679.0\n",
              "3    510.0  ...           1086.0\n",
              "4    500.0  ...         198618.0\n",
              "\n",
              "[5 rows x 14 columns]"
            ]
          },
          "metadata": {
            "tags": []
          },
          "execution_count": 17
        }
      ]
    },
    {
      "cell_type": "markdown",
      "metadata": {
        "id": "qteSHYmg_ksh",
        "colab_type": "text"
      },
      "source": [
        "Vamos agora imprimir quantos valores únicos essas colunas com valores ausentes têm. Isso pode nos dizer se alguma dessas colunas são categóricas, o que pode nos ajudar a pensar no que fazer com esses valores ausentes."
      ]
    },
    {
      "cell_type": "code",
      "metadata": {
        "id": "_LWySqXC_zyo",
        "colab_type": "code",
        "colab": {
          "base_uri": "https://localhost:8080/",
          "height": 255
        },
        "outputId": "4b6865d3-46f6-474a-805c-af08e30dbb24"
      },
      "source": [
        "for col in col_valores_ausentes:\n",
        "  print(f'Valores únicos da coluna {col}:  {df_clean[col].nunique()}, porcentagem de '\n",
        "  f'valores ausentes: {(df_clean[col].isnull().sum()/df_clean.shape[0])*100}')"
      ],
      "execution_count": 18,
      "outputs": [
        {
          "output_type": "stream",
          "text": [
            "Valores únicos da coluna score_3:  88, porcentagem de valores ausentes: 1.248888888888889\n",
            "Valores únicos da coluna risk_rate:  82, porcentagem de valores ausentes: 1.248888888888889\n",
            "Valores únicos da coluna last_amount_borrowed:  14325, porcentagem de valores ausentes: 66.56888888888889\n",
            "Valores únicos da coluna last_borrowed_in_months:  2, porcentagem de valores ausentes: 66.56888888888889\n",
            "Valores únicos da coluna credit_limit:  20928, porcentagem de valores ausentes: 30.666666666666664\n",
            "Valores únicos da coluna income:  41211, porcentagem de valores ausentes: 1.248888888888889\n",
            "Valores únicos da coluna ok_since:  100, porcentagem de valores ausentes: 58.988888888888894\n",
            "Valores únicos da coluna n_bankruptcies:  6, porcentagem de valores ausentes: 1.548888888888889\n",
            "Valores únicos da coluna n_defaulted_loans:  5, porcentagem de valores ausentes: 1.2755555555555556\n",
            "Valores únicos da coluna n_accounts:  44, porcentagem de valores ausentes: 1.248888888888889\n",
            "Valores únicos da coluna n_issues:  44, porcentagem de valores ausentes: 25.653333333333332\n",
            "Valores únicos da coluna external_data_provider_credit_checks_last_year:  2, porcentagem de valores ausentes: 33.608888888888885\n",
            "Valores únicos da coluna external_data_provider_email_seen_before:  61, porcentagem de valores ausentes: 6.397777777777777\n",
            "Valores únicos da coluna reported_income:  40024, porcentagem de valores ausentes: 0.1488888888888889\n"
          ],
          "name": "stdout"
        }
      ]
    },
    {
      "cell_type": "markdown",
      "metadata": {
        "id": "BHjEn1Tf_-lJ",
        "colab_type": "text"
      },
      "source": [
        "Vemos que algumas colunas podem ser categóricas pelo pequeno número de valores únicos que elas possuem. Agora vamos pegar as colunas, dentre as colunas com valores ausentes, que têm menos de 10 valores únicos e exibi-los."
      ]
    },
    {
      "cell_type": "code",
      "metadata": {
        "id": "DIfDSF7YAW3_",
        "colab_type": "code",
        "colab": {
          "base_uri": "https://localhost:8080/",
          "height": 85
        },
        "outputId": "d8f5a24f-73c0-407e-e191-a3d17f478f79"
      },
      "source": [
        "colunas = []\n",
        "\n",
        "for col in col_valores_ausentes:\n",
        "  if df_clean[col].nunique() < 11:\n",
        "    colunas.append(col)\n",
        "\n",
        "for col in colunas:\n",
        "  print(f'Valores únicos da coluna {col}: {df_clean[col].unique()}, porcentagem de '\n",
        "  f'valores ausentes: {(df_clean[col].isnull().sum()/df_clean.shape[0])*100}')"
      ],
      "execution_count": 19,
      "outputs": [
        {
          "output_type": "stream",
          "text": [
            "Valores únicos da coluna last_borrowed_in_months: [36. nan 60.], porcentagem de valores ausentes: 66.56888888888889\n",
            "Valores únicos da coluna n_bankruptcies: [ 0.  1. nan  2.  3.  4.  5.], porcentagem de valores ausentes: 1.548888888888889\n",
            "Valores únicos da coluna n_defaulted_loans: [ 0.  1. nan  2.  3.  5.], porcentagem de valores ausentes: 1.2755555555555556\n",
            "Valores únicos da coluna external_data_provider_credit_checks_last_year: [ 0. nan  1.], porcentagem de valores ausentes: 33.608888888888885\n"
          ],
          "name": "stdout"
        }
      ]
    },
    {
      "cell_type": "markdown",
      "metadata": {
        "id": "ZhmQ4daYB7Fo",
        "colab_type": "text"
      },
      "source": [
        "Com essas informações defini o que fazer com essas colunas:\n",
        "* Para as colunas `target_default`, `n_bankruptcies` e `n_defaulted_loans` iremos excluir as entradas com os valores ausentes. Faremos isso pois a porcentagem de valores ausentes é relativamente baixa para não aproveitarmos os valores preenchidos dessas colunas.\n",
        "* Já as colunas `external_data_provider_credit_checks_last_year` e `target_fraud` irão ser excluídas, pois todas possuem uma porcentagem muito alta de dados ausentes.\n",
        "* A coluna `last_borrowed_in_months` terá seus valores ausentes substuídos por zero, já que ela não possui esse valor podemos presumir que o valor ausente foi preenchido representando o zero."
      ]
    },
    {
      "cell_type": "code",
      "metadata": {
        "id": "eExm2TG4ychm",
        "colab_type": "code",
        "colab": {}
      },
      "source": [
        "# excluindo as entradas com valores ausentes\n",
        "df_clean.dropna(inplace=True, axis=0, subset=['n_defaulted_loans', 'n_bankruptcies', 'target_default'])"
      ],
      "execution_count": 20,
      "outputs": []
    },
    {
      "cell_type": "code",
      "metadata": {
        "id": "skvPMoeOEJhP",
        "colab_type": "code",
        "colab": {}
      },
      "source": [
        "# excluindo as colunas com muitos valores ausentes\n",
        "df_clean.drop(labels=['external_data_provider_credit_checks_last_year', 'target_fraud'], axis=1, inplace=True)"
      ],
      "execution_count": 21,
      "outputs": []
    },
    {
      "cell_type": "code",
      "metadata": {
        "id": "GXUTsGVAQmsO",
        "colab_type": "code",
        "colab": {}
      },
      "source": [
        "# substituindo np.nan por zero\n",
        "df_clean['last_borrowed_in_months'].fillna(0, inplace=True)"
      ],
      "execution_count": 22,
      "outputs": []
    },
    {
      "cell_type": "markdown",
      "metadata": {
        "id": "vLsa8qqQHhXV",
        "colab_type": "text"
      },
      "source": [
        "Agora que tratamos das variáveis categóricas, devemos tratar nossos outros valores ausentes. A seguir vamos exibir as variáveis que ainda contêm valores ausentes, para isso podemos utilizar o mesmo código que usamos anteriormente."
      ]
    },
    {
      "cell_type": "code",
      "metadata": {
        "id": "TUHUmcWgH4-I",
        "colab_type": "code",
        "colab": {
          "base_uri": "https://localhost:8080/",
          "height": 119
        },
        "outputId": "91c44027-864c-45a0-b373-88670071cfc8"
      },
      "source": [
        "# primeiro vamos colocar em uma lista apenas as colunas que contém valores ausentes\n",
        "col_valores_ausentes = []\n",
        "\n",
        "# vamos usar um for para percorrer as colunas e verificar se nelas há valores ausentes\n",
        "for (col,data) in df_clean.iteritems():\n",
        "  if data.isnull().sum() > 0:\n",
        "    col_valores_ausentes.append(col)\n",
        "\n",
        "for col in col_valores_ausentes:\n",
        "  print(f'Valores únicos da coluna {col}:  {df_clean[col].nunique()}, porcentagem de '\n",
        "  f'valores ausentes: {(df_clean[col].isnull().sum()/df_clean.shape[0])*100}')"
      ],
      "execution_count": 23,
      "outputs": [
        {
          "output_type": "stream",
          "text": [
            "Valores únicos da coluna last_amount_borrowed:  14286, porcentagem de valores ausentes: 66.14450488680225\n",
            "Valores únicos da coluna credit_limit:  20928, porcentagem de valores ausentes: 29.57587522289687\n",
            "Valores únicos da coluna ok_since:  100, porcentagem de valores ausentes: 58.64839852831637\n",
            "Valores únicos da coluna n_issues:  44, porcentagem de valores ausentes: 24.483669277475567\n",
            "Valores únicos da coluna external_data_provider_email_seen_before:  61, porcentagem de valores ausentes: 6.387829266641084\n",
            "Valores únicos da coluna reported_income:  39442, porcentagem de valores ausentes: 0.15123129359185608\n"
          ],
          "name": "stdout"
        }
      ]
    },
    {
      "cell_type": "markdown",
      "metadata": {
        "id": "mKxWpQhEI2EO",
        "colab_type": "text"
      },
      "source": [
        "Agora vamos olhar para algumas variáveis discretas individualmente para sabermos o que fazer com seus valores ausentes. Primeiro vamos passar essas variáveis para uma lista e usar um laço `for` para verificar quais dessas variáveis têm valor zero. Faremos isso porque algumas dessas variáveis apresentam valores contínuos e o valor ausente, *NaN*, pode significar zero nos valores preenchidos."
      ]
    },
    {
      "cell_type": "code",
      "metadata": {
        "id": "N2zzpBxD_Jda",
        "colab_type": "code",
        "colab": {
          "base_uri": "https://localhost:8080/",
          "height": 119
        },
        "outputId": "d57f1ca7-d5b6-494a-cee6-2a7428253222"
      },
      "source": [
        "colunas = ['last_amount_borrowed','credit_limit','ok_since','n_issues',\n",
        "           'external_data_provider_email_seen_before','reported_income']\n",
        "zeros = 0\n",
        "\n",
        "for (col,valores) in df_clean[colunas].iteritems():\n",
        "  for valor in valores:\n",
        "    if valor == 0:\n",
        "      zeros += 1\n",
        "  print(f'A coluna {col} têm {zeros} zeros!')"
      ],
      "execution_count": 24,
      "outputs": [
        {
          "output_type": "stream",
          "text": [
            "A coluna last_amount_borrowed têm 0 zeros!\n",
            "A coluna credit_limit têm 5270 zeros!\n",
            "A coluna ok_since têm 5299 zeros!\n",
            "A coluna n_issues têm 5300 zeros!\n",
            "A coluna external_data_provider_email_seen_before têm 6001 zeros!\n",
            "A coluna reported_income têm 6001 zeros!\n"
          ],
          "name": "stdout"
        }
      ]
    },
    {
      "cell_type": "markdown",
      "metadata": {
        "id": "ORikh86tBf2x",
        "colab_type": "text"
      },
      "source": [
        "Vemos que a única coluna que não contêm zeros é a `last_amount_borrowed`. Esta coluna nos diz o menor montante emprestado para o cliente (entrada), como ela não têm zeros vou assumir que os valores ausentes significam zeros. Então se em um cliente esta coluna está como valor ausente quer dizer, no nosso caso, que esse cliente não teve nenhum montante emprestado."
      ]
    },
    {
      "cell_type": "code",
      "metadata": {
        "id": "WJS_mShsCQAh",
        "colab_type": "code",
        "colab": {}
      },
      "source": [
        "# substituindo nan por zero\n",
        "df_clean['last_amount_borrowed'].fillna(0, inplace=True)"
      ],
      "execution_count": 25,
      "outputs": []
    },
    {
      "cell_type": "markdown",
      "metadata": {
        "id": "w3c2kKn_CvqZ",
        "colab_type": "text"
      },
      "source": [
        "Como as outras colunas possuem o valor zero, então não devemos preencher seus dados ausentes com zero. Agora vamos analisar cada variável que sobrou com valores ausentes individualmente para lidarmos da melhor maneira possível com esses valores.\n",
        "\n",
        "Para a variável `credit_limit`, que corresponde ao limite de crédito do cliente, vamos imprimir um relatório estatístico para sabermos com qual valor preencher as entradas ausentes. Faremos isso pois essa coluna é uma variável discreta e para não perdermos informação é mais lucro preencher os dados ausentes com algum valor que faça sentido."
      ]
    },
    {
      "cell_type": "code",
      "metadata": {
        "id": "evtRArhsD11S",
        "colab_type": "code",
        "colab": {
          "base_uri": "https://localhost:8080/",
          "height": 170
        },
        "outputId": "d6e5b0de-9632-468e-c1b5-12ba6a32c2e0"
      },
      "source": [
        "df_clean['credit_limit'].describe()"
      ],
      "execution_count": 26,
      "outputs": [
        {
          "output_type": "execute_result",
          "data": {
            "text/plain": [
              "count     31200.000000\n",
              "mean      34381.951154\n",
              "std       36586.982218\n",
              "min           0.000000\n",
              "25%       10000.000000\n",
              "50%       25647.000000\n",
              "75%       47086.750000\n",
              "max      448269.000000\n",
              "Name: credit_limit, dtype: float64"
            ]
          },
          "metadata": {
            "tags": []
          },
          "execution_count": 26
        }
      ]
    },
    {
      "cell_type": "markdown",
      "metadata": {
        "id": "StTsfifbEDdT",
        "colab_type": "text"
      },
      "source": [
        "Para essa variável vamos utilizar o valor da mediana para preencher os valores ausentes desta coluna."
      ]
    },
    {
      "cell_type": "code",
      "metadata": {
        "id": "rF_zWv1BELJ6",
        "colab_type": "code",
        "colab": {}
      },
      "source": [
        "mediana = df_clean['credit_limit'].median()\n",
        "df_clean['credit_limit'].fillna(mediana, inplace=True)"
      ],
      "execution_count": 27,
      "outputs": []
    },
    {
      "cell_type": "markdown",
      "metadata": {
        "id": "xuB7EGm7IwBR",
        "colab_type": "text"
      },
      "source": [
        "Vamos fazer o mesmo procedimento com as variáveis `ok_since`, `n_issues`, `external_data_provider_email_seen_before`, e `reported_income`."
      ]
    },
    {
      "cell_type": "code",
      "metadata": {
        "id": "f_p3jhDlJAYi",
        "colab_type": "code",
        "colab": {
          "base_uri": "https://localhost:8080/",
          "height": 297
        },
        "outputId": "2ec8b8a8-c49f-4c94-e636-dc164dd941d5"
      },
      "source": [
        "colunas = ['ok_since', 'n_issues', 'external_data_provider_email_seen_before', 'reported_income']\n",
        "df_clean[colunas].describe()"
      ],
      "execution_count": 28,
      "outputs": [
        {
          "output_type": "execute_result",
          "data": {
            "text/html": [
              "<div>\n",
              "<style scoped>\n",
              "    .dataframe tbody tr th:only-of-type {\n",
              "        vertical-align: middle;\n",
              "    }\n",
              "\n",
              "    .dataframe tbody tr th {\n",
              "        vertical-align: top;\n",
              "    }\n",
              "\n",
              "    .dataframe thead th {\n",
              "        text-align: right;\n",
              "    }\n",
              "</style>\n",
              "<table border=\"1\" class=\"dataframe\">\n",
              "  <thead>\n",
              "    <tr style=\"text-align: right;\">\n",
              "      <th></th>\n",
              "      <th>ok_since</th>\n",
              "      <th>n_issues</th>\n",
              "      <th>external_data_provider_email_seen_before</th>\n",
              "      <th>reported_income</th>\n",
              "    </tr>\n",
              "  </thead>\n",
              "  <tbody>\n",
              "    <tr>\n",
              "      <th>count</th>\n",
              "      <td>18320.000000</td>\n",
              "      <td>33456.000000</td>\n",
              "      <td>41473.000000</td>\n",
              "      <td>4.423600e+04</td>\n",
              "    </tr>\n",
              "    <tr>\n",
              "      <th>mean</th>\n",
              "      <td>35.216157</td>\n",
              "      <td>11.068119</td>\n",
              "      <td>28.052974</td>\n",
              "      <td>1.020076e+13</td>\n",
              "    </tr>\n",
              "    <tr>\n",
              "      <th>std</th>\n",
              "      <td>21.590975</td>\n",
              "      <td>4.595501</td>\n",
              "      <td>17.935234</td>\n",
              "      <td>2.544176e+14</td>\n",
              "    </tr>\n",
              "    <tr>\n",
              "      <th>min</th>\n",
              "      <td>0.000000</td>\n",
              "      <td>0.000000</td>\n",
              "      <td>-1.000000</td>\n",
              "      <td>4.030000e+02</td>\n",
              "    </tr>\n",
              "    <tr>\n",
              "      <th>25%</th>\n",
              "      <td>17.000000</td>\n",
              "      <td>8.000000</td>\n",
              "      <td>12.000000</td>\n",
              "      <td>5.085125e+04</td>\n",
              "    </tr>\n",
              "    <tr>\n",
              "      <th>50%</th>\n",
              "      <td>32.000000</td>\n",
              "      <td>10.000000</td>\n",
              "      <td>28.000000</td>\n",
              "      <td>1.015850e+05</td>\n",
              "    </tr>\n",
              "    <tr>\n",
              "      <th>75%</th>\n",
              "      <td>50.000000</td>\n",
              "      <td>14.000000</td>\n",
              "      <td>44.000000</td>\n",
              "      <td>1.511422e+05</td>\n",
              "    </tr>\n",
              "    <tr>\n",
              "      <th>max</th>\n",
              "      <td>141.000000</td>\n",
              "      <td>49.000000</td>\n",
              "      <td>59.000000</td>\n",
              "      <td>6.355500e+15</td>\n",
              "    </tr>\n",
              "  </tbody>\n",
              "</table>\n",
              "</div>"
            ],
            "text/plain": [
              "           ok_since  ...  reported_income\n",
              "count  18320.000000  ...     4.423600e+04\n",
              "mean      35.216157  ...     1.020076e+13\n",
              "std       21.590975  ...     2.544176e+14\n",
              "min        0.000000  ...     4.030000e+02\n",
              "25%       17.000000  ...     5.085125e+04\n",
              "50%       32.000000  ...     1.015850e+05\n",
              "75%       50.000000  ...     1.511422e+05\n",
              "max      141.000000  ...     6.355500e+15\n",
              "\n",
              "[8 rows x 4 columns]"
            ]
          },
          "metadata": {
            "tags": []
          },
          "execution_count": 28
        }
      ]
    },
    {
      "cell_type": "markdown",
      "metadata": {
        "id": "Dj1FlbMLJ4pp",
        "colab_type": "text"
      },
      "source": [
        "Para as variáveis `n_issues`, `external_data_provider_email_seen_before` e `reported_income` iremos utilizar a mediana para preencher os valores auentes. Já a coluna `ok_since` iremos excluir, pois ela contém zeros e também têm muitos valores ausentes (mais de 50%)."
      ]
    },
    {
      "cell_type": "code",
      "metadata": {
        "id": "FeR-5-mSKwRL",
        "colab_type": "code",
        "colab": {}
      },
      "source": [
        "colunas = ['n_issues', 'external_data_provider_email_seen_before', 'reported_income']\n",
        "\n",
        "for col in colunas:\n",
        "  mediana = df_clean[col].median()\n",
        "  df_clean[col].fillna(mediana, inplace=True)\n",
        "\n",
        "df_clean.drop('ok_since', inplace=True, axis=1)"
      ],
      "execution_count": 29,
      "outputs": []
    },
    {
      "cell_type": "markdown",
      "metadata": {
        "id": "Def6HV5fL7fJ",
        "colab_type": "text"
      },
      "source": [
        "Vamos agora trabalhar com as colunas com valores ausentes que sobraram.\n",
        "\n",
        "Para as colunas `reason`, `lat_lon` e `user_agent` vamos apagar apenas as entradas com os valores ausentes, pois a porcentagem de dados ausentes nestas duas colunas é muito baixa.\n",
        "\n",
        "Para a variável `job_name` iremos excluir toda a coluna, pois além de não querermos perder mais entradas esta coluna ainda está codificada e com muitos *labels*."
      ]
    },
    {
      "cell_type": "code",
      "metadata": {
        "id": "8cjTF8RySEXo",
        "colab_type": "code",
        "colab": {}
      },
      "source": [
        "# excluindo as entradas ausentes\n",
        "df_clean.dropna(subset=['reason', 'lat_lon', 'user_agent'], inplace=True)\n",
        "\n",
        "# excluindo a coluna job_name\n",
        "df_clean.drop('job_name', axis=1, inplace=True)"
      ],
      "execution_count": 30,
      "outputs": []
    },
    {
      "cell_type": "code",
      "metadata": {
        "id": "mOfrhwZyY2RW",
        "colab_type": "code",
        "colab": {}
      },
      "source": [
        "# excluindo a coluna lat_lon\n",
        "df_clean.drop('lat_lon', axis=1, inplace=True)"
      ],
      "execution_count": 31,
      "outputs": []
    },
    {
      "cell_type": "markdown",
      "metadata": {
        "id": "CQV9mdlmqLSe",
        "colab_type": "text"
      },
      "source": [
        "A última transformação que iremos fazer é utilizar o `LabelEncoder` para transformar nossa variável alvo (`target_default`) em uma variável categórica numérica binária, ou seja, ao invés das classes dessa coluna serem `True` e `False` elas serão representadas agora como 0 (False) e 1 (True)."
      ]
    },
    {
      "cell_type": "code",
      "metadata": {
        "id": "eKBR2WfBrsmm",
        "colab_type": "code",
        "colab": {}
      },
      "source": [
        "# importando o pacote necessário\n",
        "from sklearn.preprocessing import LabelEncoder\n",
        "\n",
        "# instanciando e transformando os dados\n",
        "le = LabelEncoder()\n",
        "df_clean['target_default'] = le.fit_transform(df_clean['target_default'])"
      ],
      "execution_count": 32,
      "outputs": []
    },
    {
      "cell_type": "markdown",
      "metadata": {
        "id": "YwMKvqh0MMsO",
        "colab_type": "text"
      },
      "source": [
        "### Tratando as colunas codificadas\n",
        "\n",
        "No nosso *dataset* há varias colunas que estão codificadas, vamos estudá-las para sabermos o que fazer com elas. Por exemplo, se uma coluna com valores codificados apresentar poucas classes, isso quer dizer que esse coluna pode ser categórica e isso pode influenciar muito no nosso modelo de machine learning, então podemos aproveitá-las e aplicar métodos de ***enconding***  nessas colunas. Mas se uma coluna apresenta muitas classes (valores únicos), então não iremos fazer nenhuma transformação nela.\n",
        "\n",
        "As colunas que contém valores codificados são: `score_1`, `score_2`, `reason`, `state`, `zip`, `job_name` e `real_state`.\n",
        "\n",
        "A seguir vamos ver quantas classes cada uma dessas colunas têm."
      ]
    },
    {
      "cell_type": "code",
      "metadata": {
        "id": "O6IQ-VqTMUwt",
        "colab_type": "code",
        "colab": {
          "base_uri": "https://localhost:8080/",
          "height": 136
        },
        "outputId": "a9f589a0-f87d-4946-ccd9-e33b456107ca"
      },
      "source": [
        "colunas_cod = [df['score_1'], df['score_2'], df['reason'], df['state'], df['zip'],\n",
        "               df['job_name'], df['real_state']]\n",
        "\n",
        "for col in colunas_cod:\n",
        "  print(f'Valores únicos da coluna {col.name}:  {col.nunique()}')"
      ],
      "execution_count": 33,
      "outputs": [
        {
          "output_type": "stream",
          "text": [
            "Valores únicos da coluna score_1:  7\n",
            "Valores únicos da coluna score_2:  35\n",
            "Valores únicos da coluna reason:  14874\n",
            "Valores únicos da coluna state:  50\n",
            "Valores únicos da coluna zip:  823\n",
            "Valores únicos da coluna job_name:  32265\n",
            "Valores únicos da coluna real_state:  5\n"
          ],
          "name": "stdout"
        }
      ]
    },
    {
      "cell_type": "markdown",
      "metadata": {
        "id": "KlTHJvGzMp4u",
        "colab_type": "text"
      },
      "source": [
        "Para as colunas score_1, score_2, state e real_state vamos usar o LabelEncoder() para fazer transformar essas colunas em categóricas, as demais iremos excluir."
      ]
    },
    {
      "cell_type": "code",
      "metadata": {
        "id": "bN9KMW8_MwSV",
        "colab_type": "code",
        "colab": {}
      },
      "source": [
        "# importar os pacotes necessários\n",
        "from sklearn.preprocessing import LabelEncoder\n",
        "\n",
        "# lista com as colunas que serão encodadas\n",
        "colunas_cat = ['score_1', 'score_2', 'state', 'real_state']\n",
        "\n",
        "for col in colunas_cat:\n",
        "  df_clean[col+'_encoded'] = LabelEncoder().fit_transform(df_clean[col])\n",
        "  df_clean.drop(col, axis=1, inplace=True)"
      ],
      "execution_count": 34,
      "outputs": []
    },
    {
      "cell_type": "markdown",
      "metadata": {
        "id": "7MSFYYNFM4Pl",
        "colab_type": "text"
      },
      "source": [
        "Com isso nosso conjunto de dados ganha colunas a mais, mas pode performar melhor por conter mais variáveis categóricas binárias."
      ]
    },
    {
      "cell_type": "markdown",
      "metadata": {
        "id": "Uz7CEbJrR9Qu",
        "colab_type": "text"
      },
      "source": [
        "Agora iremos excluir do nosso *dataset* algumas colunas categóricas que ficaram e não foram tratadas."
      ]
    },
    {
      "cell_type": "code",
      "metadata": {
        "id": "_lvAQfKvS5N6",
        "colab_type": "code",
        "colab": {}
      },
      "source": [
        "# excluindo variáveis categóricas\n",
        "df_clean.drop(['reason','zip','email','profile_tags','user_agent',\n",
        "               'application_time_applied','shipping_state',\n",
        "               'marketing_channel', 'profile_phone_number',\n",
        "               'shipping_zip_code'],axis=1,inplace=True)"
      ],
      "execution_count": 35,
      "outputs": []
    },
    {
      "cell_type": "markdown",
      "metadata": {
        "id": "ea5EFrbHYgiO",
        "colab_type": "text"
      },
      "source": [
        "Por último vamos padronizar nossos dados com o objetivo de melhorar o desempenho do modelo, para isso vamos usar o `StandardScaler`."
      ]
    },
    {
      "cell_type": "code",
      "metadata": {
        "id": "TxRwUvHKY1EV",
        "colab_type": "code",
        "colab": {}
      },
      "source": [
        "from sklearn.preprocessing import StandardScaler\n",
        "\n",
        "colunas = df_clean.drop('target_default',axis=1).select_dtypes(exclude='object').columns\n",
        "\n",
        "df_clean[colunas] = StandardScaler().fit_transform(df_clean[colunas].values)"
      ],
      "execution_count": 36,
      "outputs": []
    },
    {
      "cell_type": "markdown",
      "metadata": {
        "id": "j0pWVVA-hH3u",
        "colab_type": "text"
      },
      "source": [
        "---\n",
        "\n",
        "## Modelo de *Machine Learning*\n",
        "\n",
        "Agora finalmente entramos na etapa de construção, treinamento e avaliação do modelo de *Machine Learning*. Vamos dividir esta etapa também e seguir a seguinte sequência:\n",
        "* Separar nosso vetor alvo do nosso *dataset* e também separar nossos dados de treino e teste, lembrando que os dados de teste só irão ser utilizados na avaliação final do nosso modelo.\n",
        "* Balancear nossas classe da nossa variável alvo.\n",
        "* Aplicar validação cruzada em vários modelos de algoritmos de classificação de Machine Learning e escolher aquele que melhor desempenha de acordo com nossas métricas.]\n",
        "* Após a escolha do modelo vamos otimizar seus hiperparâmetros para tentar melhorar ainda mais o desempenho do nosso modelo.\n",
        "* Após otimizar os hiperparâmetros vamos finalmente avaliar o desempenho do nosso modelo com os dados de teste.\n",
        "\n",
        "\n",
        "![alt text](https://github.com/johnsigma/meuPortfolio/blob/master/imagens/MachineLearning2.jpg?raw=true)\n",
        "\n",
        "<a href='https://www.freepik.com/vectors/background'>Background vector created by starline - www.freepik.com</a>\n"
      ]
    },
    {
      "cell_type": "markdown",
      "metadata": {
        "id": "d3zQbvi1kSkx",
        "colab_type": "text"
      },
      "source": [
        "### Balanceando as classes e separando nosso *dataset*\n",
        "\n",
        "Primeiro vamos balancear as classes da nossa variável alvo (`target_default`), iremos imprimir dois gráficos de barra comparando as amostras antes e depois do balanceamento.\n",
        "\n",
        "Depois vamos separar nosso vetor alvo da nossa matriz, depois vamos dividir os dados entre dados de treino e teste.\n",
        "\n",
        "Os dados de treino serão usados para treinar o modelo e avaliá-lo (utilizando *Cross Validation*). Já os dados de testes só vamos utilizá-lo no final, quando o nosso modelo já estiver pronto e aí usaremos estes dados para avaliar o desempenho do modelo. É muito importante garantir que seu modelo só tenha contato com os dados de teste no final da avaliação para não enviesar nosso modelo."
      ]
    },
    {
      "cell_type": "markdown",
      "metadata": {
        "id": "CEa7MOBIB7sa",
        "colab_type": "text"
      },
      "source": [
        "### Balanceando as classes\n",
        "\n",
        "Para balancear os dados iremos usar a função `resample` do *Scikit-Learn*, [seguindo este tutorial](https://elitedatascience.com/imbalanced-classes).\n"
      ]
    },
    {
      "cell_type": "code",
      "metadata": {
        "id": "Nn3RudMav1wD",
        "colab_type": "code",
        "colab": {
          "base_uri": "https://localhost:8080/",
          "height": 68
        },
        "outputId": "0998c764-1ab4-4e3f-d8f8-d60c7e25dee1"
      },
      "source": [
        "# importando o pacote necessário\n",
        "from sklearn.utils import resample\n",
        "\n",
        "df_maioria = df_clean[df_clean['target_default'] == 0]\n",
        "df_minoria = df_clean[df_clean['target_default'] == 1]\n",
        "\n",
        "df_minoria_sample = resample(df_minoria, replace=True, n_samples=37661, random_state=42)\n",
        "\n",
        "df_sample = pd.concat([df_maioria, df_minoria_sample])\n",
        "\n",
        "df_sample['target_default'].value_counts()"
      ],
      "execution_count": 37,
      "outputs": [
        {
          "output_type": "execute_result",
          "data": {
            "text/plain": [
              "1    37661\n",
              "0    37661\n",
              "Name: target_default, dtype: int64"
            ]
          },
          "metadata": {
            "tags": []
          },
          "execution_count": 37
        }
      ]
    },
    {
      "cell_type": "code",
      "metadata": {
        "id": "mQlhWO3rBRPY",
        "colab_type": "code",
        "colab": {
          "base_uri": "https://localhost:8080/",
          "height": 297
        },
        "outputId": "2fa1e14c-9ca4-44d8-8b4f-976f60f2caac"
      },
      "source": [
        "# plotar um gráfico de barras para visualizar a distribuição das classes depois\n",
        "# de balancear o dataset\n",
        "fig, ax = plt.subplots(ncols=2, figsize=(10,4))\n",
        "sns.countplot(df_clean['target_default'], ax=ax[0])\n",
        "ax[0].set_title('Antes do balanceamento')\n",
        "sns.countplot(df_sample['target_default'], ax=ax[1]);\n",
        "ax[1].set_title('Depois do balanceamento')\n",
        "\n",
        "plt.tight_layout()"
      ],
      "execution_count": 51,
      "outputs": [
        {
          "output_type": "display_data",
          "data": {
            "image/png": "[encoded data removed]",
            "text/plain": [
              "<Figure size 720x288 with 2 Axes>"
            ]
          },
          "metadata": {
            "tags": [],
            "needs_background": "light"
          }
        }
      ]
    },
    {
      "cell_type": "markdown",
      "metadata": {
        "id": "Ocgf8_lNCYBw",
        "colab_type": "text"
      },
      "source": [
        "### Separando o *dataset*\n",
        "\n",
        "Com o conjunto de dados balanceados podemos utilizar a função `train_test_split`, também do *Scikit-Learn*, para separar nossos dados entre o cojunto de treino e o conjunto de testes, lembrando que só iremos utilizar o último na avaliação final do nosso modelo."
      ]
    },
    {
      "cell_type": "code",
      "metadata": {
        "id": "KInN5S-6myT_",
        "colab_type": "code",
        "colab": {}
      },
      "source": [
        "# importando os pacotes necessários\n",
        "from sklearn.model_selection import train_test_split\n",
        "\n",
        "# separar nossa matriz do vetor alvo\n",
        "X = df_sample.drop('target_default', axis=1).select_dtypes(exclude='object')\n",
        "y = df_sample['target_default']\n",
        "\n",
        "# dividir os dados entre treino e teste\n",
        "X_train, X_test, y_train, y_test = train_test_split(X,y)"
      ],
      "execution_count": 38,
      "outputs": []
    },
    {
      "cell_type": "markdown",
      "metadata": {
        "id": "TBEbtzcstKHm",
        "colab_type": "text"
      },
      "source": [
        "### *Cross Validation* com vários modelos de *Machine Learning*\n",
        "\n",
        "Agora vamos aplicar a validação cruzada em vários modelos de machine learning e vamos escolher aquele que obtiver melhor resultado. Nesta etapa vamos usar os modelos \"crus\", ou seja, sem mudar os hiperparâmetros.\n",
        "\n",
        "Os modelos que iremos avaliar são:\n",
        "* Linear SVC\n",
        "* XGBoost\n",
        "* KNeighborsClassifier\n",
        "* Regressão Logística\n",
        "* Random Forest Classifier\n",
        "* Método e Ensemble\n",
        "\n",
        "Para esse problema de classificação vamos utilizar como métricas para avaliar o desempenho do modelo a precisão (`precision`), o *recall* e o *f1-score*.\n",
        "\n",
        "Nosso modelo busca minimizar tanto a quantidade de *falses positives* quanto maximizar a quantidade de *true positives*.\n",
        "\n",
        "A métrica recall prioriza que não haja *falses negatives* enquanto nos dá a proporção de positivos encontrados corretamente. Na precisão estamos assumindo que *falses positives* são ok e que não queremos ter *falses negatives* e também nos diz qual a proporção de identificações positivas que estavam corretas. O *f1-score* combina o *recall* e a precisão de modo que ele traz apenas um número levando em consideração as duas outras métricas."
      ]
    },
    {
      "cell_type": "code",
      "metadata": {
        "id": "e0yTQKhSAmDK",
        "colab_type": "code",
        "colab": {}
      },
      "source": [
        "# aqui vamos definir uma função onde fazemos a padronização dos dados e\n",
        "# a validação cruzada de cada modelo passado\n",
        "from sklearn.pipeline import make_pipeline\n",
        "from sklearn.preprocessing import StandardScaler\n",
        "from sklearn.model_selection import cross_validate\n",
        "\n",
        "def validar_modelo(clf, X, y):\n",
        "\n",
        "  X = np.array(X)\n",
        "  y = np.array(y)\n",
        "\n",
        "  model = make_pipeline(StandardScaler(), clf)\n",
        "  scores = cross_validate(model, X, y, scoring=('precision', 'recall', 'f1', 'accuracy'))\n",
        "\n",
        "  return scores"
      ],
      "execution_count": 92,
      "outputs": []
    },
    {
      "cell_type": "code",
      "metadata": {
        "id": "nbQcUDXIA4qn",
        "colab_type": "code",
        "colab": {}
      },
      "source": [
        "# importando os pacotes necessários\n",
        "from sklearn.svm import LinearSVC\n",
        "from xgboost import XGBClassifier\n",
        "from sklearn.neighbors import KNeighborsClassifier\n",
        "from sklearn.linear_model import LogisticRegression\n",
        "from sklearn.ensemble import RandomForestClassifier\n",
        "from sklearn.ensemble import VotingClassifier\n",
        "\n",
        "# instanciando os modelos\n",
        "lsvc = LinearSVC()\n",
        "xgb = XGBClassifier()\n",
        "kn = KNeighborsClassifier()\n",
        "lr = LogisticRegression()\n",
        "rf = RandomForestClassifier()\n",
        "vc = VotingClassifier(estimators=[('lsvc',lsvc),('xgb',xgb),('kn',kn),('lr',lr),\n",
        "                                  ('rf', rf)])\n",
        "\n",
        "# avaliar os modelos\n",
        "model = []\n",
        "precision = []\n",
        "recall = []\n",
        "f1 = []\n",
        "accuracy = []\n",
        "\n",
        "for clf in (lsvc, xgb, kn, lr, vc, rf):\n",
        "  model.append(clf.__class__.__name__)\n",
        "  scores = validar_modelo(clf, X_train, y_train)\n",
        "  recall.append(scores['test_recall'].mean())\n",
        "  precision.append(scores['test_precision'].mean())\n",
        "  f1.append(scores['test_f1'].mean())\n",
        "  accuracy.append(scores['test_accuracy'].mean())"
      ],
      "execution_count": 95,
      "outputs": []
    },
    {
      "cell_type": "code",
      "metadata": {
        "id": "4J7GIh4Yktgn",
        "colab_type": "code",
        "colab": {
          "base_uri": "https://localhost:8080/",
          "height": 235
        },
        "outputId": "4e6013f6-8f14-42d7-f6d2-cbf9af0720df"
      },
      "source": [
        "data = {'recall': recall, 'precision': precision, 'f1-score': f1, 'accuracy': accuracy}\n",
        "\n",
        "pd.DataFrame(data=data, index=model)"
      ],
      "execution_count": 96,
      "outputs": [
        {
          "output_type": "execute_result",
          "data": {
            "text/html": [
              "<div>\n",
              "<style scoped>\n",
              "    .dataframe tbody tr th:only-of-type {\n",
              "        vertical-align: middle;\n",
              "    }\n",
              "\n",
              "    .dataframe tbody tr th {\n",
              "        vertical-align: top;\n",
              "    }\n",
              "\n",
              "    .dataframe thead th {\n",
              "        text-align: right;\n",
              "    }\n",
              "</style>\n",
              "<table border=\"1\" class=\"dataframe\">\n",
              "  <thead>\n",
              "    <tr style=\"text-align: right;\">\n",
              "      <th></th>\n",
              "      <th>recall</th>\n",
              "      <th>precision</th>\n",
              "      <th>f1-score</th>\n",
              "      <th>accuracy</th>\n",
              "    </tr>\n",
              "  </thead>\n",
              "  <tbody>\n",
              "    <tr>\n",
              "      <th>LinearSVC</th>\n",
              "      <td>0.591055</td>\n",
              "      <td>0.616079</td>\n",
              "      <td>0.603293</td>\n",
              "      <td>0.610841</td>\n",
              "    </tr>\n",
              "    <tr>\n",
              "      <th>XGBClassifier</th>\n",
              "      <td>0.662365</td>\n",
              "      <td>0.662085</td>\n",
              "      <td>0.662217</td>\n",
              "      <td>0.661663</td>\n",
              "    </tr>\n",
              "    <tr>\n",
              "      <th>KNeighborsClassifier</th>\n",
              "      <td>0.851087</td>\n",
              "      <td>0.690737</td>\n",
              "      <td>0.762567</td>\n",
              "      <td>0.734648</td>\n",
              "    </tr>\n",
              "    <tr>\n",
              "      <th>LogisticRegression</th>\n",
              "      <td>0.594449</td>\n",
              "      <td>0.615494</td>\n",
              "      <td>0.604772</td>\n",
              "      <td>0.611018</td>\n",
              "    </tr>\n",
              "    <tr>\n",
              "      <th>VotingClassifier</th>\n",
              "      <td>0.707089</td>\n",
              "      <td>0.700100</td>\n",
              "      <td>0.703571</td>\n",
              "      <td>0.701687</td>\n",
              "    </tr>\n",
              "    <tr>\n",
              "      <th>RandomForestClassifier</th>\n",
              "      <td>0.970691</td>\n",
              "      <td>0.958431</td>\n",
              "      <td>0.964521</td>\n",
              "      <td>0.964242</td>\n",
              "    </tr>\n",
              "  </tbody>\n",
              "</table>\n",
              "</div>"
            ],
            "text/plain": [
              "                          recall  precision  f1-score  accuracy\n",
              "LinearSVC               0.591055   0.616079  0.603293  0.610841\n",
              "XGBClassifier           0.662365   0.662085  0.662217  0.661663\n",
              "KNeighborsClassifier    0.851087   0.690737  0.762567  0.734648\n",
              "LogisticRegression      0.594449   0.615494  0.604772  0.611018\n",
              "VotingClassifier        0.707089   0.700100  0.703571  0.701687\n",
              "RandomForestClassifier  0.970691   0.958431  0.964521  0.964242"
            ]
          },
          "metadata": {
            "tags": []
          },
          "execution_count": 96
        }
      ]
    },
    {
      "cell_type": "markdown",
      "metadata": {
        "id": "puKH9NYy3u-5",
        "colab_type": "text"
      },
      "source": [
        "Podemos ver claramente que o modelo que mais se saiu bem foi o *Random Forest Classifier*, e mais do que isso, ele se saiu muito bem. Então não é surpresa que escolheremos ele ser nosso modelo final e avaliá-lo com os dados de teste. E como seu desempenho foi excelente não iremos perder tempo otimizando seus hiperparâmetros."
      ]
    },
    {
      "cell_type": "markdown",
      "metadata": {
        "id": "u444q1Tu7uE6",
        "colab_type": "text"
      },
      "source": [
        "#### Avaliação final do modelo\n",
        "\n",
        "Esta é a útima etapa do nosso projeto, é agora que iremos treinar de fato nosso modelo de Random Forest e avaliá-lo usando, finalmente, os dados de teste.\n",
        "\n",
        "Para avaliar o modelo iremos utilizar o Relatório de Classificação, que nos dá várias métricas como precisão, recall, acurácia do nosso modelo comparando as predições e os dados reais, e também plotaremos uma Matriz de onfusão que nos retorna a relação entre os dados que nosso modelo preveu e os dados reais (de teste)."
      ]
    },
    {
      "cell_type": "code",
      "metadata": {
        "id": "Pvq3BYYJ8BNY",
        "colab_type": "code",
        "colab": {}
      },
      "source": [
        "# importando os pacotes necessários\n",
        "from sklearn.metrics import confusion_matrix\n",
        "from sklearn.metrics import classification_report\n",
        "from sklearn.ensemble import RandomForestClassifier"
      ],
      "execution_count": 39,
      "outputs": []
    },
    {
      "cell_type": "code",
      "metadata": {
        "id": "zc08tlqS8DSP",
        "colab_type": "code",
        "colab": {}
      },
      "source": [
        "# instanciando e treinando o modelo com os dados de treino\n",
        "rf = RandomForestClassifier()\n",
        "rf.fit(X_train, y_train)\n",
        "\n",
        "# fazendo a predição com os dados de teste\n",
        "y_pred = rf.predict(X_test)"
      ],
      "execution_count": 41,
      "outputs": []
    },
    {
      "cell_type": "code",
      "metadata": {
        "id": "Kc7CShRF9HiB",
        "colab_type": "code",
        "colab": {
          "base_uri": "https://localhost:8080/",
          "height": 221
        },
        "outputId": "5b8455bf-4a7c-4855-83b9-2dda0e1c7f32"
      },
      "source": [
        "print(f'\\nRelatório de Classificação:\\n\\n'\n",
        "      f'{classification_report(y_test, y_pred)}')"
      ],
      "execution_count": 42,
      "outputs": [
        {
          "output_type": "stream",
          "text": [
            "\n",
            "Relatório de Classificação:\n",
            "\n",
            "              precision    recall  f1-score   support\n",
            "\n",
            "           0       0.99      0.98      0.98      9455\n",
            "           1       0.98      0.99      0.98      9376\n",
            "\n",
            "    accuracy                           0.98     18831\n",
            "   macro avg       0.98      0.98      0.98     18831\n",
            "weighted avg       0.98      0.98      0.98     18831\n",
            "\n"
          ],
          "name": "stdout"
        }
      ]
    },
    {
      "cell_type": "code",
      "metadata": {
        "id": "AxDNxUPE9NEw",
        "colab_type": "code",
        "colab": {
          "base_uri": "https://localhost:8080/",
          "height": 431
        },
        "outputId": "8260726a-7503-4d38-b2b5-2c7ca34c3f90"
      },
      "source": [
        "fig, ax = plt.subplots(figsize=(8,6))\n",
        "fig.suptitle('Matriz de Confusão')\n",
        "\n",
        "sns.heatmap(confusion_matrix(y_test, y_pred, normalize='true'), ax=ax, annot=True)\n",
        "ax.set_ylabel('Verdadeiro')\n",
        "ax.set_xlabel('Previsto')\n",
        "\n",
        "plt.show()"
      ],
      "execution_count": 56,
      "outputs": [
        {
          "output_type": "display_data",
          "data": {
            "image/png": "[encoded data removed]",
            "text/plain": [
              "<Figure size 576x432 with 2 Axes>"
            ]
          },
          "metadata": {
            "tags": [],
            "needs_background": "light"
          }
        }
      ]
    },
    {
      "cell_type": "markdown",
      "metadata": {
        "id": "c9C9udpuD4KJ",
        "colab_type": "text"
      },
      "source": [
        "---\n",
        "\n",
        "## Conclusão\n",
        "\n",
        "Visualizando a Matriz de Confusão e o Relatório de Classificação vemos que nosso modelo se saiu ainda melhor com os dados de teste comparado ao desempenho da avaliação cruzada utilizando os dados de treino.\n",
        "\n",
        "Vemos que conseguimos minimizar nossos falsos positivos, onde nosso modelo errou apenas 2,1% das classificações, ou seja, em 2,1% dos casos em que nosso modelo classificou o cliente como possívvel inadimplente ele errou. Enquanto maximizamos a quantidade de verdadeiros positivos, onde nosso modelo é capaz de acertar 99% das classificações, ou seja, em 99% dos casos em que nosso modelo classificou o cliente como possível inadimplente ele acertou.\n",
        "\n",
        "Chega ao final este projeto, agradeço a todos que leram até aqui e abaixo deixo os links para o meu perfil no LinkedIn e do meu portfólio no GitHub para quem quiser me acompanhar em outros projetos de Data Science ou desenvolvimento em geral.\n",
        "\n",
        "[Meu portfolio do Github](https://github.com/johnsigma/meuPortfolio)\n",
        "\n",
        "[Meu perfil do LinkedIn](www.linkedin.com/in/johncunha42)"
      ]
    }
  ]
}