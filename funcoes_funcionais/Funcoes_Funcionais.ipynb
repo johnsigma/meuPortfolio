{
  "nbformat": 4,
  "nbformat_minor": 0,
  "metadata": {
    "colab": {
      "name": "Funções Funcionais.ipynb",
      "provenance": [],
      "collapsed_sections": [],
      "authorship_tag": "ABX9TyOWwMRcMSubLIB30YosPDts",
      "include_colab_link": true
    },
    "kernelspec": {
      "name": "python3",
      "display_name": "Python 3"
    }
  },
  "cells": [
    {
      "cell_type": "markdown",
      "metadata": {
        "id": "view-in-github",
        "colab_type": "text"
      },
      "source": [
        "<a href=\"https://colab.research.google.com/github/johnsigma/meuPortfolio/blob/master/funcoes_funcionais/Funcoes_Funcionais.ipynb\" target=\"_parent\"><img src=\"https://colab.research.google.com/assets/colab-badge.svg\" alt=\"Open In Colab\"/></a>"
      ]
    },
    {
      "cell_type": "markdown",
      "metadata": {
        "id": "HbB0r2U63_F6",
        "colab_type": "text"
      },
      "source": [
        "# Funções funcionais\n"
      ]
    },
    {
      "cell_type": "markdown",
      "metadata": {
        "id": "bhZULQm-Eurw",
        "colab_type": "text"
      },
      "source": [
        "## função `map()`"
      ]
    },
    {
      "cell_type": "code",
      "metadata": {
        "id": "_eWCmydt4Nsj",
        "colab_type": "code",
        "colab": {
          "base_uri": "https://localhost:8080/",
          "height": 34
        },
        "outputId": "6b95955e-16dd-46b1-e911-05bc72828a9d"
      },
      "source": [
        "# primeiro vamos criar nossa sequência (que pode ser uma lista ou tupla)\n",
        "sequencia = [1, 2, 3]\n",
        "\n",
        "# agora vamos criar uma função que retorna o dobro do valor de entrada\n",
        "def funcao_dobro(valor):\n",
        "  return 2 * valor\n",
        "  \n",
        "# basta agora aplicar a função map na função dobro junto com a sequencia e podemos ver o resultado\n",
        "resultado = map(funcao_dobro, sequencia)\n",
        "resultado = list(resultado)\n",
        "print(f'Nossa lista de saída é: {resultado}')"
      ],
      "execution_count": null,
      "outputs": [
        {
          "output_type": "stream",
          "text": [
            "Nossa lista de saída é: [2, 4, 6]\n"
          ],
          "name": "stdout"
        }
      ]
    },
    {
      "cell_type": "markdown",
      "metadata": {
        "id": "UV7x5EpjEowV",
        "colab_type": "text"
      },
      "source": [
        "## função `filter()`"
      ]
    },
    {
      "cell_type": "code",
      "metadata": {
        "id": "b4s4Iiq-EsPp",
        "colab_type": "code",
        "colab": {
          "base_uri": "https://localhost:8080/",
          "height": 34
        },
        "outputId": "b8872952-b34d-4069-e34a-7dbcbc501d8e"
      },
      "source": [
        "# primeiro vamos criar nossa sequência, dessa vez uma tupla apenas para mostrar que essas função podem ser aplicadas a listas e tuplas\n",
        "sequencia = ('Pato', 'Cadeira', 'Ciência', 'Bola', 'Cobra')\n",
        "\n",
        "# agora vamos criar uma função que retorna um valor Booleno, nossa função vai retornar True (verdadeiro) se a palavra ter 5 ou mais letras\n",
        "def funcao_letras(palavra):\n",
        "  if len(palavra) >= 5:\n",
        "    return True\n",
        "    \n",
        "# vamos aplicar a função filter na nossa função e sequência e exibir o resultado\n",
        "resultado = filter(funcao_letras, sequencia)\n",
        "resultado = tuple(resultado)\n",
        "print(f'Nossa tupla de saída é: {resultado}')"
      ],
      "execution_count": null,
      "outputs": [
        {
          "output_type": "stream",
          "text": [
            "Nossa tupla de saída é: ('Cadeira', 'Ciência', 'Cobra')\n"
          ],
          "name": "stdout"
        }
      ]
    },
    {
      "cell_type": "markdown",
      "metadata": {
        "id": "LK9nb5fJpPTm",
        "colab_type": "text"
      },
      "source": [
        "## função `reduce()`"
      ]
    },
    {
      "cell_type": "code",
      "metadata": {
        "id": "9diFFtFrpVQ0",
        "colab_type": "code",
        "colab": {
          "base_uri": "https://localhost:8080/",
          "height": 51
        },
        "outputId": "5b42e068-a860-4f09-c136-2f35632fc4d8"
      },
      "source": [
        "# primeiro, como dito anteriormente, devemos importar a função reduce do módulo funtools para utilizá-la\n",
        "from functools import reduce\n",
        "\n",
        "# criando nossa sequência\n",
        "lista = [1, 8, 7, 14]\n",
        "\n",
        "# agora vamos criar nossa função de entrada, ela recebe dois valores e retorna o maior entre eles\n",
        "def maior(valor_a, valor_b):\n",
        "  if valor_a >= valor_b:\n",
        "    return valor_a\n",
        "    \n",
        "  return valor_b\n",
        "  \n",
        "# vamos aplicar a reduce na nossa função e sequência\n",
        "resultado = reduce(maior, lista)\n",
        "print(f'O maior valor da nossa sequência é: {resultado}')\n",
        "\n",
        "# aplicando a reduce na nossa função, sequência mas passando um inicializador\n",
        "resultado = reduce(maior, lista, 25)\n",
        "print(f'O maior valor da nossa sequência é: {resultado}')"
      ],
      "execution_count": null,
      "outputs": [
        {
          "output_type": "stream",
          "text": [
            "O maior valor da nossa sequência é: 14\n",
            "O maior valor da nossa sequência é: 25\n"
          ],
          "name": "stdout"
        }
      ]
    },
    {
      "cell_type": "markdown",
      "metadata": {
        "id": "X-hVxSWd7s-J",
        "colab_type": "text"
      },
      "source": [
        "## função `zip()`"
      ]
    },
    {
      "cell_type": "code",
      "metadata": {
        "id": "JxI4lofP7yPy",
        "colab_type": "code",
        "colab": {
          "base_uri": "https://localhost:8080/",
          "height": 51
        },
        "outputId": "4b2d7ee7-c85f-4c86-db74-3466b4e72e89"
      },
      "source": [
        "# primeiro vamos criar nossas sequências, uma tupla e uma lista\n",
        "seq_1 = [1, 2, 3]\n",
        "seq_2 = (3, 2, 1)\n",
        "\n",
        "# agora vamos chamar a zip passando nossas sequÊncias e guardar o retorno em uma variável\n",
        "resultado = zip(seq_1, seq_2)\n",
        "\n",
        "# como nossa variável é um objeto iterável, então vamos fazer um cast para lista\n",
        "resultado = list(resultado)\n",
        "\n",
        "print(f'Elementos agrupados: {resultado}')\n",
        "\n",
        "# vamos agora agrupar elementos de sequências de tamanhos diferentes\n",
        "# vamos utilizar a seq_1 e criarmos outra sequência de tamanho diferente\n",
        "seq_3 = [7, 6, 5, 4]\n",
        "\n",
        "# podemos fazer o cast diretamente no zip sem guardar em uma variável primeiro\n",
        "resultado = tuple(zip(seq_1, seq_3))\n",
        "print(f'Elementos agrupados: {resultado}')"
      ],
      "execution_count": 5,
      "outputs": [
        {
          "output_type": "stream",
          "text": [
            "Elementos agrupados: [(1, 3), (2, 2), (3, 1)]\n",
            "Elementos agrupados: ((1, 7), (2, 6), (3, 5))\n"
          ],
          "name": "stdout"
        }
      ]
    },
    {
      "cell_type": "code",
      "metadata": {
        "id": "8JR3ypkBEjmZ",
        "colab_type": "code",
        "colab": {
          "base_uri": "https://localhost:8080/",
          "height": 34
        },
        "outputId": "dcd14b5d-74e3-4634-d66b-8b7101249729"
      },
      "source": [
        "# vamos utilizar a tupla de tuplas de elementos armazenada na variável \"resultado\"\n",
        "# vamos ver que elementos a varável possui\n",
        "print(f'Tupla de tuplas: {resultado}')"
      ],
      "execution_count": 17,
      "outputs": [
        {
          "output_type": "stream",
          "text": [
            "Tupla de tuplas: ((1, 7), (2, 6), (3, 5))\n"
          ],
          "name": "stdout"
        }
      ]
    },
    {
      "cell_type": "code",
      "metadata": {
        "id": "GD9HacpyHR1b",
        "colab_type": "code",
        "colab": {
          "base_uri": "https://localhost:8080/",
          "height": 34
        },
        "outputId": "afaefbce-0181-429f-ca3e-2a2eb819cb1d"
      },
      "source": [
        "# para acessar uma tupla separadamente utilizamos a notação de acessar tuplas com índices\n",
        "# a mesma coisa se ao invés de uma tupla tivéssemos uma lista com as tuplas\n",
        "# vamos pegar e exibir a segunda tupla de elementos da nossa tupla, no caso a tupla (2, 6)\n",
        "tupla = resultado[1]\n",
        "print(f'Tupla separada: {tupla}')"
      ],
      "execution_count": 8,
      "outputs": [
        {
          "output_type": "stream",
          "text": [
            "Tupla separada: (2, 6)\n"
          ],
          "name": "stdout"
        }
      ]
    },
    {
      "cell_type": "code",
      "metadata": {
        "id": "bpQK8GfpHZaN",
        "colab_type": "code",
        "colab": {
          "base_uri": "https://localhost:8080/",
          "height": 34
        },
        "outputId": "410b892c-006f-4436-f468-b812a503beb3"
      },
      "source": [
        "# para acessar algum elemento individuamente utilizarmos a notação de acessar tuplas com índices\n",
        "# mas agora passamos dois índices, o primeiro irá pegar nossa tupla na tupla de tuplas\n",
        "# o segundo índice é onde vamos dizer qual elemento queremos pegar da tupla do primeiro índice\n",
        "# no nosso exemplo vamos pegar o segundo elemento da terceira tupla, no caso o o valor 5\n",
        "valor = resultado[2][1]\n",
        "print(f'Valor escolhido: {valor}')"
      ],
      "execution_count": 10,
      "outputs": [
        {
          "output_type": "stream",
          "text": [
            "Valor escolhido: 5\n"
          ],
          "name": "stdout"
        }
      ]
    },
    {
      "cell_type": "code",
      "metadata": {
        "id": "vqR58-tzHgqF",
        "colab_type": "code",
        "colab": {
          "base_uri": "https://localhost:8080/",
          "height": 68
        },
        "outputId": "7dc75e8b-98ef-4b18-8f23-3d00b3d87483"
      },
      "source": [
        "# para desempacotar os valores da tupla de tuplas vamos utilizar um \"for\",\n",
        "# onde imprimiremos, individualmente, os valores de cada tupla\n",
        "for valor_1, valor_2 in resultado:\n",
        "  print(f'{valor_1} {valor_2}')"
      ],
      "execution_count": 16,
      "outputs": [
        {
          "output_type": "stream",
          "text": [
            "1 7\n",
            "2 6\n",
            "3 5\n"
          ],
          "name": "stdout"
        }
      ]
    }
  ]
}