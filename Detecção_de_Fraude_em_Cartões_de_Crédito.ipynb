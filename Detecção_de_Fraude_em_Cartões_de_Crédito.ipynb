{
  "nbformat": 4,
  "nbformat_minor": 0,
  "metadata": {
    "colab": {
      "name": "Detecção de Fraude em Cartões de Crédito.ipynb",
      "provenance": [],
      "collapsed_sections": [],
      "toc_visible": true,
      "include_colab_link": true
    },
    "kernelspec": {
      "name": "python3",
      "display_name": "Python 3"
    }
  },
  "cells": [
    {
      "cell_type": "markdown",
      "metadata": {
        "id": "view-in-github",
        "colab_type": "text"
      },
      "source": [
        "<a href=\"https://colab.research.google.com/github/johnsigma/meuPortifolio/blob/master/Detec%C3%A7%C3%A3o_de_Fraude_em_Cart%C3%B5es_de_Cr%C3%A9dito.ipynb\" target=\"_parent\"><img src=\"https://colab.research.google.com/assets/colab-badge.svg\" alt=\"Open In Colab\"/></a>"
      ]
    },
    {
      "cell_type": "markdown",
      "metadata": {
        "id": "sC2BFMOKN1M7",
        "colab_type": "text"
      },
      "source": [
        "---\n",
        "<img alt=\"Colaboratory logo\" width=\"15%\" src=\"https://raw.githubusercontent.com/carlosfab/escola-data-science/master/img/novo_logo_bg_claro.png\">\n",
        "\n",
        "#### **Data Science na Prática 2.0**\n",
        "*by [sigmoidal.ai](https://sigmoidal.ai)*  \n",
        "\n",
        "---"
      ]
    },
    {
      "cell_type": "markdown",
      "metadata": {
        "id": "IR56trFcPcC1",
        "colab_type": "text"
      },
      "source": [
        "# Detecção de Fraudes em Cartões de Crédito\n",
        "\n",
        "Esse é meu quarto projeto do curso Data Science na Prática, do professor Carlos Melo, e meu primeiro projeto em que utilizo *machine learning* em dados.\n",
        "\n",
        "Neste projeto, vamos abordar fraudes em cartões de crédito que são um grande problemas para instituições financeiras como bancos e *fintechs*. De acordo com [essa matéria](https://glo.bo/2YFtEjH) o Brasil é segundo páis da America Latina com mais fraudes no cartão de crédito em compras online.\n",
        "\n",
        "[Nesta outra matéria](https://glo.bo/2VmOCSw) diz que apenas no Brasil cerca de 12 milhões de pessoas já foram vítimas de algum tipo de fraude financeira, em valores as fraudes financeira ultrapassaram cerca de R$ 1,8 bilhão de prejuízo para as vítimas.\n",
        "\n",
        "![alt text](https://github.com/johnsigma/meuPortifolio/blob/master/imagens/cartao_credito2.jpg?raw=true)\n",
        "\n",
        "<a href='https://www.freepik.com/free-photos-vectors/business'>Business vector created by pikisuperstar - www.freepik.com</a>\n",
        "\n",
        "\n",
        "\n",
        "Dentra essas fraudes, aquelas envolvendo cartões de crédito clonados são cerca de 25%, 14% são de contratação de serviços ou compra indevida de itens usando documentos falsos, perdidos ou roubados da vítima (inclusive cartões de crédito), somando essas fraudes temos que em 39% das fraudes financeiras citadas na matéria podem ter sido cometidas utilizando cartões de crédito, seja ele clonado ou tendo suas informações roubadas. Por isso é de extrema importância a detecção de fraudes em cartões de créditos pois a sua não-detecção pode acarretar em prejuízos consideráveis, tanto para o consumidor quanto para a instituição financeira.\n",
        "\n",
        "Outro ponto a mencionar é a quantidade de falsos positivos detectados nos dados das fraudes de cartões de crédito, isto é, quando alguém realiza uma compra em seu prórprio cartão mas seu cartão é bloqueado antes da compra ser concertizada pois foi reconhecida como uma fraude - o que gera estresse e constragimento para o cliente que quer realizar a compra.\n",
        "\n",
        "Por todos esses motivos, o investimento na área de detecção de fraudes por meio de Inteligência Artificial vem crescendo a cada ano, representando uma grande oportunidade em *Data Science*. \n",
        "\n",
        "Dispondo de grandes volumes de dados como base histórica, um algoritmo de machine learning apenas um pouco melhor que os anteriores já representa uma economia de milhões de Reais. E esse é o desafio, aprimorar cada vez mais o uso de algoritmos visando inibir ou evitar transações fraudulentas."
      ]
    },
    {
      "cell_type": "markdown",
      "metadata": {
        "id": "0HVmpIxQWT4Y",
        "colab_type": "text"
      },
      "source": [
        "## Importando os Dados\n",
        "\n",
        "Os dados que utilizaremos neste projeto foram pegos de uma competição do [Kaggle](https://www.kaggle.com/) e você pode acessar esta competição através [deste link](https://www.kaggle.com/mlg-ulb/creditcardfraud).\n",
        "\n",
        "Os dados foram disponibilizados por algumas empresas européias de cartão de crédito. O *dataset* foi feito com base em operações financeiras que ocorreram em um período de dois dias do ano de 2013. Neste *dataset* foram classificadas 492 fraudes em meio a quase 290 mil transações.\n",
        "\n",
        "As fraudes representam 0,17% do total de transações feitas o que torna nosso conjunto de dados extremamente desbalanceado.\n",
        "\n",
        "Outro detalhe é que as colunas - ou *features* - do nosso *dataset* são todas numéricas e por problemas ligados à privacidade e segurança (por se tratar de dados pessoas de pessoas) elas foram todas desconfiguradas. Assim, os nomes das colunas são representados por $[V1, V2, V3 \\dots, V28]$. As únicas colunas que não foram desconfiguradas foram as colunas `Amount` e `Time`.\n",
        "\n",
        "\n",
        "![alt text](https://github.com/johnsigma/meuPortifolio/blob/master/imagens/cartao_credito3.jpg?raw=true)\n",
        "\n",
        "<a href='https://www.freepik.com/free-photos-vectors/business'>Business vector created by freepik - www.freepik.com</a>>\n",
        "\n",
        "Outro ponto importante é que as variáveis passaram por uma transformação conhecida como Análise de Componentes Principais (*Princial Component Analysis* - PCA).\n",
        "\n",
        "A PCA permite a redução da dimensionalidade enquanto mantém o maior número possível de informações. Para conseguir isso, o algoritmo encontra um conjunto novo de recursos - os chamados **componentes**.\n",
        "\n",
        "Esses componentes são em número menor ou igual às variáveis originais. No caso deste projeto, os componentes achados pela transformação da PCA são as próprias colunas $[V1, V2, V3 \\dots, V28]$.\n",
        "\n",
        "Todas essas informações foram obtidas no link da competição no Kaggle e podem ser acessadas [neste link](https://www.kaggle.com/mlg-ulb/creditcardfraud).\n"
      ]
    },
    {
      "cell_type": "code",
      "metadata": {
        "id": "oQ4bNy7udtEE",
        "colab_type": "code",
        "colab": {}
      },
      "source": [
        "# importar os pacotes necessários\n",
        "import pandas as pd\n",
        "import matplotlib.pyplot as plt\n",
        "import seaborn as sns\n",
        "from sklearn.preprocessing import StandardScaler\n",
        "from sklearn.model_selection import train_test_split\n",
        "from imblearn.under_sampling import RandomUnderSampler\n",
        "from sklearn.linear_model import LogisticRegression\n",
        "from sklearn.metrics import confusion_matrix\n",
        "from sklearn.metrics import classification_report\n",
        "from sklearn.metrics import accuracy_score\n",
        "from sklearn.metrics import recall_score\n",
        "from sklearn.metrics import precision_score\n",
        "\n",
        "sns.set_style()"
      ],
      "execution_count": 87,
      "outputs": []
    },
    {
      "cell_type": "markdown",
      "metadata": {
        "id": "g5XDTWW5LRVe",
        "colab_type": "text"
      },
      "source": [
        "Para facilitar a aquisição dos dados, criei um *link* com acesso direto ao `csv`. Com isso, basta importar o conjunto de dados usando o método `pd.read_csv()`."
      ]
    },
    {
      "cell_type": "code",
      "metadata": {
        "id": "4NxUOfDOj2j8",
        "colab_type": "code",
        "colab": {}
      },
      "source": [
        "file_path = \"https://www.dropbox.com/s/b44o3t3ehmnx2b7/creditcard.csv?dl=1\"\n",
        "\n",
        "# importar os dados para um dataframe\n",
        "df = pd.read_csv(file_path)"
      ],
      "execution_count": null,
      "outputs": []
    },
    {
      "cell_type": "markdown",
      "metadata": {
        "id": "7nF_Dhd81Cvq",
        "colab_type": "text"
      },
      "source": [
        "Com os dados importados para dentro de uma estrutura *Dataframe* - e não havendo a necessidade de mais nenhum ajuste ou configuração nesta etapa, pode-se iniciar uma análise exploratória dos dados a fim de preparar um modelo de *Machine Learning*."
      ]
    },
    {
      "cell_type": "markdown",
      "metadata": {
        "id": "8UtXyZ6stlSM",
        "colab_type": "text"
      },
      "source": [
        "## Análise Exploratória\n",
        "\n",
        "É nessa fase que vamos conhecer nossos dados e prepará-los para nosso modelo de *machine learning*. Vamos ver as variáveis do nosso *dataset*, verificar os valores ausentes e plotar alguns gráficos que nos ajudarão a entender melhor nosso conjunto de dados."
      ]
    },
    {
      "cell_type": "markdown",
      "metadata": {
        "id": "CVVy392mZ_QX",
        "colab_type": "text"
      },
      "source": [
        "### Visualização do *dataset*\n",
        "Vamos ver as cinco primeiras linhas do nosso *dataset* para vermos suas colunas e distribuições."
      ]
    },
    {
      "cell_type": "code",
      "metadata": {
        "id": "s59qIA12aNN8",
        "colab_type": "code",
        "colab": {
          "base_uri": "https://localhost:8080/",
          "height": 292
        },
        "outputId": "1cad5763-045a-40d7-a7c6-c2e3c325f4fd"
      },
      "source": [
        "print('Dimensões do dataset',\n",
        "      f'\\nEntradas: {df.shape[0]}',\n",
        "      f'\\nColunas: {df.shape[1]}\\n')\n",
        "df.head()"
      ],
      "execution_count": null,
      "outputs": [
        {
          "output_type": "stream",
          "text": [
            "Dimensões do dataset \n",
            "Entradas: 284807 \n",
            "Colunas: 31\n",
            "\n"
          ],
          "name": "stdout"
        },
        {
          "output_type": "execute_result",
          "data": {
            "text/html": [
              "<div>\n",
              "<style scoped>\n",
              "    .dataframe tbody tr th:only-of-type {\n",
              "        vertical-align: middle;\n",
              "    }\n",
              "\n",
              "    .dataframe tbody tr th {\n",
              "        vertical-align: top;\n",
              "    }\n",
              "\n",
              "    .dataframe thead th {\n",
              "        text-align: right;\n",
              "    }\n",
              "</style>\n",
              "<table border=\"1\" class=\"dataframe\">\n",
              "  <thead>\n",
              "    <tr style=\"text-align: right;\">\n",
              "      <th></th>\n",
              "      <th>Time</th>\n",
              "      <th>V1</th>\n",
              "      <th>V2</th>\n",
              "      <th>V3</th>\n",
              "      <th>V4</th>\n",
              "      <th>V5</th>\n",
              "      <th>V6</th>\n",
              "      <th>V7</th>\n",
              "      <th>V8</th>\n",
              "      <th>V9</th>\n",
              "      <th>V10</th>\n",
              "      <th>V11</th>\n",
              "      <th>V12</th>\n",
              "      <th>V13</th>\n",
              "      <th>V14</th>\n",
              "      <th>V15</th>\n",
              "      <th>V16</th>\n",
              "      <th>V17</th>\n",
              "      <th>V18</th>\n",
              "      <th>V19</th>\n",
              "      <th>V20</th>\n",
              "      <th>V21</th>\n",
              "      <th>V22</th>\n",
              "      <th>V23</th>\n",
              "      <th>V24</th>\n",
              "      <th>V25</th>\n",
              "      <th>V26</th>\n",
              "      <th>V27</th>\n",
              "      <th>V28</th>\n",
              "      <th>Amount</th>\n",
              "      <th>Class</th>\n",
              "    </tr>\n",
              "  </thead>\n",
              "  <tbody>\n",
              "    <tr>\n",
              "      <th>0</th>\n",
              "      <td>0.0</td>\n",
              "      <td>-1.359807</td>\n",
              "      <td>-0.072781</td>\n",
              "      <td>2.536347</td>\n",
              "      <td>1.378155</td>\n",
              "      <td>-0.338321</td>\n",
              "      <td>0.462388</td>\n",
              "      <td>0.239599</td>\n",
              "      <td>0.098698</td>\n",
              "      <td>0.363787</td>\n",
              "      <td>0.090794</td>\n",
              "      <td>-0.551600</td>\n",
              "      <td>-0.617801</td>\n",
              "      <td>-0.991390</td>\n",
              "      <td>-0.311169</td>\n",
              "      <td>1.468177</td>\n",
              "      <td>-0.470401</td>\n",
              "      <td>0.207971</td>\n",
              "      <td>0.025791</td>\n",
              "      <td>0.403993</td>\n",
              "      <td>0.251412</td>\n",
              "      <td>-0.018307</td>\n",
              "      <td>0.277838</td>\n",
              "      <td>-0.110474</td>\n",
              "      <td>0.066928</td>\n",
              "      <td>0.128539</td>\n",
              "      <td>-0.189115</td>\n",
              "      <td>0.133558</td>\n",
              "      <td>-0.021053</td>\n",
              "      <td>149.62</td>\n",
              "      <td>0</td>\n",
              "    </tr>\n",
              "    <tr>\n",
              "      <th>1</th>\n",
              "      <td>0.0</td>\n",
              "      <td>1.191857</td>\n",
              "      <td>0.266151</td>\n",
              "      <td>0.166480</td>\n",
              "      <td>0.448154</td>\n",
              "      <td>0.060018</td>\n",
              "      <td>-0.082361</td>\n",
              "      <td>-0.078803</td>\n",
              "      <td>0.085102</td>\n",
              "      <td>-0.255425</td>\n",
              "      <td>-0.166974</td>\n",
              "      <td>1.612727</td>\n",
              "      <td>1.065235</td>\n",
              "      <td>0.489095</td>\n",
              "      <td>-0.143772</td>\n",
              "      <td>0.635558</td>\n",
              "      <td>0.463917</td>\n",
              "      <td>-0.114805</td>\n",
              "      <td>-0.183361</td>\n",
              "      <td>-0.145783</td>\n",
              "      <td>-0.069083</td>\n",
              "      <td>-0.225775</td>\n",
              "      <td>-0.638672</td>\n",
              "      <td>0.101288</td>\n",
              "      <td>-0.339846</td>\n",
              "      <td>0.167170</td>\n",
              "      <td>0.125895</td>\n",
              "      <td>-0.008983</td>\n",
              "      <td>0.014724</td>\n",
              "      <td>2.69</td>\n",
              "      <td>0</td>\n",
              "    </tr>\n",
              "    <tr>\n",
              "      <th>2</th>\n",
              "      <td>1.0</td>\n",
              "      <td>-1.358354</td>\n",
              "      <td>-1.340163</td>\n",
              "      <td>1.773209</td>\n",
              "      <td>0.379780</td>\n",
              "      <td>-0.503198</td>\n",
              "      <td>1.800499</td>\n",
              "      <td>0.791461</td>\n",
              "      <td>0.247676</td>\n",
              "      <td>-1.514654</td>\n",
              "      <td>0.207643</td>\n",
              "      <td>0.624501</td>\n",
              "      <td>0.066084</td>\n",
              "      <td>0.717293</td>\n",
              "      <td>-0.165946</td>\n",
              "      <td>2.345865</td>\n",
              "      <td>-2.890083</td>\n",
              "      <td>1.109969</td>\n",
              "      <td>-0.121359</td>\n",
              "      <td>-2.261857</td>\n",
              "      <td>0.524980</td>\n",
              "      <td>0.247998</td>\n",
              "      <td>0.771679</td>\n",
              "      <td>0.909412</td>\n",
              "      <td>-0.689281</td>\n",
              "      <td>-0.327642</td>\n",
              "      <td>-0.139097</td>\n",
              "      <td>-0.055353</td>\n",
              "      <td>-0.059752</td>\n",
              "      <td>378.66</td>\n",
              "      <td>0</td>\n",
              "    </tr>\n",
              "    <tr>\n",
              "      <th>3</th>\n",
              "      <td>1.0</td>\n",
              "      <td>-0.966272</td>\n",
              "      <td>-0.185226</td>\n",
              "      <td>1.792993</td>\n",
              "      <td>-0.863291</td>\n",
              "      <td>-0.010309</td>\n",
              "      <td>1.247203</td>\n",
              "      <td>0.237609</td>\n",
              "      <td>0.377436</td>\n",
              "      <td>-1.387024</td>\n",
              "      <td>-0.054952</td>\n",
              "      <td>-0.226487</td>\n",
              "      <td>0.178228</td>\n",
              "      <td>0.507757</td>\n",
              "      <td>-0.287924</td>\n",
              "      <td>-0.631418</td>\n",
              "      <td>-1.059647</td>\n",
              "      <td>-0.684093</td>\n",
              "      <td>1.965775</td>\n",
              "      <td>-1.232622</td>\n",
              "      <td>-0.208038</td>\n",
              "      <td>-0.108300</td>\n",
              "      <td>0.005274</td>\n",
              "      <td>-0.190321</td>\n",
              "      <td>-1.175575</td>\n",
              "      <td>0.647376</td>\n",
              "      <td>-0.221929</td>\n",
              "      <td>0.062723</td>\n",
              "      <td>0.061458</td>\n",
              "      <td>123.50</td>\n",
              "      <td>0</td>\n",
              "    </tr>\n",
              "    <tr>\n",
              "      <th>4</th>\n",
              "      <td>2.0</td>\n",
              "      <td>-1.158233</td>\n",
              "      <td>0.877737</td>\n",
              "      <td>1.548718</td>\n",
              "      <td>0.403034</td>\n",
              "      <td>-0.407193</td>\n",
              "      <td>0.095921</td>\n",
              "      <td>0.592941</td>\n",
              "      <td>-0.270533</td>\n",
              "      <td>0.817739</td>\n",
              "      <td>0.753074</td>\n",
              "      <td>-0.822843</td>\n",
              "      <td>0.538196</td>\n",
              "      <td>1.345852</td>\n",
              "      <td>-1.119670</td>\n",
              "      <td>0.175121</td>\n",
              "      <td>-0.451449</td>\n",
              "      <td>-0.237033</td>\n",
              "      <td>-0.038195</td>\n",
              "      <td>0.803487</td>\n",
              "      <td>0.408542</td>\n",
              "      <td>-0.009431</td>\n",
              "      <td>0.798278</td>\n",
              "      <td>-0.137458</td>\n",
              "      <td>0.141267</td>\n",
              "      <td>-0.206010</td>\n",
              "      <td>0.502292</td>\n",
              "      <td>0.219422</td>\n",
              "      <td>0.215153</td>\n",
              "      <td>69.99</td>\n",
              "      <td>0</td>\n",
              "    </tr>\n",
              "  </tbody>\n",
              "</table>\n",
              "</div>"
            ],
            "text/plain": [
              "   Time        V1        V2        V3  ...       V27       V28  Amount  Class\n",
              "0   0.0 -1.359807 -0.072781  2.536347  ...  0.133558 -0.021053  149.62      0\n",
              "1   0.0  1.191857  0.266151  0.166480  ... -0.008983  0.014724    2.69      0\n",
              "2   1.0 -1.358354 -1.340163  1.773209  ... -0.055353 -0.059752  378.66      0\n",
              "3   1.0 -0.966272 -0.185226  1.792993  ...  0.062723  0.061458  123.50      0\n",
              "4   2.0 -1.158233  0.877737  1.548718  ...  0.219422  0.215153   69.99      0\n",
              "\n",
              "[5 rows x 31 columns]"
            ]
          },
          "metadata": {
            "tags": []
          },
          "execution_count": 9
        }
      ]
    },
    {
      "cell_type": "markdown",
      "metadata": {
        "id": "OnmLASTw0cvv",
        "colab_type": "text"
      },
      "source": [
        "Vimos que temos 284807 entradas, no nosso caso transações, e 31 colunas, sendo elas (como explicado anteriormente) 28 colunas transformadas e 3 colunas que sabemos quais são são elas:\n",
        "\n",
        "\n",
        "*   `Time` - contém, em segundos, o tempo decorrido entre cada transação e a primeira transação do conjunto de dados. Por exemplo a terceira transação aconteceu 1 segundo depois da primeira, e assim sucessivamente.\n",
        "*   `Amount` - que é o preço da transação.\n",
        "*   `Class` - seria nosso vetor alvo que diz se uma transação foi classificada como fraudulenta ou não. Se assume o valor 1 em caso de fraude e 0 em transações normais\n",
        "\n"
      ]
    },
    {
      "cell_type": "markdown",
      "metadata": {
        "id": "FxF5E2fAw7gY",
        "colab_type": "text"
      },
      "source": [
        "### Resumo estatístico do *dataframe*\n",
        "\n",
        "Utilizando o método `describe` podemos ver algumas informações estatísticas dos nossos dados, como a média, mediana, desvio padrão, etc..."
      ]
    },
    {
      "cell_type": "code",
      "metadata": {
        "id": "DAtLV0-txMjo",
        "colab_type": "code",
        "colab": {
          "base_uri": "https://localhost:8080/",
          "height": 317
        },
        "outputId": "d7dcb73a-ab50-4cf9-dac3-876d68a458f1"
      },
      "source": [
        "df.describe()"
      ],
      "execution_count": null,
      "outputs": [
        {
          "output_type": "execute_result",
          "data": {
            "text/html": [
              "<div>\n",
              "<style scoped>\n",
              "    .dataframe tbody tr th:only-of-type {\n",
              "        vertical-align: middle;\n",
              "    }\n",
              "\n",
              "    .dataframe tbody tr th {\n",
              "        vertical-align: top;\n",
              "    }\n",
              "\n",
              "    .dataframe thead th {\n",
              "        text-align: right;\n",
              "    }\n",
              "</style>\n",
              "<table border=\"1\" class=\"dataframe\">\n",
              "  <thead>\n",
              "    <tr style=\"text-align: right;\">\n",
              "      <th></th>\n",
              "      <th>Time</th>\n",
              "      <th>V1</th>\n",
              "      <th>V2</th>\n",
              "      <th>V3</th>\n",
              "      <th>V4</th>\n",
              "      <th>V5</th>\n",
              "      <th>V6</th>\n",
              "      <th>V7</th>\n",
              "      <th>V8</th>\n",
              "      <th>V9</th>\n",
              "      <th>V10</th>\n",
              "      <th>V11</th>\n",
              "      <th>V12</th>\n",
              "      <th>V13</th>\n",
              "      <th>V14</th>\n",
              "      <th>V15</th>\n",
              "      <th>V16</th>\n",
              "      <th>V17</th>\n",
              "      <th>V18</th>\n",
              "      <th>V19</th>\n",
              "      <th>V20</th>\n",
              "      <th>V21</th>\n",
              "      <th>V22</th>\n",
              "      <th>V23</th>\n",
              "      <th>V24</th>\n",
              "      <th>V25</th>\n",
              "      <th>V26</th>\n",
              "      <th>V27</th>\n",
              "      <th>V28</th>\n",
              "      <th>Amount</th>\n",
              "      <th>Class</th>\n",
              "    </tr>\n",
              "  </thead>\n",
              "  <tbody>\n",
              "    <tr>\n",
              "      <th>count</th>\n",
              "      <td>284807.000000</td>\n",
              "      <td>2.848070e+05</td>\n",
              "      <td>2.848070e+05</td>\n",
              "      <td>2.848070e+05</td>\n",
              "      <td>2.848070e+05</td>\n",
              "      <td>2.848070e+05</td>\n",
              "      <td>2.848070e+05</td>\n",
              "      <td>2.848070e+05</td>\n",
              "      <td>2.848070e+05</td>\n",
              "      <td>2.848070e+05</td>\n",
              "      <td>2.848070e+05</td>\n",
              "      <td>2.848070e+05</td>\n",
              "      <td>2.848070e+05</td>\n",
              "      <td>2.848070e+05</td>\n",
              "      <td>2.848070e+05</td>\n",
              "      <td>2.848070e+05</td>\n",
              "      <td>2.848070e+05</td>\n",
              "      <td>2.848070e+05</td>\n",
              "      <td>2.848070e+05</td>\n",
              "      <td>2.848070e+05</td>\n",
              "      <td>2.848070e+05</td>\n",
              "      <td>2.848070e+05</td>\n",
              "      <td>2.848070e+05</td>\n",
              "      <td>2.848070e+05</td>\n",
              "      <td>2.848070e+05</td>\n",
              "      <td>2.848070e+05</td>\n",
              "      <td>2.848070e+05</td>\n",
              "      <td>2.848070e+05</td>\n",
              "      <td>2.848070e+05</td>\n",
              "      <td>284807.000000</td>\n",
              "      <td>284807.000000</td>\n",
              "    </tr>\n",
              "    <tr>\n",
              "      <th>mean</th>\n",
              "      <td>94813.859575</td>\n",
              "      <td>3.919560e-15</td>\n",
              "      <td>5.688174e-16</td>\n",
              "      <td>-8.769071e-15</td>\n",
              "      <td>2.782312e-15</td>\n",
              "      <td>-1.552563e-15</td>\n",
              "      <td>2.010663e-15</td>\n",
              "      <td>-1.694249e-15</td>\n",
              "      <td>-1.927028e-16</td>\n",
              "      <td>-3.137024e-15</td>\n",
              "      <td>1.768627e-15</td>\n",
              "      <td>9.170318e-16</td>\n",
              "      <td>-1.810658e-15</td>\n",
              "      <td>1.693438e-15</td>\n",
              "      <td>1.479045e-15</td>\n",
              "      <td>3.482336e-15</td>\n",
              "      <td>1.392007e-15</td>\n",
              "      <td>-7.528491e-16</td>\n",
              "      <td>4.328772e-16</td>\n",
              "      <td>9.049732e-16</td>\n",
              "      <td>5.085503e-16</td>\n",
              "      <td>1.537294e-16</td>\n",
              "      <td>7.959909e-16</td>\n",
              "      <td>5.367590e-16</td>\n",
              "      <td>4.458112e-15</td>\n",
              "      <td>1.453003e-15</td>\n",
              "      <td>1.699104e-15</td>\n",
              "      <td>-3.660161e-16</td>\n",
              "      <td>-1.206049e-16</td>\n",
              "      <td>88.349619</td>\n",
              "      <td>0.001727</td>\n",
              "    </tr>\n",
              "    <tr>\n",
              "      <th>std</th>\n",
              "      <td>47488.145955</td>\n",
              "      <td>1.958696e+00</td>\n",
              "      <td>1.651309e+00</td>\n",
              "      <td>1.516255e+00</td>\n",
              "      <td>1.415869e+00</td>\n",
              "      <td>1.380247e+00</td>\n",
              "      <td>1.332271e+00</td>\n",
              "      <td>1.237094e+00</td>\n",
              "      <td>1.194353e+00</td>\n",
              "      <td>1.098632e+00</td>\n",
              "      <td>1.088850e+00</td>\n",
              "      <td>1.020713e+00</td>\n",
              "      <td>9.992014e-01</td>\n",
              "      <td>9.952742e-01</td>\n",
              "      <td>9.585956e-01</td>\n",
              "      <td>9.153160e-01</td>\n",
              "      <td>8.762529e-01</td>\n",
              "      <td>8.493371e-01</td>\n",
              "      <td>8.381762e-01</td>\n",
              "      <td>8.140405e-01</td>\n",
              "      <td>7.709250e-01</td>\n",
              "      <td>7.345240e-01</td>\n",
              "      <td>7.257016e-01</td>\n",
              "      <td>6.244603e-01</td>\n",
              "      <td>6.056471e-01</td>\n",
              "      <td>5.212781e-01</td>\n",
              "      <td>4.822270e-01</td>\n",
              "      <td>4.036325e-01</td>\n",
              "      <td>3.300833e-01</td>\n",
              "      <td>250.120109</td>\n",
              "      <td>0.041527</td>\n",
              "    </tr>\n",
              "    <tr>\n",
              "      <th>min</th>\n",
              "      <td>0.000000</td>\n",
              "      <td>-5.640751e+01</td>\n",
              "      <td>-7.271573e+01</td>\n",
              "      <td>-4.832559e+01</td>\n",
              "      <td>-5.683171e+00</td>\n",
              "      <td>-1.137433e+02</td>\n",
              "      <td>-2.616051e+01</td>\n",
              "      <td>-4.355724e+01</td>\n",
              "      <td>-7.321672e+01</td>\n",
              "      <td>-1.343407e+01</td>\n",
              "      <td>-2.458826e+01</td>\n",
              "      <td>-4.797473e+00</td>\n",
              "      <td>-1.868371e+01</td>\n",
              "      <td>-5.791881e+00</td>\n",
              "      <td>-1.921433e+01</td>\n",
              "      <td>-4.498945e+00</td>\n",
              "      <td>-1.412985e+01</td>\n",
              "      <td>-2.516280e+01</td>\n",
              "      <td>-9.498746e+00</td>\n",
              "      <td>-7.213527e+00</td>\n",
              "      <td>-5.449772e+01</td>\n",
              "      <td>-3.483038e+01</td>\n",
              "      <td>-1.093314e+01</td>\n",
              "      <td>-4.480774e+01</td>\n",
              "      <td>-2.836627e+00</td>\n",
              "      <td>-1.029540e+01</td>\n",
              "      <td>-2.604551e+00</td>\n",
              "      <td>-2.256568e+01</td>\n",
              "      <td>-1.543008e+01</td>\n",
              "      <td>0.000000</td>\n",
              "      <td>0.000000</td>\n",
              "    </tr>\n",
              "    <tr>\n",
              "      <th>25%</th>\n",
              "      <td>54201.500000</td>\n",
              "      <td>-9.203734e-01</td>\n",
              "      <td>-5.985499e-01</td>\n",
              "      <td>-8.903648e-01</td>\n",
              "      <td>-8.486401e-01</td>\n",
              "      <td>-6.915971e-01</td>\n",
              "      <td>-7.682956e-01</td>\n",
              "      <td>-5.540759e-01</td>\n",
              "      <td>-2.086297e-01</td>\n",
              "      <td>-6.430976e-01</td>\n",
              "      <td>-5.354257e-01</td>\n",
              "      <td>-7.624942e-01</td>\n",
              "      <td>-4.055715e-01</td>\n",
              "      <td>-6.485393e-01</td>\n",
              "      <td>-4.255740e-01</td>\n",
              "      <td>-5.828843e-01</td>\n",
              "      <td>-4.680368e-01</td>\n",
              "      <td>-4.837483e-01</td>\n",
              "      <td>-4.988498e-01</td>\n",
              "      <td>-4.562989e-01</td>\n",
              "      <td>-2.117214e-01</td>\n",
              "      <td>-2.283949e-01</td>\n",
              "      <td>-5.423504e-01</td>\n",
              "      <td>-1.618463e-01</td>\n",
              "      <td>-3.545861e-01</td>\n",
              "      <td>-3.171451e-01</td>\n",
              "      <td>-3.269839e-01</td>\n",
              "      <td>-7.083953e-02</td>\n",
              "      <td>-5.295979e-02</td>\n",
              "      <td>5.600000</td>\n",
              "      <td>0.000000</td>\n",
              "    </tr>\n",
              "    <tr>\n",
              "      <th>50%</th>\n",
              "      <td>84692.000000</td>\n",
              "      <td>1.810880e-02</td>\n",
              "      <td>6.548556e-02</td>\n",
              "      <td>1.798463e-01</td>\n",
              "      <td>-1.984653e-02</td>\n",
              "      <td>-5.433583e-02</td>\n",
              "      <td>-2.741871e-01</td>\n",
              "      <td>4.010308e-02</td>\n",
              "      <td>2.235804e-02</td>\n",
              "      <td>-5.142873e-02</td>\n",
              "      <td>-9.291738e-02</td>\n",
              "      <td>-3.275735e-02</td>\n",
              "      <td>1.400326e-01</td>\n",
              "      <td>-1.356806e-02</td>\n",
              "      <td>5.060132e-02</td>\n",
              "      <td>4.807155e-02</td>\n",
              "      <td>6.641332e-02</td>\n",
              "      <td>-6.567575e-02</td>\n",
              "      <td>-3.636312e-03</td>\n",
              "      <td>3.734823e-03</td>\n",
              "      <td>-6.248109e-02</td>\n",
              "      <td>-2.945017e-02</td>\n",
              "      <td>6.781943e-03</td>\n",
              "      <td>-1.119293e-02</td>\n",
              "      <td>4.097606e-02</td>\n",
              "      <td>1.659350e-02</td>\n",
              "      <td>-5.213911e-02</td>\n",
              "      <td>1.342146e-03</td>\n",
              "      <td>1.124383e-02</td>\n",
              "      <td>22.000000</td>\n",
              "      <td>0.000000</td>\n",
              "    </tr>\n",
              "    <tr>\n",
              "      <th>75%</th>\n",
              "      <td>139320.500000</td>\n",
              "      <td>1.315642e+00</td>\n",
              "      <td>8.037239e-01</td>\n",
              "      <td>1.027196e+00</td>\n",
              "      <td>7.433413e-01</td>\n",
              "      <td>6.119264e-01</td>\n",
              "      <td>3.985649e-01</td>\n",
              "      <td>5.704361e-01</td>\n",
              "      <td>3.273459e-01</td>\n",
              "      <td>5.971390e-01</td>\n",
              "      <td>4.539234e-01</td>\n",
              "      <td>7.395934e-01</td>\n",
              "      <td>6.182380e-01</td>\n",
              "      <td>6.625050e-01</td>\n",
              "      <td>4.931498e-01</td>\n",
              "      <td>6.488208e-01</td>\n",
              "      <td>5.232963e-01</td>\n",
              "      <td>3.996750e-01</td>\n",
              "      <td>5.008067e-01</td>\n",
              "      <td>4.589494e-01</td>\n",
              "      <td>1.330408e-01</td>\n",
              "      <td>1.863772e-01</td>\n",
              "      <td>5.285536e-01</td>\n",
              "      <td>1.476421e-01</td>\n",
              "      <td>4.395266e-01</td>\n",
              "      <td>3.507156e-01</td>\n",
              "      <td>2.409522e-01</td>\n",
              "      <td>9.104512e-02</td>\n",
              "      <td>7.827995e-02</td>\n",
              "      <td>77.165000</td>\n",
              "      <td>0.000000</td>\n",
              "    </tr>\n",
              "    <tr>\n",
              "      <th>max</th>\n",
              "      <td>172792.000000</td>\n",
              "      <td>2.454930e+00</td>\n",
              "      <td>2.205773e+01</td>\n",
              "      <td>9.382558e+00</td>\n",
              "      <td>1.687534e+01</td>\n",
              "      <td>3.480167e+01</td>\n",
              "      <td>7.330163e+01</td>\n",
              "      <td>1.205895e+02</td>\n",
              "      <td>2.000721e+01</td>\n",
              "      <td>1.559499e+01</td>\n",
              "      <td>2.374514e+01</td>\n",
              "      <td>1.201891e+01</td>\n",
              "      <td>7.848392e+00</td>\n",
              "      <td>7.126883e+00</td>\n",
              "      <td>1.052677e+01</td>\n",
              "      <td>8.877742e+00</td>\n",
              "      <td>1.731511e+01</td>\n",
              "      <td>9.253526e+00</td>\n",
              "      <td>5.041069e+00</td>\n",
              "      <td>5.591971e+00</td>\n",
              "      <td>3.942090e+01</td>\n",
              "      <td>2.720284e+01</td>\n",
              "      <td>1.050309e+01</td>\n",
              "      <td>2.252841e+01</td>\n",
              "      <td>4.584549e+00</td>\n",
              "      <td>7.519589e+00</td>\n",
              "      <td>3.517346e+00</td>\n",
              "      <td>3.161220e+01</td>\n",
              "      <td>3.384781e+01</td>\n",
              "      <td>25691.160000</td>\n",
              "      <td>1.000000</td>\n",
              "    </tr>\n",
              "  </tbody>\n",
              "</table>\n",
              "</div>"
            ],
            "text/plain": [
              "                Time            V1  ...         Amount          Class\n",
              "count  284807.000000  2.848070e+05  ...  284807.000000  284807.000000\n",
              "mean    94813.859575  3.919560e-15  ...      88.349619       0.001727\n",
              "std     47488.145955  1.958696e+00  ...     250.120109       0.041527\n",
              "min         0.000000 -5.640751e+01  ...       0.000000       0.000000\n",
              "25%     54201.500000 -9.203734e-01  ...       5.600000       0.000000\n",
              "50%     84692.000000  1.810880e-02  ...      22.000000       0.000000\n",
              "75%    139320.500000  1.315642e+00  ...      77.165000       0.000000\n",
              "max    172792.000000  2.454930e+00  ...   25691.160000       1.000000\n",
              "\n",
              "[8 rows x 31 columns]"
            ]
          },
          "metadata": {
            "tags": []
          },
          "execution_count": 7
        }
      ]
    },
    {
      "cell_type": "markdown",
      "metadata": {
        "id": "thf40-W8xwUQ",
        "colab_type": "text"
      },
      "source": [
        "Vemos que as colunas `Time` e `Amount` estão bem desbalanceadas olhando a média (`mean`) e o desvio padrão (`std`). Percebemos também que 75% dos valores de `Amount` estão abaixo de 78 enquanto o valor máximo passa de 25691, o que nos diz que essa coluna tem muitos dados dados desbalanceados. Mais à frente vamos ver o balanceamento do nosso *dataset* e ver se precisamos balanceá-lo ou não."
      ]
    },
    {
      "cell_type": "markdown",
      "metadata": {
        "id": "0fs7nTYRztIn",
        "colab_type": "text"
      },
      "source": [
        "### Valores ausentes\n",
        "\n",
        "Vamos agora verificar a porcentagem de valores ausentes do nosso *dataset* pra sabermos como lidar melhor com o balanceamento."
      ]
    },
    {
      "cell_type": "code",
      "metadata": {
        "id": "qF_yC70Gz44G",
        "colab_type": "code",
        "colab": {
          "base_uri": "https://localhost:8080/",
          "height": 561
        },
        "outputId": "265d888d-9879-437b-bfb9-aecc17b7675f"
      },
      "source": [
        "((df.isnull().sum() / df.shape[0]) * 100).sort_values(ascending=False)"
      ],
      "execution_count": null,
      "outputs": [
        {
          "output_type": "execute_result",
          "data": {
            "text/plain": [
              "Class     0.0\n",
              "V14       0.0\n",
              "V1        0.0\n",
              "V2        0.0\n",
              "V3        0.0\n",
              "V4        0.0\n",
              "V5        0.0\n",
              "V6        0.0\n",
              "V7        0.0\n",
              "V8        0.0\n",
              "V9        0.0\n",
              "V10       0.0\n",
              "V11       0.0\n",
              "V12       0.0\n",
              "V13       0.0\n",
              "V15       0.0\n",
              "Amount    0.0\n",
              "V16       0.0\n",
              "V17       0.0\n",
              "V18       0.0\n",
              "V19       0.0\n",
              "V20       0.0\n",
              "V21       0.0\n",
              "V22       0.0\n",
              "V23       0.0\n",
              "V24       0.0\n",
              "V25       0.0\n",
              "V26       0.0\n",
              "V27       0.0\n",
              "V28       0.0\n",
              "Time      0.0\n",
              "dtype: float64"
            ]
          },
          "metadata": {
            "tags": []
          },
          "execution_count": 13
        }
      ]
    },
    {
      "cell_type": "markdown",
      "metadata": {
        "id": "hCG9IvtM2bc_",
        "colab_type": "text"
      },
      "source": [
        "Vemos que nosso *dataset* está todo completo, não já valores ausentes. O que facilita nossa vida na hora de balancear os dados."
      ]
    },
    {
      "cell_type": "markdown",
      "metadata": {
        "id": "rwAKsbJe2p9N",
        "colab_type": "text"
      },
      "source": [
        "### Gráficos\n",
        "\n",
        "Nessa seção vamos plotar gráficos para sabermos lidar melhor com nosso conjunto de dados. Vamos plotar gráficos de barras para vermos a distribuição do nosso *dataset*, dois histogramas para nossas varáveis conhecidade (`Time` e `Amount`), um gráfico de caixa para a variável `Amount` quando houve fraude e uma matriz de correlação."
      ]
    },
    {
      "cell_type": "markdown",
      "metadata": {
        "id": "HAY-69bn3Uwt",
        "colab_type": "text"
      },
      "source": [
        "#### Gráfico de barras para distribuição para as Classes\n",
        "\n",
        "Para vermos como a coluna `Class` está distribuída, vamos plotar um gráfico de barras. Lembrando que a coluna `Class` é a coluna onde nos diz se uma transação é fraudulenta ou não. Se a `Class` de uma entrada for 0 quer dizer que a transação não é fraudulenta. Se for 1 quer dizer que a transação é fraudulenta."
      ]
    },
    {
      "cell_type": "code",
      "metadata": {
        "id": "MxJ04z_Z3ptV",
        "colab_type": "code",
        "colab": {
          "base_uri": "https://localhost:8080/",
          "height": 279
        },
        "outputId": "178b5a77-7b95-490e-a2cf-66943b177153"
      },
      "source": [
        "# plotando o gráfico para Class\n",
        "sns.countplot(x='Class', data=df);"
      ],
      "execution_count": null,
      "outputs": [
        {
          "output_type": "display_data",
          "data": {
            "image/png": "[encoded data removed]",
            "text/plain": [
              "<Figure size 432x288 with 1 Axes>"
            ]
          },
          "metadata": {
            "tags": [],
            "needs_background": "light"
          }
        }
      ]
    },
    {
      "cell_type": "markdown",
      "metadata": {
        "id": "EtTweGrv52Zq",
        "colab_type": "text"
      },
      "source": [
        "No gráfico acima vemos que a coluna `Class` está bem desbalanceada, com quase todas as entradas como 0, ou seja, são transações normais.\n",
        "\n",
        "Vamos ver como está o balanceamento dessas classes."
      ]
    },
    {
      "cell_type": "code",
      "metadata": {
        "id": "DFff5sIw6N84",
        "colab_type": "code",
        "colab": {
          "base_uri": "https://localhost:8080/",
          "height": 85
        },
        "outputId": "9e6ccdf6-6fdb-44dc-e833-cab31991c031"
      },
      "source": [
        "# ver o balanceamento das classes\n",
        "print(f'Transações normais (Classe 0): {df.Class.value_counts()[0]}')\n",
        "print(f'Transações fraudulentas (Classe 1): {df.Class.value_counts()[1]}')\n",
        "\n",
        "# ver a porcentagem de transações fraudolentas\n",
        "print(f'\\nAs transações fraudulentas representam {(df[df.Class == 1].shape[0] / df[df.Class == 0].shape[0])*100:.2f}% do dataset.')"
      ],
      "execution_count": null,
      "outputs": [
        {
          "output_type": "stream",
          "text": [
            "Transações normais (Classe 0): 284315\n",
            "Transações fraudulentas (Classe 1): 492\n",
            "\n",
            "As transações fraudulentas representam 0.17% do dataset.\n"
          ],
          "name": "stdout"
        }
      ]
    },
    {
      "cell_type": "markdown",
      "metadata": {
        "id": "PHu7lOwX7npp",
        "colab_type": "text"
      },
      "source": [
        "Como vimos no gráfico e na célula de código acima, nosso *dataset* está bem desbalanceado com as transações fraudulentas representando apenas 0.17% do *dataset*. O que já é de se esperar pois há muito mais transações normaos do que fraudulentas no mundo."
      ]
    },
    {
      "cell_type": "markdown",
      "metadata": {
        "id": "kKg0coEaBh7L",
        "colab_type": "text"
      },
      "source": [
        "#### Histogramas\n",
        "\n",
        "A seguir vamos plotar alguns histogramas para vermos a distribuição das variáveis `Time` e `Amount` levando em consideração a `class`."
      ]
    },
    {
      "cell_type": "code",
      "metadata": {
        "id": "CpPMuBzwCMRG",
        "colab_type": "code",
        "colab": {
          "base_uri": "https://localhost:8080/",
          "height": 585
        },
        "outputId": "e81773aa-b69f-42c7-ac96-4348adaee90b"
      },
      "source": [
        "fig, ax = plt.subplots(nrows=2, ncols=2, figsize=(12,8))\n",
        "\n",
        "num_bins = 40\n",
        "\n",
        "ax[0][0].hist(df.loc[df.Class == 1]['Time'], bins=num_bins)\n",
        "ax[0][0].set_title('Tempo x Fraude')\n",
        "ax[0][0].set_xlabel('Tempo (em segundos)')\n",
        "ax[0][0].set_ylabel('Frequência')\n",
        "\n",
        "ax[0][1].hist(df.loc[df.Class == 0]['Time'], bins=num_bins)\n",
        "ax[0][1].set_title('Tempo x Normal')\n",
        "ax[0][1].set_xlabel('Tempo (em segundos)')\n",
        "ax[0][1].set_ylabel('Frequência')\n",
        "\n",
        "ax[1][0].hist(df.loc[df.Class == 1]['Amount'], bins=num_bins)\n",
        "ax[1][0].set_title('Valor x Fraude')\n",
        "ax[1][0].set_xlabel('Valor')\n",
        "ax[1][0].set_ylabel('Frequência')\n",
        "\n",
        "ax[1][1].hist(df.loc[df.Class == 0]['Amount'], bins=num_bins)\n",
        "ax[1][1].set_title('Valor x Normal')\n",
        "ax[1][1].set_xlabel('Valor')\n",
        "ax[1][1].set_ylabel('Frequência')\n",
        "\n",
        "plt.tight_layout()"
      ],
      "execution_count": null,
      "outputs": [
        {
          "output_type": "display_data",
          "data": {
            "image/png": "[encoded data removed]",
            "text/plain": [
              "<Figure size 864x576 with 4 Axes>"
            ]
          },
          "metadata": {
            "tags": [],
            "needs_background": "light"
          }
        }
      ]
    },
    {
      "cell_type": "markdown",
      "metadata": {
        "id": "Dg48EOK6Lexq",
        "colab_type": "text"
      },
      "source": [
        "Nos gráficos acima não podemos tirar nenhuma conclusão alguma definitiva. Mas nos gráficos do `Amount` (os que estão abaixo) dá para perceber que há muitos valores *outliers* (que são valores que tendem ao extremo e se distanciam muito da média). Para ter uma visão mais clara dos *outilers* vamos plotar dois gráficos de caixa (***boxplot***)."
      ]
    },
    {
      "cell_type": "markdown",
      "metadata": {
        "id": "4vJ6E_UfMJs_",
        "colab_type": "text"
      },
      "source": [
        "#### Boxplots\n",
        "\n",
        "Como dito anteriormente vamos plotar dois *boxplots* para a coluna `Amount`. Um gráfico será com as transações normais e outro com as transações fraudulentas."
      ]
    },
    {
      "cell_type": "code",
      "metadata": {
        "id": "2diGK1x8MioZ",
        "colab_type": "code",
        "colab": {
          "base_uri": "https://localhost:8080/",
          "height": 729
        },
        "outputId": "dabdbe16-aa73-41cf-df9c-c4c167e99195"
      },
      "source": [
        "fig, ax = plt.subplots(figsize=(6,10))\n",
        "\n",
        "sns.boxplot(df.Class, df.Amount, showmeans=True, ax=ax)\n",
        "plt.ylim((-10, 400))\n",
        "plt.xticks([0, 1], ['Normal', 'Fraude'])\n",
        "\n",
        "plt.tight_layout()"
      ],
      "execution_count": 29,
      "outputs": [
        {
          "output_type": "display_data",
          "data": {
            "image/png": "[encoded data removed]",
            "text/plain": [
              "<Figure size 432x720 with 1 Axes>"
            ]
          },
          "metadata": {
            "tags": [],
            "needs_background": "light"
          }
        }
      ]
    },
    {
      "cell_type": "markdown",
      "metadata": {
        "id": "wHEDcLVFOiFw",
        "colab_type": "text"
      },
      "source": [
        "Vimos que a distribuição para as duas classes estão bem diferentes, o que pode contribuir para o treinamento do modelo de *machine learning*. Percebemos também que, por mais diferente seja a distribuição das duas classes, a classe **Fraude** contempla vários valores, desde valores pequenos a valores muito altos (muitos deles considerados *outliers*)."
      ]
    },
    {
      "cell_type": "markdown",
      "metadata": {
        "id": "WyivzpMVPkM4",
        "colab_type": "text"
      },
      "source": [
        "#### Matriz de Correlação\n",
        "\n",
        "Agora vamos plotar uma matriz de correlação para vermos o quanto nossas variáveis se relacionam com as outras."
      ]
    },
    {
      "cell_type": "code",
      "metadata": {
        "id": "KS7GKGyUP0C3",
        "colab_type": "code",
        "colab": {
          "base_uri": "https://localhost:8080/",
          "height": 441
        },
        "outputId": "393a02c3-b876-4943-89fc-50c18d333132"
      },
      "source": [
        "# plotando uma matriz de correlação\n",
        "fig, ax = plt.subplots(figsize=(8,6))\n",
        "\n",
        "sns.heatmap(df.corr(), ax=ax, cmap='coolwarm')\n",
        "plt.tight_layout()"
      ],
      "execution_count": 55,
      "outputs": [
        {
          "output_type": "display_data",
          "data": {
            "image/png": "[encoded data removed]",
            "text/plain": [
              "<Figure size 576x432 with 2 Axes>"
            ]
          },
          "metadata": {
            "tags": [],
            "needs_background": "light"
          }
        }
      ]
    },
    {
      "cell_type": "markdown",
      "metadata": {
        "id": "cta7DJLkSviw",
        "colab_type": "text"
      },
      "source": [
        "Plotando a matriz de correlação vemos que nossa coluna `Class` não se relaciona muito bem com as outras variáveis. Podemos ver também que a coluna `Amount` se relaciona relativamente bem com as colunas `V7` e `V20`."
      ]
    },
    {
      "cell_type": "markdown",
      "metadata": {
        "id": "jh6-SODCTa_e",
        "colab_type": "text"
      },
      "source": [
        "Ao fim da nossa análise exploratória, percebemos que:\n",
        "\n",
        "*  nosso *dataset* está muito desbalanceado\n",
        "*  as transações fraudulentas representam apenas 0,17% do total de transações\n",
        "*  as colunas `Time` e `Amount` não estão padronizadas com as outras\n",
        "*  nossas variáveis não tem muita correlação\n",
        "*  a coluna `Amount` possui muitos valores *outliers*"
      ]
    },
    {
      "cell_type": "markdown",
      "metadata": {
        "id": "ULe7z0jZt0EH",
        "colab_type": "text"
      },
      "source": [
        "## Preparação dos Dados\n",
        "\n",
        "Será nessa etapa que vamos preparar nosso *dataset* para treinar nosso modelo de *machine leraning*. Como se trata de um problema de classificação (uma transação é fraudulenta ou não) vamos utilizar a Regressão Logística. Nessa etapa vamos:\n",
        "\n",
        "* Normalizar os dados que ainda não haviam sido pré-processados (`Time` e `Amount`)\n",
        "* Dividir o conjunto de dados entre treino e teste\n",
        "* Balancear o conjunto de dados para melhorar a performance para a classe 1 (quando há fraude)"
      ]
    },
    {
      "cell_type": "markdown",
      "metadata": {
        "id": "Lh4Iek20VLKw",
        "colab_type": "text"
      },
      "source": [
        "### Padronizar `Time` e `Amount`\n",
        "\n",
        "Vamos utilizar o método `StandardScaler` para padronizar os dados das colunas `Time` e `Amount`."
      ]
    },
    {
      "cell_type": "code",
      "metadata": {
        "id": "IqfjG_SUSTi-",
        "colab_type": "code",
        "colab": {
          "base_uri": "https://localhost:8080/",
          "height": 224
        },
        "outputId": "5bbd0c0f-2f91-410e-c1a4-cb0469626b93"
      },
      "source": [
        "# copiando o dataset\n",
        "df_clean = df.copy()\n",
        "\n",
        "# padronizando os dados\n",
        "scaler = StandardScaler()\n",
        "df_clean.Time = scaler.fit_transform(df_clean.Time.values.reshape(-1, 1))\n",
        "df_clean.Amount = scaler.fit_transform(df_clean.Amount.values.reshape(-1, 1))\n",
        "\n",
        "# ver as 5 primeiras entradas\n",
        "df_clean.head()"
      ],
      "execution_count": 72,
      "outputs": [
        {
          "output_type": "execute_result",
          "data": {
            "text/html": [
              "<div>\n",
              "<style scoped>\n",
              "    .dataframe tbody tr th:only-of-type {\n",
              "        vertical-align: middle;\n",
              "    }\n",
              "\n",
              "    .dataframe tbody tr th {\n",
              "        vertical-align: top;\n",
              "    }\n",
              "\n",
              "    .dataframe thead th {\n",
              "        text-align: right;\n",
              "    }\n",
              "</style>\n",
              "<table border=\"1\" class=\"dataframe\">\n",
              "  <thead>\n",
              "    <tr style=\"text-align: right;\">\n",
              "      <th></th>\n",
              "      <th>Time</th>\n",
              "      <th>V1</th>\n",
              "      <th>V2</th>\n",
              "      <th>V3</th>\n",
              "      <th>V4</th>\n",
              "      <th>V5</th>\n",
              "      <th>V6</th>\n",
              "      <th>V7</th>\n",
              "      <th>V8</th>\n",
              "      <th>V9</th>\n",
              "      <th>V10</th>\n",
              "      <th>V11</th>\n",
              "      <th>V12</th>\n",
              "      <th>V13</th>\n",
              "      <th>V14</th>\n",
              "      <th>V15</th>\n",
              "      <th>V16</th>\n",
              "      <th>V17</th>\n",
              "      <th>V18</th>\n",
              "      <th>V19</th>\n",
              "      <th>V20</th>\n",
              "      <th>V21</th>\n",
              "      <th>V22</th>\n",
              "      <th>V23</th>\n",
              "      <th>V24</th>\n",
              "      <th>V25</th>\n",
              "      <th>V26</th>\n",
              "      <th>V27</th>\n",
              "      <th>V28</th>\n",
              "      <th>Amount</th>\n",
              "      <th>Class</th>\n",
              "    </tr>\n",
              "  </thead>\n",
              "  <tbody>\n",
              "    <tr>\n",
              "      <th>0</th>\n",
              "      <td>-1.996583</td>\n",
              "      <td>-1.359807</td>\n",
              "      <td>-0.072781</td>\n",
              "      <td>2.536347</td>\n",
              "      <td>1.378155</td>\n",
              "      <td>-0.338321</td>\n",
              "      <td>0.462388</td>\n",
              "      <td>0.239599</td>\n",
              "      <td>0.098698</td>\n",
              "      <td>0.363787</td>\n",
              "      <td>0.090794</td>\n",
              "      <td>-0.551600</td>\n",
              "      <td>-0.617801</td>\n",
              "      <td>-0.991390</td>\n",
              "      <td>-0.311169</td>\n",
              "      <td>1.468177</td>\n",
              "      <td>-0.470401</td>\n",
              "      <td>0.207971</td>\n",
              "      <td>0.025791</td>\n",
              "      <td>0.403993</td>\n",
              "      <td>0.251412</td>\n",
              "      <td>-0.018307</td>\n",
              "      <td>0.277838</td>\n",
              "      <td>-0.110474</td>\n",
              "      <td>0.066928</td>\n",
              "      <td>0.128539</td>\n",
              "      <td>-0.189115</td>\n",
              "      <td>0.133558</td>\n",
              "      <td>-0.021053</td>\n",
              "      <td>0.244964</td>\n",
              "      <td>0</td>\n",
              "    </tr>\n",
              "    <tr>\n",
              "      <th>1</th>\n",
              "      <td>-1.996583</td>\n",
              "      <td>1.191857</td>\n",
              "      <td>0.266151</td>\n",
              "      <td>0.166480</td>\n",
              "      <td>0.448154</td>\n",
              "      <td>0.060018</td>\n",
              "      <td>-0.082361</td>\n",
              "      <td>-0.078803</td>\n",
              "      <td>0.085102</td>\n",
              "      <td>-0.255425</td>\n",
              "      <td>-0.166974</td>\n",
              "      <td>1.612727</td>\n",
              "      <td>1.065235</td>\n",
              "      <td>0.489095</td>\n",
              "      <td>-0.143772</td>\n",
              "      <td>0.635558</td>\n",
              "      <td>0.463917</td>\n",
              "      <td>-0.114805</td>\n",
              "      <td>-0.183361</td>\n",
              "      <td>-0.145783</td>\n",
              "      <td>-0.069083</td>\n",
              "      <td>-0.225775</td>\n",
              "      <td>-0.638672</td>\n",
              "      <td>0.101288</td>\n",
              "      <td>-0.339846</td>\n",
              "      <td>0.167170</td>\n",
              "      <td>0.125895</td>\n",
              "      <td>-0.008983</td>\n",
              "      <td>0.014724</td>\n",
              "      <td>-0.342475</td>\n",
              "      <td>0</td>\n",
              "    </tr>\n",
              "    <tr>\n",
              "      <th>2</th>\n",
              "      <td>-1.996562</td>\n",
              "      <td>-1.358354</td>\n",
              "      <td>-1.340163</td>\n",
              "      <td>1.773209</td>\n",
              "      <td>0.379780</td>\n",
              "      <td>-0.503198</td>\n",
              "      <td>1.800499</td>\n",
              "      <td>0.791461</td>\n",
              "      <td>0.247676</td>\n",
              "      <td>-1.514654</td>\n",
              "      <td>0.207643</td>\n",
              "      <td>0.624501</td>\n",
              "      <td>0.066084</td>\n",
              "      <td>0.717293</td>\n",
              "      <td>-0.165946</td>\n",
              "      <td>2.345865</td>\n",
              "      <td>-2.890083</td>\n",
              "      <td>1.109969</td>\n",
              "      <td>-0.121359</td>\n",
              "      <td>-2.261857</td>\n",
              "      <td>0.524980</td>\n",
              "      <td>0.247998</td>\n",
              "      <td>0.771679</td>\n",
              "      <td>0.909412</td>\n",
              "      <td>-0.689281</td>\n",
              "      <td>-0.327642</td>\n",
              "      <td>-0.139097</td>\n",
              "      <td>-0.055353</td>\n",
              "      <td>-0.059752</td>\n",
              "      <td>1.160686</td>\n",
              "      <td>0</td>\n",
              "    </tr>\n",
              "    <tr>\n",
              "      <th>3</th>\n",
              "      <td>-1.996562</td>\n",
              "      <td>-0.966272</td>\n",
              "      <td>-0.185226</td>\n",
              "      <td>1.792993</td>\n",
              "      <td>-0.863291</td>\n",
              "      <td>-0.010309</td>\n",
              "      <td>1.247203</td>\n",
              "      <td>0.237609</td>\n",
              "      <td>0.377436</td>\n",
              "      <td>-1.387024</td>\n",
              "      <td>-0.054952</td>\n",
              "      <td>-0.226487</td>\n",
              "      <td>0.178228</td>\n",
              "      <td>0.507757</td>\n",
              "      <td>-0.287924</td>\n",
              "      <td>-0.631418</td>\n",
              "      <td>-1.059647</td>\n",
              "      <td>-0.684093</td>\n",
              "      <td>1.965775</td>\n",
              "      <td>-1.232622</td>\n",
              "      <td>-0.208038</td>\n",
              "      <td>-0.108300</td>\n",
              "      <td>0.005274</td>\n",
              "      <td>-0.190321</td>\n",
              "      <td>-1.175575</td>\n",
              "      <td>0.647376</td>\n",
              "      <td>-0.221929</td>\n",
              "      <td>0.062723</td>\n",
              "      <td>0.061458</td>\n",
              "      <td>0.140534</td>\n",
              "      <td>0</td>\n",
              "    </tr>\n",
              "    <tr>\n",
              "      <th>4</th>\n",
              "      <td>-1.996541</td>\n",
              "      <td>-1.158233</td>\n",
              "      <td>0.877737</td>\n",
              "      <td>1.548718</td>\n",
              "      <td>0.403034</td>\n",
              "      <td>-0.407193</td>\n",
              "      <td>0.095921</td>\n",
              "      <td>0.592941</td>\n",
              "      <td>-0.270533</td>\n",
              "      <td>0.817739</td>\n",
              "      <td>0.753074</td>\n",
              "      <td>-0.822843</td>\n",
              "      <td>0.538196</td>\n",
              "      <td>1.345852</td>\n",
              "      <td>-1.119670</td>\n",
              "      <td>0.175121</td>\n",
              "      <td>-0.451449</td>\n",
              "      <td>-0.237033</td>\n",
              "      <td>-0.038195</td>\n",
              "      <td>0.803487</td>\n",
              "      <td>0.408542</td>\n",
              "      <td>-0.009431</td>\n",
              "      <td>0.798278</td>\n",
              "      <td>-0.137458</td>\n",
              "      <td>0.141267</td>\n",
              "      <td>-0.206010</td>\n",
              "      <td>0.502292</td>\n",
              "      <td>0.219422</td>\n",
              "      <td>0.215153</td>\n",
              "      <td>-0.073403</td>\n",
              "      <td>0</td>\n",
              "    </tr>\n",
              "  </tbody>\n",
              "</table>\n",
              "</div>"
            ],
            "text/plain": [
              "       Time        V1        V2        V3  ...       V27       V28    Amount  Class\n",
              "0 -1.996583 -1.359807 -0.072781  2.536347  ...  0.133558 -0.021053  0.244964      0\n",
              "1 -1.996583  1.191857  0.266151  0.166480  ... -0.008983  0.014724 -0.342475      0\n",
              "2 -1.996562 -1.358354 -1.340163  1.773209  ... -0.055353 -0.059752  1.160686      0\n",
              "3 -1.996562 -0.966272 -0.185226  1.792993  ...  0.062723  0.061458  0.140534      0\n",
              "4 -1.996541 -1.158233  0.877737  1.548718  ...  0.219422  0.215153 -0.073403      0\n",
              "\n",
              "[5 rows x 31 columns]"
            ]
          },
          "metadata": {
            "tags": []
          },
          "execution_count": 72
        }
      ]
    },
    {
      "cell_type": "markdown",
      "metadata": {
        "id": "dvRWvAJ1W11Z",
        "colab_type": "text"
      },
      "source": [
        "### Dividir nosso conjunto de dados entre dados de teste e treino\n",
        "Antes de balancear nossos dados, devemos separar nossos dados entre treino e teste. Os dados de treino servem para treinar nosso modelo de *machine leraning*, já os dados de teste serve para testar nosso modelo já treinado e ver o quanto ele acerta com dados inéditos e compará-los."
      ]
    },
    {
      "cell_type": "code",
      "metadata": {
        "id": "9wDy546-YPbZ",
        "colab_type": "code",
        "colab": {}
      },
      "source": [
        "# separar os dados em treino e teste\n",
        "X = df_clean.drop('Class', axis=1)\n",
        "y = df_clean.Class\n",
        "\n",
        "X_train, X_test, y_train, y_test = train_test_split(X, y, stratify=y, shuffle=True)"
      ],
      "execution_count": 73,
      "outputs": []
    },
    {
      "cell_type": "markdown",
      "metadata": {
        "id": "dlUycdTeY7Ga",
        "colab_type": "text"
      },
      "source": [
        "### Balancear os dados\n",
        "\n",
        "Para balancear nossos dados vamos utilizar a biblioteca `imblearn`, que aplica técnicas de balanceamento de dados. No nosso caso vamos utilizar a *Under-sampling* que balancea os dados preservando nossa classe minoritária (nesse caso a classe 1 do nosso *dataset*)."
      ]
    },
    {
      "cell_type": "code",
      "metadata": {
        "id": "tCGgstIgZuyv",
        "colab_type": "code",
        "colab": {
          "base_uri": "https://localhost:8080/",
          "height": 370
        },
        "outputId": "0a832ea6-1a83-46c7-e805-a28a6b40c866"
      },
      "source": [
        "# usar o under-sampling\n",
        "rus = RandomUnderSampler()\n",
        "X_rus, y_rus = rus.fit_sample(X_train, y_train)\n",
        "\n",
        "# ver o balanceamento das classes\n",
        "print(f'Classe 0 (transação normal): {pd.Series(y_rus).value_counts()[0]}')\n",
        "print(f'Classe 1 (trasação fraudulenta): {pd.Series(y_rus).value_counts()[1]}\\n')\n",
        "\n",
        "# plotar um gráfico de barras para ver a distribuição das classes\n",
        "sns.countplot(y_rus);"
      ],
      "execution_count": 74,
      "outputs": [
        {
          "output_type": "stream",
          "text": [
            "Classe 0 (transação normal): 369\n",
            "Classe 1 (trasação fraudulenta): 369\n",
            "\n"
          ],
          "name": "stdout"
        },
        {
          "output_type": "stream",
          "text": [
            "/usr/local/lib/python3.6/dist-packages/sklearn/utils/deprecation.py:87: FutureWarning: Function safe_indexing is deprecated; safe_indexing is deprecated in version 0.22 and will be removed in version 0.24.\n",
            "  warnings.warn(msg, category=FutureWarning)\n"
          ],
          "name": "stderr"
        },
        {
          "output_type": "display_data",
          "data": {
            "image/png": "[encoded data removed]",
            "text/plain": [
              "<Figure size 432x288 with 1 Axes>"
            ]
          },
          "metadata": {
            "tags": [],
            "needs_background": "light"
          }
        }
      ]
    },
    {
      "cell_type": "markdown",
      "metadata": {
        "id": "XXzgv9G8a34h",
        "colab_type": "text"
      },
      "source": [
        "Vemos que agora nossos dados estão muito mais balanceados, é só comparar com nosso gráfico de barras feito anteriormente para conferir."
      ]
    },
    {
      "cell_type": "markdown",
      "metadata": {
        "id": "R7coJ9jtdd79",
        "colab_type": "text"
      },
      "source": [
        "Anteriormente havíamos plotado uma matriz de dipersão que não nos dizia nada, depois desse balanceamento vamos plotá-la novamente e vermos a diferença entre as duas."
      ]
    },
    {
      "cell_type": "code",
      "metadata": {
        "id": "kw_yumLzd9mF",
        "colab_type": "code",
        "colab": {
          "base_uri": "https://localhost:8080/",
          "height": 511
        },
        "outputId": "d7f18a27-081b-4026-b3df-4e4bc9fde5da"
      },
      "source": [
        "corr = X_train.corr()\n",
        "corr_rus = pd.DataFrame(X_rus).corr()\n",
        "\n",
        "fig, ax = plt.subplots(ncols=2, figsize=(18,8))\n",
        "fig.suptitle('Matriz de Correlação')\n",
        "\n",
        "sns.heatmap(corr, ax=ax[0], cmap='coolwarm')\n",
        "ax[0].set_title('Antes do balanceamento')\n",
        "\n",
        "sns.heatmap(corr_rus, ax=ax[1], cmap='coolwarm')\n",
        "ax[1].set_title('Depois do balanceamento')\n",
        "\n",
        "plt.show()"
      ],
      "execution_count": 75,
      "outputs": [
        {
          "output_type": "display_data",
          "data": {
            "image/png": "[encoded data removed]",
            "text/plain": [
              "<Figure size 1296x576 with 4 Axes>"
            ]
          },
          "metadata": {
            "tags": [],
            "needs_background": "light"
          }
        }
      ]
    },
    {
      "cell_type": "markdown",
      "metadata": {
        "id": "54KFeyL-fmu9",
        "colab_type": "text"
      },
      "source": [
        "Como mostrado acima, agora podemos ver mais claramente as correlações entre as colunas."
      ]
    },
    {
      "cell_type": "markdown",
      "metadata": {
        "id": "wJNH5qcjRxfX",
        "colab_type": "text"
      },
      "source": [
        "## Modelo de *Machine Learning*\n",
        "\n",
        "Agora chegou o momento de construirmos e treinarmos nosso modelo de *machine learning* e como dito anteriormente ele será feito como um modelo de Regressão Logística pois precisamos de um modelo classificador.\n",
        "\n",
        "Vamos utilizar `X_rus` e `y_rus` para treinar nosso modelo pois eles são os dados balanceados.\n"
      ]
    },
    {
      "cell_type": "code",
      "metadata": {
        "id": "lDySx8XUSMw_",
        "colab_type": "code",
        "colab": {}
      },
      "source": [
        "# instanciar e treinar o modelo de Regressão Logística\n",
        "model = LogisticRegression()\n",
        "model.fit(X_rus, y_rus)\n",
        "\n",
        "# fazer as previsões nos dados de teste\n",
        "y_pred = model.predict(X_test)"
      ],
      "execution_count": 108,
      "outputs": []
    },
    {
      "cell_type": "markdown",
      "metadata": {
        "id": "3e4ENOTYSUXi",
        "colab_type": "text"
      },
      "source": [
        "## Avaliar o desempenho do modelo\n",
        "\n",
        "Com nosso modelo já treinado e nossas previsões já feitas, vamos agora avaliar o desempenho do nosso modelo.\n",
        "\n",
        "Em alguns tipos de problemas devemos sempre tentar melhorar a acurácia do nosso modelo. Mas no nosso problema de detecção de fraudes mais importante do que a acurácia seria nosso recall, pois nossa acurácia nos diz o quanto nosso modelo tá acertando no geral, mas nosso modelo tem que priorizar detectar qual trasação é uma fraude. Não adianta meu modelo detectar 99% das transações normais mas detectar apenas 50% das fraudes.\n",
        "\n",
        "A seguir vamos ver nossas métricas imprimindo uma matriz de confusão, um relatório de classificação, bem como a acurácia e o recall do modelo.\n",
        "\n",
        "* Identificar a melhor métrica para esse tipo de modelo\n",
        "* [*Opcional*] Comparar o desempenho entre diversos modelos"
      ]
    },
    {
      "cell_type": "code",
      "metadata": {
        "id": "H1jEi7gkSe2r",
        "colab_type": "code",
        "colab": {
          "base_uri": "https://localhost:8080/",
          "height": 513
        },
        "outputId": "280bc708-f5e1-46e5-dee6-534a28f7b0c5"
      },
      "source": [
        "# plotar a matriz de confusão\n",
        "fig, ax = plt.subplots(figsize=(8,8))\n",
        "\n",
        "sns.heatmap(confusion_matrix(y_test, y_pred, normalize='true'), annot=True, ax=ax)\n",
        "ax.set_title('Matriz de Confusão')\n",
        "ax.set_ylabel('Verdadeiro')\n",
        "ax.set_xlabel('Previsto')\n",
        "plt.show()"
      ],
      "execution_count": 109,
      "outputs": [
        {
          "output_type": "display_data",
          "data": {
            "image/png": "[encoded data removed]",
            "text/plain": [
              "<Figure size 576x576 with 2 Axes>"
            ]
          },
          "metadata": {
            "tags": [],
            "needs_background": "light"
          }
        }
      ]
    },
    {
      "cell_type": "markdown",
      "metadata": {
        "id": "tcgmK9qzlIDm",
        "colab_type": "text"
      },
      "source": [
        "Na matriz de confusão vemos que nosso modelo:\n",
        "*  acertou 97% das detecções de transações normais\n",
        "*  acertou 92% das detecções de transações fraudulentas\n",
        "*  detectou, erroneamente, 8,1% de transações normais quando na verdade elas eram fraudulentas\n",
        "*  detectou, erroneamente, 2,9% de transações fraudulentas quando na verdade elas eram normais"
      ]
    },
    {
      "cell_type": "code",
      "metadata": {
        "id": "VfuTjSdMmKN7",
        "colab_type": "code",
        "colab": {
          "base_uri": "https://localhost:8080/",
          "height": 204
        },
        "outputId": "f0ab494e-36e9-4ce9-f0ec-cf1fc6ba66d6"
      },
      "source": [
        "# imprimindo o relatório de classificação\n",
        "print(f'Relatório de Classificação:\\n\\n{classification_report(y_test, y_pred, digits=4)}')"
      ],
      "execution_count": 110,
      "outputs": [
        {
          "output_type": "stream",
          "text": [
            "Relatório de Classificação:\n",
            "\n",
            "              precision    recall  f1-score   support\n",
            "\n",
            "           0     0.9999    0.9709    0.9852     71079\n",
            "           1     0.0518    0.9187    0.0981       123\n",
            "\n",
            "    accuracy                         0.9708     71202\n",
            "   macro avg     0.5258    0.9448    0.5416     71202\n",
            "weighted avg     0.9982    0.9708    0.9836     71202\n",
            "\n"
          ],
          "name": "stdout"
        }
      ]
    },
    {
      "cell_type": "code",
      "metadata": {
        "id": "iW5nKakSmqPq",
        "colab_type": "code",
        "colab": {
          "base_uri": "https://localhost:8080/",
          "height": 34
        },
        "outputId": "4f9475b3-f310-4b32-ce07-b99d95547a81"
      },
      "source": [
        "# imprimir a acurácia do modelo\n",
        "print(f'Acurácia: {accuracy_score(y_test, y_pred)*100:.4f}%')"
      ],
      "execution_count": 116,
      "outputs": [
        {
          "output_type": "stream",
          "text": [
            "Acurácia: 97.0815%\n"
          ],
          "name": "stdout"
        }
      ]
    },
    {
      "cell_type": "code",
      "metadata": {
        "id": "AC_c5ju-m9ej",
        "colab_type": "code",
        "colab": {
          "base_uri": "https://localhost:8080/",
          "height": 34
        },
        "outputId": "1b73f27f-9c45-4cdc-ac37-9983c1aa2b8c"
      },
      "source": [
        "# imprimir o recall do modelo\n",
        "print(f'Recall: {recall_score(y_test, y_pred)*100:.4f}%')"
      ],
      "execution_count": 117,
      "outputs": [
        {
          "output_type": "stream",
          "text": [
            "Recall: 91.8699%\n"
          ],
          "name": "stdout"
        }
      ]
    },
    {
      "cell_type": "markdown",
      "metadata": {
        "id": "nYwUVF8fnPQp",
        "colab_type": "text"
      },
      "source": [
        "Vemos que nosso modelo teve 97% de acurácia. A acurácia nos diz a porcentagem de acerto do nosso modelo, ou seja, em 97% dos casos nosso modelo acertou classificando transações normais ou fraudulentas.\n",
        "\n",
        "Isso não quer dizer que nosso modelo acertou 97% das vezes em que classificou como fraudulentas as transações, o que nos diz isso é o *Recall*.\n",
        "\n",
        "No nosso caso o *Recall* foi de quase 92%, o que quer dizer que nosso modelo foi capaz de detectar corretamente quase 92% de todas as transações fraudulentas."
      ]
    },
    {
      "cell_type": "markdown",
      "metadata": {
        "id": "oW1GIncRvFBP",
        "colab_type": "text"
      },
      "source": [
        "## Comparando com outro modelo de *machine learning*\n",
        "\n",
        "Montamos um modelo de Regressão Linear para detecção de fraudes em cartões de crédito e vimos suas métricas, o quanto ele acertou, etc. Mas esse não é o único modelo de *machine learning* que podemos instanciar e treinar.\n",
        "\n",
        "A seguir vamos criar um modelo de Árvore de Decisão para Classificação, treiná-lo e comparar os resultados obtidos com esse modelo com os resultados obtidos pelo modelo de Regressão Linear. Se você quiser saber mais sobre como funciona uma Árvore de Decisão acesse [este link](http://www.r2d3.us/uma-introducao-visual-ao-aprendizado-de-maquina-1/), lá tem uma explicação bem intuitiva e visual de como funciona esse modelo, e o melhor, é em português."
      ]
    },
    {
      "cell_type": "markdown",
      "metadata": {
        "id": "7q88_DlOx-33",
        "colab_type": "text"
      },
      "source": [
        "### Instanciando e treinando o modelo\n",
        "\n",
        "Esta parte é parecida com a outra de Regressão Logística, vamos instanciar o modelo com 4 níveis de profundidade (`max_depth`). Depois vamos treinar nosso modelo usando os dados já balanceados (`X_rus` e `y_rus`). E por último fazer as previsões em cima dos dados de teste."
      ]
    },
    {
      "cell_type": "code",
      "metadata": {
        "id": "CKowER5Mudku",
        "colab_type": "code",
        "colab": {}
      },
      "source": [
        "# importar o modelo de decicions tree\n",
        "from sklearn.tree import DecisionTreeClassifier\n",
        "\n",
        "# instanciar e treinar o modelo\n",
        "model2 = DecisionTreeClassifier(max_depth=4, criterion='entropy')\n",
        "\n",
        "model2.fit(X_rus, y_rus)\n",
        "\n",
        "# fazer as previsões\n",
        "y2_pred = model2.predict(X_test)"
      ],
      "execution_count": 113,
      "outputs": []
    },
    {
      "cell_type": "markdown",
      "metadata": {
        "id": "-4gvV3PTzarB",
        "colab_type": "text"
      },
      "source": [
        "### Comparando as métricas e resultados dos modelos\n",
        "\n",
        "Agora que já criamos, treinamos e fizemos previsões em cima do modelo de Árvore de Decisão, vamos comparar os resultados e as métricas de cada modelo."
      ]
    },
    {
      "cell_type": "markdown",
      "metadata": {
        "id": "morryDOmz48-",
        "colab_type": "text"
      },
      "source": [
        "Primeiro vamos plotar uma matriz de confusão para o novo modelo e compará-la à matriz de confusão do modelo de Regressão Logística."
      ]
    },
    {
      "cell_type": "code",
      "metadata": {
        "id": "rscniUL5vfvG",
        "colab_type": "code",
        "colab": {
          "base_uri": "https://localhost:8080/",
          "height": 487
        },
        "outputId": "5cee0da3-288c-4a99-d084-95bc5a43c7bc"
      },
      "source": [
        "# plotar a matriz de confusão\n",
        "fig, ax = plt.subplots(ncols=2, figsize=(19,8))\n",
        "fig.suptitle('Matriz de Confusão')\n",
        "\n",
        "sns.heatmap(confusion_matrix(y_test, y_pred, normalize='true'), annot=True, ax=ax[0])\n",
        "ax[0].set_title('Regressão Logística')\n",
        "ax[0].set_ylabel('Verdadeiro')\n",
        "ax[0].set_xlabel('Previsto')\n",
        "\n",
        "sns.heatmap(confusion_matrix(y_test, y2_pred, normalize='true'), annot=True, ax=ax[1])\n",
        "ax[1].set_title('Árvore de Decisão')\n",
        "ax[1].set_ylabel('Verdadeiro')\n",
        "ax[1].set_xlabel('Previsto')\n",
        "\n",
        "plt.show()"
      ],
      "execution_count": 114,
      "outputs": [
        {
          "output_type": "display_data",
          "data": {
            "image/png": "[encoded data removed]",
            "text/plain": [
              "<Figure size 1368x576 with 4 Axes>"
            ]
          },
          "metadata": {
            "tags": [],
            "needs_background": "light"
          }
        }
      ]
    },
    {
      "cell_type": "markdown",
      "metadata": {
        "id": "XDenZNFv8n7P",
        "colab_type": "text"
      },
      "source": [
        "Na matriz de confusão vemos que não há tanta diferença entre os dois modelos, mas ganhamos 1% de acerto na detecção de fraudes, o que já indica que esse modelo pode ser melhor do que o anterior para detectar fraudes nos cartões de crédito. Outros pontos a serem notados são:\n",
        "\n",
        "*  O modelo de Árvore de Decisão manteve os 97% de acerto na detecção de transações normais\n",
        "*  O modelo de Árvore de Decisão detectou, erroneamente, 3% de fraudes quando na verdade eram transações normais, um aumento de 0.1% comparado ao modelo de Regressão Logística\n",
        "*  O modelo de Árvore de Decisão detectou, erroneamente, 7.3% de transações normais quando na verdade eram transações fraudulentas, uma diminuição de 0.8% comparado ao modelo de Regressão Logística\n"
      ]
    },
    {
      "cell_type": "markdown",
      "metadata": {
        "id": "65C9kVx-_Phd",
        "colab_type": "text"
      },
      "source": [
        "Agora vamos imprimir o Relatório de Classificação para vermos nossas métricas para o modelo de Árvore de Decisão, vamos imprimir também a acurácia e o `Recall`."
      ]
    },
    {
      "cell_type": "code",
      "metadata": {
        "id": "Qh9eB2eZ_XdT",
        "colab_type": "code",
        "colab": {
          "base_uri": "https://localhost:8080/",
          "height": 204
        },
        "outputId": "a16bb043-0da8-4db4-b07c-02acae9d7152"
      },
      "source": [
        "# imprimir o relatório de classificação\n",
        "print(f'Relatório de Classificação:\\n\\n{classification_report(y_test, y2_pred, digits=4)}')"
      ],
      "execution_count": 115,
      "outputs": [
        {
          "output_type": "stream",
          "text": [
            "Relatório de Classificação:\n",
            "\n",
            "              precision    recall  f1-score   support\n",
            "\n",
            "           0     0.9999    0.9698    0.9846     71079\n",
            "           1     0.0505    0.9268    0.0957       123\n",
            "\n",
            "    accuracy                         0.9697     71202\n",
            "   macro avg     0.5252    0.9483    0.5402     71202\n",
            "weighted avg     0.9982    0.9697    0.9831     71202\n",
            "\n"
          ],
          "name": "stdout"
        }
      ]
    },
    {
      "cell_type": "code",
      "metadata": {
        "id": "JNdUW10z_39u",
        "colab_type": "code",
        "colab": {
          "base_uri": "https://localhost:8080/",
          "height": 34
        },
        "outputId": "88ab1ec6-75d8-4131-8c82-1ed9735c5975"
      },
      "source": [
        "# imprimir a acurácia\n",
        "print(f'Acurácia: {accuracy_score(y_test, y2_pred)*100:.4f}%')"
      ],
      "execution_count": 119,
      "outputs": [
        {
          "output_type": "stream",
          "text": [
            "Acurácia: 96.9748%\n"
          ],
          "name": "stdout"
        }
      ]
    },
    {
      "cell_type": "code",
      "metadata": {
        "id": "tzHXXQIvAO5e",
        "colab_type": "code",
        "colab": {
          "base_uri": "https://localhost:8080/",
          "height": 34
        },
        "outputId": "851d0813-3eb9-4e7d-98a1-a6645b842319"
      },
      "source": [
        "# imprimir o Recall\n",
        "print(f'Recall: {recall_score(y_test, y2_pred)*100:.4f}%')"
      ],
      "execution_count": 120,
      "outputs": [
        {
          "output_type": "stream",
          "text": [
            "Recall: 92.6829%\n"
          ],
          "name": "stdout"
        }
      ]
    },
    {
      "cell_type": "markdown",
      "metadata": {
        "id": "Ly7eb0OCAb9C",
        "colab_type": "text"
      },
      "source": [
        "Aqui percebemos algo interessante que comentamos anteriormente, neste tipo de problema é mais interessante diminuiur um pouco da acurácia pra aumentar o `Recall`. Mesmo que os valores sejam bem próximos, podemos afirmar que nosso modelo de Árvore de Decisão foi capaz de detectar corretamente mais de 92% de todas as transações fraudulentas. Enquanto o nosso modelo de Regressão Logística foi capaz de detectar menos fraudes. Em contrapartida a acurácia do modelo de Regressão Logística é um pouco maior do que a do modelo de Árvore de Decisão"
      ]
    },
    {
      "cell_type": "markdown",
      "metadata": {
        "id": "0Bj7zRZMSfO7",
        "colab_type": "text"
      },
      "source": [
        "## Conclusão\n",
        "\n",
        "Em conclusão quero deixar claro que esse foi um projeto muito trabalhoso, pois, além de ser meu primeiro projeto de *machine learning*, foi um projeto onde tive que lidar com desbalanceamento dos dados e trabalhar com a maioria das colunas com nomes desconfigurados para proteger a privacidade das transações. Passar pela Análise Exploratório dos Dados, preparar os dados e depois criar, treinar e fazer previsões usando *machine learning* não foi fácil, mas chego no final deste projeto bem feliz por tê-lo concluído.\n",
        "\n",
        "No final vimos que o modelo de Árvore de Decisão é mais indicado para este problema, mesmo o aumento parecendo (e apenas parecendo) pouco significativo. É claro que há outras maneiras de abordar o problema e construir modelos mais acertivos, mas o objetivo deste projeto é fazer um trabalho de introdução ao *machine learning*.\n",
        "\n",
        "No mais, agradeço a quem leu até aqui e deixo os links do meu portifólio do Github e do meu LinkedIn para me acompanharem em outros projetos envolvendo *Machine Learning* e *Data Science*. Até mais.\n",
        "\n",
        "[GitHub](https://github.com/johnsigma/meuPortifolio)\n",
        "\n",
        "[LinkedIn](https://www.linkedin.com/in/john-cunha-a424721aa/)"
      ]
    }
  ]
}